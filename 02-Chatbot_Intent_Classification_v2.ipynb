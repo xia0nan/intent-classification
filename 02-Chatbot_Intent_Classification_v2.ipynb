{
 "cells": [
  {
   "cell_type": "markdown",
   "metadata": {},
   "source": [
    "# Notebook Conf"
   ]
  },
  {
   "cell_type": "code",
   "execution_count": 1,
   "metadata": {},
   "outputs": [],
   "source": [
    "%load_ext autoreload\n",
    "%autoreload 2"
   ]
  },
  {
   "cell_type": "markdown",
   "metadata": {},
   "source": [
    "# Import Libraries"
   ]
  },
  {
   "cell_type": "code",
   "execution_count": 4,
   "metadata": {},
   "outputs": [],
   "source": [
    "from pathlib import Path\n",
    "import pandas as pd\n",
    "import re\n",
    "import numpy as np\n",
    "\n",
    "from nltk.tokenize import word_tokenize\n",
    "from sklearn.feature_extraction.text import TfidfVectorizer\n",
    "from sklearn.metrics.pairwise import cosine_distances\n",
    "import gensim.downloader as api\n",
    "\n",
    "PATH_PROJ = Path.home() / 'project/intent-classification'\n",
    "PATH_DATA = PATH_PROJ"
   ]
  },
  {
   "cell_type": "markdown",
   "metadata": {},
   "source": [
    "# Processing Data"
   ]
  },
  {
   "cell_type": "markdown",
   "metadata": {},
   "source": [
    "## string clean"
   ]
  },
  {
   "cell_type": "code",
   "execution_count": 5,
   "metadata": {},
   "outputs": [],
   "source": [
    "df = pd.read_csv(PATH_DATA / 'data.csv', usecols=['intent', 'query'])\n",
    "df.dropna(inplace=True)\n",
    "df = df.drop(df[df.intent == 'Late fee waiver for credit card'].index)"
   ]
  },
  {
   "cell_type": "code",
   "execution_count": 6,
   "metadata": {},
   "outputs": [],
   "source": [
    "def string_clean(text):\n",
    "    \"\"\" Basic text cleaning \"\"\"\n",
    "    # Remove numbers\n",
    "    # Remove punctuations\n",
    "    # Remove single character\n",
    "    # Stemming\n",
    "    \n",
    "    text = text.lower()\n",
    "    text = re.sub(r'[^a-z0-9\\s]', '', text)\n",
    "    return text"
   ]
  },
  {
   "cell_type": "code",
   "execution_count": 7,
   "metadata": {},
   "outputs": [],
   "source": [
    "df['query'] = df['query'].apply(string_clean)"
   ]
  },
  {
   "cell_type": "markdown",
   "metadata": {},
   "source": [
    "## tokenize"
   ]
  },
  {
   "cell_type": "code",
   "execution_count": 8,
   "metadata": {},
   "outputs": [],
   "source": [
    "# import nltk\n",
    "# nltk.download('punkt')"
   ]
  },
  {
   "cell_type": "code",
   "execution_count": 9,
   "metadata": {},
   "outputs": [],
   "source": [
    "def tokenize(wd): \n",
    "    return ' '.join(word_tokenize(wd))"
   ]
  },
  {
   "cell_type": "code",
   "execution_count": 10,
   "metadata": {},
   "outputs": [],
   "source": [
    "df['query'] = df['query'].apply(tokenize)"
   ]
  },
  {
   "cell_type": "code",
   "execution_count": 11,
   "metadata": {},
   "outputs": [
    {
     "data": {
      "text/html": [
       "<div>\n",
       "<style scoped>\n",
       "    .dataframe tbody tr th:only-of-type {\n",
       "        vertical-align: middle;\n",
       "    }\n",
       "\n",
       "    .dataframe tbody tr th {\n",
       "        vertical-align: top;\n",
       "    }\n",
       "\n",
       "    .dataframe thead th {\n",
       "        text-align: right;\n",
       "    }\n",
       "</style>\n",
       "<table border=\"1\" class=\"dataframe\">\n",
       "  <thead>\n",
       "    <tr style=\"text-align: right;\">\n",
       "      <th></th>\n",
       "      <th>intent</th>\n",
       "      <th>query</th>\n",
       "    </tr>\n",
       "  </thead>\n",
       "  <tbody>\n",
       "    <tr>\n",
       "      <th>0</th>\n",
       "      <td>Promotions</td>\n",
       "      <td>what promotions do you have</td>\n",
       "    </tr>\n",
       "    <tr>\n",
       "      <th>1</th>\n",
       "      <td>Promotions</td>\n",
       "      <td>what promotions are available</td>\n",
       "    </tr>\n",
       "    <tr>\n",
       "      <th>2</th>\n",
       "      <td>Promotions</td>\n",
       "      <td>promotions</td>\n",
       "    </tr>\n",
       "    <tr>\n",
       "      <th>3</th>\n",
       "      <td>Promotions</td>\n",
       "      <td>i want to see promotions</td>\n",
       "    </tr>\n",
       "    <tr>\n",
       "      <th>4</th>\n",
       "      <td>Promotions</td>\n",
       "      <td>view promotions</td>\n",
       "    </tr>\n",
       "  </tbody>\n",
       "</table>\n",
       "</div>"
      ],
      "text/plain": [
       "       intent                          query\n",
       "0  Promotions    what promotions do you have\n",
       "1  Promotions  what promotions are available\n",
       "2  Promotions                     promotions\n",
       "3  Promotions       i want to see promotions\n",
       "4  Promotions                view promotions"
      ]
     },
     "execution_count": 11,
     "metadata": {},
     "output_type": "execute_result"
    }
   ],
   "source": [
    "df.head()"
   ]
  },
  {
   "cell_type": "markdown",
   "metadata": {},
   "source": [
    "# Modeling"
   ]
  },
  {
   "cell_type": "markdown",
   "metadata": {},
   "source": [
    "## TFIDF"
   ]
  },
  {
   "cell_type": "code",
   "execution_count": 12,
   "metadata": {},
   "outputs": [],
   "source": [
    "# vectorizer = TfidfVectorizer(lowercase=True, stop_words=\"english\", ngram_range=(1, 3))\n",
    "# tfidf = vectorizer.fit_transform(df['query'].values.astype('U'))"
   ]
  },
  {
   "cell_type": "markdown",
   "metadata": {},
   "source": [
    "## word2vec "
   ]
  },
  {
   "cell_type": "code",
   "execution_count": 13,
   "metadata": {},
   "outputs": [],
   "source": [
    "word2vec = api.load(\"word2vec-google-news-300\")  "
   ]
  },
  {
   "cell_type": "code",
   "execution_count": 14,
   "metadata": {},
   "outputs": [],
   "source": [
    "# request for easicredit late fee waiver"
   ]
  },
  {
   "cell_type": "code",
   "execution_count": 36,
   "metadata": {},
   "outputs": [],
   "source": [
    "def get_sentence_vec(sentence, word2vec):\n",
    "    words = sentence.split()\n",
    "    words = [word for word in words if word in word2vec.vocab]\n",
    "    if len(words)==0:\n",
    "        return np.zeros((300,), dtype='float32')\n",
    "    emb = word2vec[words].mean(axis=0)\n",
    "    return emb\n",
    "\n",
    "def get_sentence_centre(sentence_list, word2vec, num_features):\n",
    "    emb = np.zeros((num_features, ), dtype='float32')\n",
    "    sentence_count = 0\n",
    "    for sentence in sentence_list:\n",
    "        sentence_count += 1\n",
    "        emb = emb + get_sentence_vec(sentence, word2vec)\n",
    "    return emb / sentence_count"
   ]
  },
  {
   "cell_type": "markdown",
   "metadata": {},
   "source": [
    "## cluster mean of all queries"
   ]
  },
  {
   "cell_type": "code",
   "execution_count": 33,
   "metadata": {},
   "outputs": [],
   "source": [
    "intent_list = df.intent.unique().tolist()"
   ]
  },
  {
   "cell_type": "code",
   "execution_count": 34,
   "metadata": {},
   "outputs": [],
   "source": [
    "def get_cluster_centre(intent_list, word2vec):\n",
    "    result = {}\n",
    "    for intent in intent_list:\n",
    "        result[intent] = get_sentence_centre(df[df.intent == intent]['query'].values, word2vec, 300)\n",
    "    return result"
   ]
  },
  {
   "cell_type": "code",
   "execution_count": 37,
   "metadata": {},
   "outputs": [],
   "source": [
    "sentence_centre_dic = get_cluster_centre(intent_list, word2vec)"
   ]
  },
  {
   "cell_type": "code",
   "execution_count": 38,
   "metadata": {},
   "outputs": [],
   "source": [
    "df_result = df.copy()\n",
    "for intent in intent_list:\n",
    "    df_result[intent] = df_result['query'].apply(lambda x: cosine_distances(get_sentence_vec(x, word2vec).reshape(1,-1), \n",
    "                                     sentence_centre_dic[intent].reshape(1,-1)).item())"
   ]
  },
  {
   "cell_type": "code",
   "execution_count": 39,
   "metadata": {},
   "outputs": [
    {
     "data": {
      "text/html": [
       "<div>\n",
       "<style scoped>\n",
       "    .dataframe tbody tr th:only-of-type {\n",
       "        vertical-align: middle;\n",
       "    }\n",
       "\n",
       "    .dataframe tbody tr th {\n",
       "        vertical-align: top;\n",
       "    }\n",
       "\n",
       "    .dataframe thead th {\n",
       "        text-align: right;\n",
       "    }\n",
       "</style>\n",
       "<table border=\"1\" class=\"dataframe\">\n",
       "  <thead>\n",
       "    <tr style=\"text-align: right;\">\n",
       "      <th></th>\n",
       "      <th>intent</th>\n",
       "      <th>query</th>\n",
       "      <th>Promotions</th>\n",
       "      <th>Card Promotions</th>\n",
       "      <th>Open Account</th>\n",
       "      <th>OCBC Singapore Account</th>\n",
       "      <th>OCBC Securities Account</th>\n",
       "      <th>OCBC Malaysia Account</th>\n",
       "      <th>NISP Account</th>\n",
       "      <th>Card Cancellation</th>\n",
       "      <th>...</th>\n",
       "      <th>Credit card application rejection</th>\n",
       "      <th>Rebates</th>\n",
       "      <th>How to redeem rewards</th>\n",
       "      <th>360 Account interest dispute</th>\n",
       "      <th>Statement Request</th>\n",
       "      <th>Passbook savings account statement</th>\n",
       "      <th>Credit card statement</th>\n",
       "      <th>Debit card statement</th>\n",
       "      <th>Investment account statement</th>\n",
       "      <th>Update details</th>\n",
       "    </tr>\n",
       "  </thead>\n",
       "  <tbody>\n",
       "    <tr>\n",
       "      <th>0</th>\n",
       "      <td>Promotions</td>\n",
       "      <td>what promotions do you have</td>\n",
       "      <td>0.178410</td>\n",
       "      <td>0.290107</td>\n",
       "      <td>0.511844</td>\n",
       "      <td>0.557279</td>\n",
       "      <td>0.631671</td>\n",
       "      <td>0.661682</td>\n",
       "      <td>0.461206</td>\n",
       "      <td>0.559563</td>\n",
       "      <td>...</td>\n",
       "      <td>0.502403</td>\n",
       "      <td>0.406131</td>\n",
       "      <td>0.393889</td>\n",
       "      <td>0.523117</td>\n",
       "      <td>0.332899</td>\n",
       "      <td>0.526322</td>\n",
       "      <td>0.427617</td>\n",
       "      <td>0.456662</td>\n",
       "      <td>0.403752</td>\n",
       "      <td>0.450933</td>\n",
       "    </tr>\n",
       "    <tr>\n",
       "      <th>1</th>\n",
       "      <td>Promotions</td>\n",
       "      <td>what promotions are available</td>\n",
       "      <td>0.204849</td>\n",
       "      <td>0.340928</td>\n",
       "      <td>0.630432</td>\n",
       "      <td>0.665373</td>\n",
       "      <td>0.677790</td>\n",
       "      <td>0.717156</td>\n",
       "      <td>0.592525</td>\n",
       "      <td>0.713416</td>\n",
       "      <td>...</td>\n",
       "      <td>0.611759</td>\n",
       "      <td>0.534145</td>\n",
       "      <td>0.581964</td>\n",
       "      <td>0.568140</td>\n",
       "      <td>0.593805</td>\n",
       "      <td>0.670499</td>\n",
       "      <td>0.641263</td>\n",
       "      <td>0.658776</td>\n",
       "      <td>0.616404</td>\n",
       "      <td>0.572033</td>\n",
       "    </tr>\n",
       "    <tr>\n",
       "      <th>2</th>\n",
       "      <td>Promotions</td>\n",
       "      <td>promotions</td>\n",
       "      <td>0.170245</td>\n",
       "      <td>0.313105</td>\n",
       "      <td>0.865135</td>\n",
       "      <td>0.882628</td>\n",
       "      <td>0.871575</td>\n",
       "      <td>0.880556</td>\n",
       "      <td>0.865212</td>\n",
       "      <td>0.755802</td>\n",
       "      <td>...</td>\n",
       "      <td>0.776364</td>\n",
       "      <td>0.718589</td>\n",
       "      <td>0.824465</td>\n",
       "      <td>0.758087</td>\n",
       "      <td>0.901096</td>\n",
       "      <td>0.868723</td>\n",
       "      <td>0.823399</td>\n",
       "      <td>0.845818</td>\n",
       "      <td>0.838721</td>\n",
       "      <td>0.868095</td>\n",
       "    </tr>\n",
       "    <tr>\n",
       "      <th>3</th>\n",
       "      <td>Promotions</td>\n",
       "      <td>i want to see promotions</td>\n",
       "      <td>0.157523</td>\n",
       "      <td>0.265592</td>\n",
       "      <td>0.533925</td>\n",
       "      <td>0.559165</td>\n",
       "      <td>0.628026</td>\n",
       "      <td>0.621109</td>\n",
       "      <td>0.476660</td>\n",
       "      <td>0.537391</td>\n",
       "      <td>...</td>\n",
       "      <td>0.518104</td>\n",
       "      <td>0.427042</td>\n",
       "      <td>0.439173</td>\n",
       "      <td>0.594979</td>\n",
       "      <td>0.336800</td>\n",
       "      <td>0.537262</td>\n",
       "      <td>0.426505</td>\n",
       "      <td>0.424465</td>\n",
       "      <td>0.451911</td>\n",
       "      <td>0.480753</td>\n",
       "    </tr>\n",
       "    <tr>\n",
       "      <th>4</th>\n",
       "      <td>Promotions</td>\n",
       "      <td>view promotions</td>\n",
       "      <td>0.203142</td>\n",
       "      <td>0.333202</td>\n",
       "      <td>0.715974</td>\n",
       "      <td>0.735376</td>\n",
       "      <td>0.744739</td>\n",
       "      <td>0.736754</td>\n",
       "      <td>0.704219</td>\n",
       "      <td>0.722977</td>\n",
       "      <td>...</td>\n",
       "      <td>0.698798</td>\n",
       "      <td>0.632960</td>\n",
       "      <td>0.739473</td>\n",
       "      <td>0.630649</td>\n",
       "      <td>0.771172</td>\n",
       "      <td>0.755724</td>\n",
       "      <td>0.704092</td>\n",
       "      <td>0.745594</td>\n",
       "      <td>0.721117</td>\n",
       "      <td>0.751306</td>\n",
       "    </tr>\n",
       "  </tbody>\n",
       "</table>\n",
       "<p>5 rows × 46 columns</p>\n",
       "</div>"
      ],
      "text/plain": [
       "       intent                          query  Promotions  Card Promotions  \\\n",
       "0  Promotions    what promotions do you have    0.178410         0.290107   \n",
       "1  Promotions  what promotions are available    0.204849         0.340928   \n",
       "2  Promotions                     promotions    0.170245         0.313105   \n",
       "3  Promotions       i want to see promotions    0.157523         0.265592   \n",
       "4  Promotions                view promotions    0.203142         0.333202   \n",
       "\n",
       "   Open Account  OCBC Singapore Account  OCBC Securities Account   \\\n",
       "0      0.511844                0.557279                  0.631671   \n",
       "1      0.630432                0.665373                  0.677790   \n",
       "2      0.865135                0.882628                  0.871575   \n",
       "3      0.533925                0.559165                  0.628026   \n",
       "4      0.715974                0.735376                  0.744739   \n",
       "\n",
       "   OCBC Malaysia Account  NISP Account  Card Cancellation  ...  \\\n",
       "0               0.661682      0.461206           0.559563  ...   \n",
       "1               0.717156      0.592525           0.713416  ...   \n",
       "2               0.880556      0.865212           0.755802  ...   \n",
       "3               0.621109      0.476660           0.537391  ...   \n",
       "4               0.736754      0.704219           0.722977  ...   \n",
       "\n",
       "   Credit card application rejection   Rebates  How to redeem rewards  \\\n",
       "0                           0.502403  0.406131               0.393889   \n",
       "1                           0.611759  0.534145               0.581964   \n",
       "2                           0.776364  0.718589               0.824465   \n",
       "3                           0.518104  0.427042               0.439173   \n",
       "4                           0.698798  0.632960               0.739473   \n",
       "\n",
       "   360 Account interest dispute  Statement Request  \\\n",
       "0                      0.523117           0.332899   \n",
       "1                      0.568140           0.593805   \n",
       "2                      0.758087           0.901096   \n",
       "3                      0.594979           0.336800   \n",
       "4                      0.630649           0.771172   \n",
       "\n",
       "   Passbook savings account statement  Credit card statement  \\\n",
       "0                            0.526322               0.427617   \n",
       "1                            0.670499               0.641263   \n",
       "2                            0.868723               0.823399   \n",
       "3                            0.537262               0.426505   \n",
       "4                            0.755724               0.704092   \n",
       "\n",
       "   Debit card statement  Investment account statement  Update details  \n",
       "0              0.456662                      0.403752        0.450933  \n",
       "1              0.658776                      0.616404        0.572033  \n",
       "2              0.845818                      0.838721        0.868095  \n",
       "3              0.424465                      0.451911        0.480753  \n",
       "4              0.745594                      0.721117        0.751306  \n",
       "\n",
       "[5 rows x 46 columns]"
      ]
     },
     "execution_count": 39,
     "metadata": {},
     "output_type": "execute_result"
    }
   ],
   "source": [
    "df_result.head()"
   ]
  },
  {
   "cell_type": "code",
   "execution_count": 40,
   "metadata": {},
   "outputs": [],
   "source": [
    "# df.to_csv(PATH_DATA / 'data2.csv')"
   ]
  },
  {
   "cell_type": "code",
   "execution_count": 41,
   "metadata": {},
   "outputs": [
    {
     "data": {
      "text/plain": [
       "0.8987341772151899"
      ]
     },
     "execution_count": 41,
     "metadata": {},
     "output_type": "execute_result"
    }
   ],
   "source": [
    "df_tmp = df_result.copy()\n",
    "df_tmp.set_index(['intent', 'query'], inplace=True)\n",
    "df_tmp['cluster'] = df_tmp.idxmin(axis=1)\n",
    "df_tmp.reset_index(inplace=True)\n",
    "df_tmp['correct'] = (df_tmp.cluster == df_tmp.intent)\n",
    "sum(df_tmp.correct) / len(df_tmp)"
   ]
  },
  {
   "cell_type": "markdown",
   "metadata": {},
   "source": [
    "## cluster leave one out"
   ]
  },
  {
   "cell_type": "code",
   "execution_count": 23,
   "metadata": {},
   "outputs": [],
   "source": [
    "def get_cluster_centre(df, intent_list, word2vec):\n",
    "    result = {}\n",
    "    for intent in intent_list:\n",
    "        df_tmp = df[df.intent == intent]\n",
    "        sentence_centre_tmp = get_sentence_centre(df_tmp['query'].values, word2vec, 300)\n",
    "        result[intent] = sentence_centre_tmp\n",
    "    return result"
   ]
  },
  {
   "cell_type": "code",
   "execution_count": 24,
   "metadata": {},
   "outputs": [],
   "source": [
    "intent_list = df.intent.unique().tolist()\n",
    "sentence_distance = []\n",
    "for ind in df.index:\n",
    "    sentence_distance_tmp = []\n",
    "    query = df.loc[ind, 'query']\n",
    "    df_data = df.drop(ind)\n",
    "    sentence_centre_dic = get_cluster_centre(df_data, intent_list, word2vec)\n",
    "    for intent in intent_list:\n",
    "        sentence_distance_tmp.append(cosine_distances(get_sentence_vec(query, word2vec).reshape(1,-1), \n",
    "                                                      sentence_centre_dic[intent].reshape(1,-1)).item())\n",
    "    sentence_distance.append(sentence_distance_tmp)"
   ]
  },
  {
   "cell_type": "code",
   "execution_count": 25,
   "metadata": {},
   "outputs": [],
   "source": [
    "df_sentence_distance = pd.DataFrame(sentence_distance, columns=intent_list)"
   ]
  },
  {
   "cell_type": "code",
   "execution_count": 26,
   "metadata": {},
   "outputs": [
    {
     "data": {
      "text/html": [
       "<div>\n",
       "<style scoped>\n",
       "    .dataframe tbody tr th:only-of-type {\n",
       "        vertical-align: middle;\n",
       "    }\n",
       "\n",
       "    .dataframe tbody tr th {\n",
       "        vertical-align: top;\n",
       "    }\n",
       "\n",
       "    .dataframe thead th {\n",
       "        text-align: right;\n",
       "    }\n",
       "</style>\n",
       "<table border=\"1\" class=\"dataframe\">\n",
       "  <thead>\n",
       "    <tr style=\"text-align: right;\">\n",
       "      <th></th>\n",
       "      <th>Promotions</th>\n",
       "      <th>Card Promotions</th>\n",
       "      <th>Open Account</th>\n",
       "      <th>OCBC Singapore Account</th>\n",
       "      <th>OCBC Securities Account</th>\n",
       "      <th>OCBC Malaysia Account</th>\n",
       "      <th>NISP Account</th>\n",
       "      <th>Card Cancellation</th>\n",
       "      <th>Cancel Credit or Debit Card</th>\n",
       "      <th>Cancel ATM Card</th>\n",
       "      <th>...</th>\n",
       "      <th>Credit card application rejection</th>\n",
       "      <th>Rebates</th>\n",
       "      <th>How to redeem rewards</th>\n",
       "      <th>360 Account interest dispute</th>\n",
       "      <th>Statement Request</th>\n",
       "      <th>Passbook savings account statement</th>\n",
       "      <th>Credit card statement</th>\n",
       "      <th>Debit card statement</th>\n",
       "      <th>Investment account statement</th>\n",
       "      <th>Update details</th>\n",
       "    </tr>\n",
       "  </thead>\n",
       "  <tbody>\n",
       "    <tr>\n",
       "      <th>0</th>\n",
       "      <td>0.218198</td>\n",
       "      <td>0.290107</td>\n",
       "      <td>0.511844</td>\n",
       "      <td>0.557279</td>\n",
       "      <td>0.631671</td>\n",
       "      <td>0.661682</td>\n",
       "      <td>0.461206</td>\n",
       "      <td>0.559563</td>\n",
       "      <td>0.454213</td>\n",
       "      <td>0.598181</td>\n",
       "      <td>...</td>\n",
       "      <td>0.502403</td>\n",
       "      <td>0.406131</td>\n",
       "      <td>0.393889</td>\n",
       "      <td>0.523117</td>\n",
       "      <td>0.332899</td>\n",
       "      <td>0.526322</td>\n",
       "      <td>0.427617</td>\n",
       "      <td>0.456662</td>\n",
       "      <td>0.403752</td>\n",
       "      <td>0.450933</td>\n",
       "    </tr>\n",
       "    <tr>\n",
       "      <th>1</th>\n",
       "      <td>0.251088</td>\n",
       "      <td>0.340928</td>\n",
       "      <td>0.630432</td>\n",
       "      <td>0.665373</td>\n",
       "      <td>0.677790</td>\n",
       "      <td>0.717156</td>\n",
       "      <td>0.592525</td>\n",
       "      <td>0.713416</td>\n",
       "      <td>0.663860</td>\n",
       "      <td>0.721407</td>\n",
       "      <td>...</td>\n",
       "      <td>0.611759</td>\n",
       "      <td>0.534145</td>\n",
       "      <td>0.581964</td>\n",
       "      <td>0.568140</td>\n",
       "      <td>0.593805</td>\n",
       "      <td>0.670499</td>\n",
       "      <td>0.641263</td>\n",
       "      <td>0.658776</td>\n",
       "      <td>0.616404</td>\n",
       "      <td>0.572033</td>\n",
       "    </tr>\n",
       "    <tr>\n",
       "      <th>2</th>\n",
       "      <td>0.266201</td>\n",
       "      <td>0.313105</td>\n",
       "      <td>0.865135</td>\n",
       "      <td>0.882628</td>\n",
       "      <td>0.871575</td>\n",
       "      <td>0.880556</td>\n",
       "      <td>0.865212</td>\n",
       "      <td>0.755802</td>\n",
       "      <td>0.784507</td>\n",
       "      <td>0.787300</td>\n",
       "      <td>...</td>\n",
       "      <td>0.776364</td>\n",
       "      <td>0.718589</td>\n",
       "      <td>0.824465</td>\n",
       "      <td>0.758087</td>\n",
       "      <td>0.901096</td>\n",
       "      <td>0.868723</td>\n",
       "      <td>0.823399</td>\n",
       "      <td>0.845818</td>\n",
       "      <td>0.838721</td>\n",
       "      <td>0.868095</td>\n",
       "    </tr>\n",
       "    <tr>\n",
       "      <th>3</th>\n",
       "      <td>0.196116</td>\n",
       "      <td>0.265592</td>\n",
       "      <td>0.533925</td>\n",
       "      <td>0.559165</td>\n",
       "      <td>0.628026</td>\n",
       "      <td>0.621109</td>\n",
       "      <td>0.476660</td>\n",
       "      <td>0.537391</td>\n",
       "      <td>0.439020</td>\n",
       "      <td>0.516074</td>\n",
       "      <td>...</td>\n",
       "      <td>0.518104</td>\n",
       "      <td>0.427042</td>\n",
       "      <td>0.439173</td>\n",
       "      <td>0.594979</td>\n",
       "      <td>0.336800</td>\n",
       "      <td>0.537262</td>\n",
       "      <td>0.426505</td>\n",
       "      <td>0.424465</td>\n",
       "      <td>0.451911</td>\n",
       "      <td>0.480753</td>\n",
       "    </tr>\n",
       "    <tr>\n",
       "      <th>4</th>\n",
       "      <td>0.270685</td>\n",
       "      <td>0.333202</td>\n",
       "      <td>0.715974</td>\n",
       "      <td>0.735376</td>\n",
       "      <td>0.744739</td>\n",
       "      <td>0.736754</td>\n",
       "      <td>0.704219</td>\n",
       "      <td>0.722977</td>\n",
       "      <td>0.727041</td>\n",
       "      <td>0.749748</td>\n",
       "      <td>...</td>\n",
       "      <td>0.698798</td>\n",
       "      <td>0.632960</td>\n",
       "      <td>0.739473</td>\n",
       "      <td>0.630649</td>\n",
       "      <td>0.771172</td>\n",
       "      <td>0.755724</td>\n",
       "      <td>0.704092</td>\n",
       "      <td>0.745594</td>\n",
       "      <td>0.721117</td>\n",
       "      <td>0.751306</td>\n",
       "    </tr>\n",
       "  </tbody>\n",
       "</table>\n",
       "<p>5 rows × 44 columns</p>\n",
       "</div>"
      ],
      "text/plain": [
       "   Promotions  Card Promotions  Open Account  OCBC Singapore Account  \\\n",
       "0    0.218198         0.290107      0.511844                0.557279   \n",
       "1    0.251088         0.340928      0.630432                0.665373   \n",
       "2    0.266201         0.313105      0.865135                0.882628   \n",
       "3    0.196116         0.265592      0.533925                0.559165   \n",
       "4    0.270685         0.333202      0.715974                0.735376   \n",
       "\n",
       "   OCBC Securities Account   OCBC Malaysia Account  NISP Account  \\\n",
       "0                  0.631671               0.661682      0.461206   \n",
       "1                  0.677790               0.717156      0.592525   \n",
       "2                  0.871575               0.880556      0.865212   \n",
       "3                  0.628026               0.621109      0.476660   \n",
       "4                  0.744739               0.736754      0.704219   \n",
       "\n",
       "   Card Cancellation  Cancel Credit or Debit Card  Cancel ATM Card  ...  \\\n",
       "0           0.559563                     0.454213         0.598181  ...   \n",
       "1           0.713416                     0.663860         0.721407  ...   \n",
       "2           0.755802                     0.784507         0.787300  ...   \n",
       "3           0.537391                     0.439020         0.516074  ...   \n",
       "4           0.722977                     0.727041         0.749748  ...   \n",
       "\n",
       "   Credit card application rejection   Rebates  How to redeem rewards  \\\n",
       "0                           0.502403  0.406131               0.393889   \n",
       "1                           0.611759  0.534145               0.581964   \n",
       "2                           0.776364  0.718589               0.824465   \n",
       "3                           0.518104  0.427042               0.439173   \n",
       "4                           0.698798  0.632960               0.739473   \n",
       "\n",
       "   360 Account interest dispute  Statement Request  \\\n",
       "0                      0.523117           0.332899   \n",
       "1                      0.568140           0.593805   \n",
       "2                      0.758087           0.901096   \n",
       "3                      0.594979           0.336800   \n",
       "4                      0.630649           0.771172   \n",
       "\n",
       "   Passbook savings account statement  Credit card statement  \\\n",
       "0                            0.526322               0.427617   \n",
       "1                            0.670499               0.641263   \n",
       "2                            0.868723               0.823399   \n",
       "3                            0.537262               0.426505   \n",
       "4                            0.755724               0.704092   \n",
       "\n",
       "   Debit card statement  Investment account statement  Update details  \n",
       "0              0.456662                      0.403752        0.450933  \n",
       "1              0.658776                      0.616404        0.572033  \n",
       "2              0.845818                      0.838721        0.868095  \n",
       "3              0.424465                      0.451911        0.480753  \n",
       "4              0.745594                      0.721117        0.751306  \n",
       "\n",
       "[5 rows x 44 columns]"
      ]
     },
     "execution_count": 26,
     "metadata": {},
     "output_type": "execute_result"
    }
   ],
   "source": [
    "df_sentence_distance.head()"
   ]
  },
  {
   "cell_type": "code",
   "execution_count": 27,
   "metadata": {},
   "outputs": [],
   "source": [
    "df.reset_index(drop=True, inplace=True)"
   ]
  },
  {
   "cell_type": "code",
   "execution_count": 28,
   "metadata": {},
   "outputs": [],
   "source": [
    "df_result_2 = pd.concat([df, df_sentence_distance], axis=1)"
   ]
  },
  {
   "cell_type": "code",
   "execution_count": 29,
   "metadata": {},
   "outputs": [
    {
     "data": {
      "text/plain": [
       "(395, 46)"
      ]
     },
     "execution_count": 29,
     "metadata": {},
     "output_type": "execute_result"
    }
   ],
   "source": [
    "df_result_2.shape"
   ]
  },
  {
   "cell_type": "code",
   "execution_count": 31,
   "metadata": {},
   "outputs": [
    {
     "data": {
      "text/plain": [
       "0.7772151898734178"
      ]
     },
     "execution_count": 31,
     "metadata": {},
     "output_type": "execute_result"
    }
   ],
   "source": [
    "df_tmp = df_result_2.copy()\n",
    "df_tmp.set_index(['intent', 'query'], inplace=True)\n",
    "df_tmp['cluster'] = df_tmp.idxmin(axis=1)\n",
    "df_tmp.reset_index(inplace=True)\n",
    "df_tmp['correct'] = (df_tmp.cluster == df_tmp.intent)\n",
    "sum(df_tmp.correct) / len(df_tmp)"
   ]
  },
  {
   "cell_type": "code",
   "execution_count": 145,
   "metadata": {},
   "outputs": [],
   "source": [
    "df_result_2.to_csv('data_leave_one_out.csv')"
   ]
  },
  {
   "cell_type": "code",
   "execution_count": null,
   "metadata": {},
   "outputs": [],
   "source": []
  }
 ],
 "metadata": {
  "kernelspec": {
   "display_name": "Python [conda env:alert]",
   "language": "python",
   "name": "conda-env-alert-py"
  },
  "language_info": {
   "codemirror_mode": {
    "name": "ipython",
    "version": 3
   },
   "file_extension": ".py",
   "mimetype": "text/x-python",
   "name": "python",
   "nbconvert_exporter": "python",
   "pygments_lexer": "ipython3",
   "version": "3.6.10"
  },
  "toc-autonumbering": true
 },
 "nbformat": 4,
 "nbformat_minor": 4
}
