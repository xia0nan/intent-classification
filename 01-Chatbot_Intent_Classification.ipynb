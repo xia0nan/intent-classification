{
 "cells": [
  {
   "cell_type": "markdown",
   "metadata": {
    "colab_type": "text",
    "id": "7nbeGb2x2sZv"
   },
   "source": [
    "# Chatbot intent classification"
   ]
  },
  {
   "cell_type": "markdown",
   "metadata": {
    "colab_type": "text",
    "id": "ELs5VOF6EcGF"
   },
   "source": [
    "## 0. Load data"
   ]
  },
  {
   "cell_type": "code",
   "execution_count": 0,
   "metadata": {
    "colab": {},
    "colab_type": "code",
    "id": "zL582W93Ehsu"
   },
   "outputs": [],
   "source": [
    "import numpy as np\n",
    "import pandas as pd"
   ]
  },
  {
   "cell_type": "code",
   "execution_count": 0,
   "metadata": {
    "colab": {},
    "colab_type": "code",
    "id": "IqWfff9v2xj2"
   },
   "outputs": [],
   "source": [
    "# read data\n",
    "df = pd.read_csv(\"data.csv\")\n",
    "df = df.dropna()"
   ]
  },
  {
   "cell_type": "code",
   "execution_count": 5,
   "metadata": {
    "colab": {
     "base_uri": "https://localhost:8080/",
     "height": 204
    },
    "colab_type": "code",
    "id": "AX1TfPwFCggW",
    "outputId": "f92bc2a1-cf7b-4cc7-989a-2de25986adbc"
   },
   "outputs": [
    {
     "data": {
      "text/html": [
       "<div>\n",
       "<style scoped>\n",
       "    .dataframe tbody tr th:only-of-type {\n",
       "        vertical-align: middle;\n",
       "    }\n",
       "\n",
       "    .dataframe tbody tr th {\n",
       "        vertical-align: top;\n",
       "    }\n",
       "\n",
       "    .dataframe thead th {\n",
       "        text-align: right;\n",
       "    }\n",
       "</style>\n",
       "<table border=\"1\" class=\"dataframe\">\n",
       "  <thead>\n",
       "    <tr style=\"text-align: right;\">\n",
       "      <th></th>\n",
       "      <th>label</th>\n",
       "      <th>intent</th>\n",
       "      <th>query</th>\n",
       "    </tr>\n",
       "  </thead>\n",
       "  <tbody>\n",
       "    <tr>\n",
       "      <th>0</th>\n",
       "      <td>0</td>\n",
       "      <td>Promotions</td>\n",
       "      <td>what promotions do you have?</td>\n",
       "    </tr>\n",
       "    <tr>\n",
       "      <th>1</th>\n",
       "      <td>0</td>\n",
       "      <td>Promotions</td>\n",
       "      <td>what promotions are available?</td>\n",
       "    </tr>\n",
       "    <tr>\n",
       "      <th>2</th>\n",
       "      <td>0</td>\n",
       "      <td>Promotions</td>\n",
       "      <td>promotions</td>\n",
       "    </tr>\n",
       "    <tr>\n",
       "      <th>3</th>\n",
       "      <td>0</td>\n",
       "      <td>Promotions</td>\n",
       "      <td>I want to see promotions</td>\n",
       "    </tr>\n",
       "    <tr>\n",
       "      <th>4</th>\n",
       "      <td>0</td>\n",
       "      <td>Promotions</td>\n",
       "      <td>view promotions</td>\n",
       "    </tr>\n",
       "  </tbody>\n",
       "</table>\n",
       "</div>"
      ],
      "text/plain": [
       "   label      intent                           query\n",
       "0      0  Promotions    what promotions do you have?\n",
       "1      0  Promotions  what promotions are available?\n",
       "2      0  Promotions                      promotions\n",
       "3      0  Promotions        I want to see promotions\n",
       "4      0  Promotions                 view promotions"
      ]
     },
     "execution_count": 5,
     "metadata": {
      "tags": []
     },
     "output_type": "execute_result"
    }
   ],
   "source": [
    "df.head()"
   ]
  },
  {
   "cell_type": "code",
   "execution_count": 6,
   "metadata": {
    "colab": {
     "base_uri": "https://localhost:8080/",
     "height": 34
    },
    "colab_type": "code",
    "id": "I4ub5jOPEVNC",
    "outputId": "316d68a8-c1b0-4505-a745-19841c3b800c"
   },
   "outputs": [
    {
     "data": {
      "text/plain": [
       "(396, 3)"
      ]
     },
     "execution_count": 6,
     "metadata": {
      "tags": []
     },
     "output_type": "execute_result"
    }
   ],
   "source": [
    "df.shape"
   ]
  },
  {
   "cell_type": "code",
   "execution_count": 7,
   "metadata": {
    "colab": {
     "base_uri": "https://localhost:8080/",
     "height": 799
    },
    "colab_type": "code",
    "id": "Cy9LqkMICkcB",
    "outputId": "3c1ebb03-7c27-44bd-cd3e-bb93e7f56840"
   },
   "outputs": [
    {
     "data": {
      "text/plain": [
       "9     24\n",
       "11    18\n",
       "29    18\n",
       "59    16\n",
       "49    15\n",
       "22    12\n",
       "35    12\n",
       "36    12\n",
       "19    11\n",
       "18    10\n",
       "48    10\n",
       "37    10\n",
       "38     9\n",
       "2      9\n",
       "58     9\n",
       "34     9\n",
       "33     9\n",
       "0      9\n",
       "46     9\n",
       "57     8\n",
       "42     8\n",
       "40     8\n",
       "23     8\n",
       "3      7\n",
       "4      7\n",
       "56     7\n",
       "10     7\n",
       "47     7\n",
       "21     7\n",
       "39     7\n",
       "24     7\n",
       "45     7\n",
       "44     7\n",
       "41     7\n",
       "20     7\n",
       "25     6\n",
       "54     6\n",
       "8      6\n",
       "7      6\n",
       "43     6\n",
       "26     5\n",
       "5      5\n",
       "55     4\n",
       "6      4\n",
       "31     1\n",
       "Name: label, dtype: int64"
      ]
     },
     "execution_count": 7,
     "metadata": {
      "tags": []
     },
     "output_type": "execute_result"
    }
   ],
   "source": [
    "df.label.value_counts()"
   ]
  },
  {
   "cell_type": "code",
   "execution_count": 0,
   "metadata": {
    "colab": {},
    "colab_type": "code",
    "id": "446LgOSwCyF7"
   },
   "outputs": [],
   "source": [
    "df = df.drop(df[df.label == 31].index)"
   ]
  },
  {
   "cell_type": "code",
   "execution_count": 9,
   "metadata": {
    "colab": {
     "base_uri": "https://localhost:8080/",
     "height": 782
    },
    "colab_type": "code",
    "id": "SMbuae0IEKge",
    "outputId": "f17c7962-0351-489a-fd17-4961e1f2be3f"
   },
   "outputs": [
    {
     "data": {
      "text/plain": [
       "9     24\n",
       "11    18\n",
       "29    18\n",
       "59    16\n",
       "49    15\n",
       "22    12\n",
       "35    12\n",
       "36    12\n",
       "19    11\n",
       "18    10\n",
       "48    10\n",
       "37    10\n",
       "38     9\n",
       "2      9\n",
       "58     9\n",
       "34     9\n",
       "33     9\n",
       "0      9\n",
       "46     9\n",
       "57     8\n",
       "42     8\n",
       "40     8\n",
       "23     8\n",
       "21     7\n",
       "3      7\n",
       "4      7\n",
       "56     7\n",
       "10     7\n",
       "47     7\n",
       "39     7\n",
       "24     7\n",
       "45     7\n",
       "44     7\n",
       "41     7\n",
       "20     7\n",
       "25     6\n",
       "54     6\n",
       "8      6\n",
       "7      6\n",
       "43     6\n",
       "26     5\n",
       "5      5\n",
       "55     4\n",
       "6      4\n",
       "Name: label, dtype: int64"
      ]
     },
     "execution_count": 9,
     "metadata": {
      "tags": []
     },
     "output_type": "execute_result"
    }
   ],
   "source": [
    "df.label.value_counts()"
   ]
  },
  {
   "cell_type": "code",
   "execution_count": 10,
   "metadata": {
    "colab": {
     "base_uri": "https://localhost:8080/",
     "height": 34
    },
    "colab_type": "code",
    "id": "QagnM0mdxmS3",
    "outputId": "4878eebb-ed70-4894-f976-985e3c7d81ab"
   },
   "outputs": [
    {
     "data": {
      "text/plain": [
       "(395, 3)"
      ]
     },
     "execution_count": 10,
     "metadata": {
      "tags": []
     },
     "output_type": "execute_result"
    }
   ],
   "source": [
    "df.shape"
   ]
  },
  {
   "cell_type": "markdown",
   "metadata": {
    "colab_type": "text",
    "id": "hvVXKQDv2_8B"
   },
   "source": [
    "## 1. TF-IDF\n"
   ]
  },
  {
   "cell_type": "code",
   "execution_count": 0,
   "metadata": {
    "colab": {},
    "colab_type": "code",
    "id": "gY0QEvtSz3p3"
   },
   "outputs": [],
   "source": [
    "import re\n",
    "import math\n",
    "from string import punctuation\n",
    "\n",
    "from sklearn.feature_extraction.text import TfidfVectorizer\n",
    "from sklearn.preprocessing import MinMaxScaler\n",
    "from sklearn.cluster import DBSCAN\n",
    "from sklearn.metrics.pairwise import cosine_similarity\n",
    "\n",
    "from nltk.stem import PorterStemmer\n",
    "from nltk.tokenize import word_tokenize"
   ]
  },
  {
   "cell_type": "code",
   "execution_count": 12,
   "metadata": {
    "colab": {
     "base_uri": "https://localhost:8080/",
     "height": 68
    },
    "colab_type": "code",
    "id": "0pxKOAdhHH-V",
    "outputId": "312593d7-02fd-42d0-a102-1782d78aee79"
   },
   "outputs": [
    {
     "name": "stdout",
     "output_type": "stream",
     "text": [
      "[nltk_data] Downloading package punkt to /root/nltk_data...\n",
      "[nltk_data]   Unzipping tokenizers/punkt.zip.\n"
     ]
    },
    {
     "data": {
      "text/plain": [
       "True"
      ]
     },
     "execution_count": 12,
     "metadata": {
      "tags": []
     },
     "output_type": "execute_result"
    }
   ],
   "source": [
    "import nltk\n",
    "nltk.download('punkt')"
   ]
  },
  {
   "cell_type": "code",
   "execution_count": 0,
   "metadata": {
    "colab": {},
    "colab_type": "code",
    "id": "-eFq9_AUEpcp"
   },
   "outputs": [],
   "source": [
    "# def get_data(path):\n",
    "#     \"\"\" load data from csv \"\"\"\n",
    "#     # read data\n",
    "#     df = pd.read_csv(path)\n",
    "#     # drop na\n",
    "#     df = df.dropna()\n",
    "#     # drop label with only one query\n",
    "#     df = df.drop(df[df.label == 31].index)\n",
    "#     return df"
   ]
  },
  {
   "cell_type": "code",
   "execution_count": 0,
   "metadata": {
    "colab": {},
    "colab_type": "code",
    "id": "p7s8BobuEkiF"
   },
   "outputs": [],
   "source": [
    "def string_clean(text):\n",
    "    \"\"\" Basic text cleaning \"\"\"\n",
    "    # Remove numbers\n",
    "    # Remove punctuations\n",
    "    # Remove single character\n",
    "    # Stemming\n",
    "    text = text.lower()\n",
    "    text = re.sub(r'[^a-z0-9\\s]', '', text)\n",
    "    return text"
   ]
  },
  {
   "cell_type": "code",
   "execution_count": 0,
   "metadata": {
    "colab": {},
    "colab_type": "code",
    "id": "3hi4LXN8Emno"
   },
   "outputs": [],
   "source": [
    "def build_sentence_vec(sentence, model, num_features, index2word_set, idf=None):\n",
    "    \"\"\" Build sentence embedding \"\"\"\n",
    "    words = sentence.split()\n",
    "    feature_vec = np.zeros((num_features, ), dtype='float32')\n",
    "    n_words = 0\n",
    "    for word in words:\n",
    "        if word in index2word_set:\n",
    "            n_words += 1\n",
    "            if idf is None:\n",
    "                idf_weight = 1\n",
    "            else:\n",
    "                idf_weight = idf[word]\n",
    "            feature_vec = np.add(feature_vec, model[word] * idf_weight)\n",
    "    if n_words > 0:\n",
    "        feature_vec = np.divide(feature_vec, n_words)\n",
    "    return feature_vec"
   ]
  },
  {
   "cell_type": "code",
   "execution_count": 0,
   "metadata": {
    "colab": {},
    "colab_type": "code",
    "id": "_oGBBpAvEoUr"
   },
   "outputs": [],
   "source": [
    "def compute_idf_weights(doc_list):\n",
    "    \"\"\" Compute idf based on all documnets \"\"\"\n",
    "    df = {}  # data frequency\n",
    "    for doc in doc_list:\n",
    "        words = set(doc.strip().split())\n",
    "        for word in words:\n",
    "            if word not in df:\n",
    "                df[word] = 0.0\n",
    "            df[word] += 1.0\n",
    "\n",
    "    idf = {}\n",
    "    N = len(doc_list)\n",
    "    for word, count in df.items():\n",
    "        idf[word] = math.log(float(N) / (1 + count))\n",
    "    return idf"
   ]
  },
  {
   "cell_type": "code",
   "execution_count": 0,
   "metadata": {
    "colab": {},
    "colab_type": "code",
    "id": "Nl6LZGVcVY21"
   },
   "outputs": [],
   "source": [
    "def get_data(path):\n",
    "    \"\"\" load data from csv \"\"\"\n",
    "    # read data\n",
    "    df = pd.read_csv(path)\n",
    "    # drop na\n",
    "    df = df.dropna()\n",
    "    # drop label with only one query\n",
    "    df = df.drop(df[df.label == 31].index)\n",
    "    return df\n",
    "\n",
    "\n",
    "def sentence_embedding(method='tfidf', word2vec_model=None):\n",
    "    # 1. load data\n",
    "    df = get_data(\"data.csv\")\n",
    "    data = df.copy()\n",
    "\n",
    "    # 2. Preprocessing\n",
    "    data['query'] = data['query'].apply(string_clean)\n",
    "\n",
    "    # 3. Tokenizing\n",
    "    def tokenize(s): \n",
    "        return \" \".join(word_tokenize(s))\n",
    "    data['query'] = data['query'].apply(tokenize)\n",
    "\n",
    "    # 4. Get similarity matrix and distnace\n",
    "    if method == 'tfidf':\n",
    "        # Use tfidf alone to calculate similarity\n",
    "        tfidf = TfidfVectorizer(lowercase=True, stop_words=\"english\", ngram_range=(1, 3)).fit_transform(data['model_text'].values.astype('U'))\n",
    "\n",
    "        # cosine similarity\n",
    "        similarity = tfidf * tfidf.T\n",
    "        distance = 1 - similarity.todense()\n",
    "\n",
    "    else:\n",
    "        # Use word2vec\n",
    "        index2word_set = set(word2vec_model.index2word)\n",
    "        if method == 'word2vec':\n",
    "            emb = [build_sentence_vec(data.iloc[i, data.columns.get_loc('model_text')], model=word2vec_model, num_features=300,\n",
    "                                  index2word_set=index2word_set) for i in range(len(data))]\n",
    "\n",
    "        # Use word2vec + idf\n",
    "        elif method == 'idf-word2vec':\n",
    "            idf = compute_idf_weights(data['model_text'])\n",
    "            emb = [build_sentence_vec(data.iloc[i, data.columns.get_loc('model_text')], model=word2vec_model, num_features=300,\n",
    "                               index2word_set=index2word_set, idf=idf) for i in range(len(data))]\n",
    "        emb = np.array(emb)\n",
    "        similarity = cosine_similarity(emb)\n",
    "        distance = 1 - similarity\n",
    "\n",
    "    return distance"
   ]
  },
  {
   "cell_type": "code",
   "execution_count": 0,
   "metadata": {
    "colab": {},
    "colab_type": "code",
    "id": "noicQKnlE7aP"
   },
   "outputs": [],
   "source": [
    "data = df.copy()"
   ]
  },
  {
   "cell_type": "code",
   "execution_count": 0,
   "metadata": {
    "colab": {},
    "colab_type": "code",
    "id": "q0pqzAVMFgEq"
   },
   "outputs": [],
   "source": [
    "data['query'] = data['query'].apply(string_clean)"
   ]
  },
  {
   "cell_type": "code",
   "execution_count": 0,
   "metadata": {
    "colab": {},
    "colab_type": "code",
    "id": "dj897XUeFkJ8"
   },
   "outputs": [],
   "source": [
    "def tokenize(s): \n",
    "    return \" \".join(word_tokenize(s))\n",
    "data['query'] = data['query'].apply(tokenize)"
   ]
  },
  {
   "cell_type": "markdown",
   "metadata": {
    "colab_type": "text",
    "id": "Lf-5JFHyV7qb"
   },
   "source": [
    "Use tfidf alone to calculate similarity"
   ]
  },
  {
   "cell_type": "code",
   "execution_count": 21,
   "metadata": {
    "colab": {
     "base_uri": "https://localhost:8080/",
     "height": 34
    },
    "colab_type": "code",
    "id": "w_70zSgVyRcE",
    "outputId": "81e2eb85-614b-416c-ce0e-dfdec393a191"
   },
   "outputs": [
    {
     "data": {
      "text/plain": [
       "'what promotions do you have'"
      ]
     },
     "execution_count": 21,
     "metadata": {
      "tags": []
     },
     "output_type": "execute_result"
    }
   ],
   "source": [
    "data['query'][0]"
   ]
  },
  {
   "cell_type": "code",
   "execution_count": 22,
   "metadata": {
    "colab": {
     "base_uri": "https://localhost:8080/",
     "height": 34
    },
    "colab_type": "code",
    "id": "qhaFfRR-yVAs",
    "outputId": "4a6e6686-9b82-4abd-ad9f-46346440ad89"
   },
   "outputs": [
    {
     "data": {
      "text/plain": [
       "'what promotions are available'"
      ]
     },
     "execution_count": 22,
     "metadata": {
      "tags": []
     },
     "output_type": "execute_result"
    }
   ],
   "source": [
    "data['query'][1]"
   ]
  },
  {
   "cell_type": "code",
   "execution_count": 23,
   "metadata": {
    "colab": {
     "base_uri": "https://localhost:8080/",
     "height": 34
    },
    "colab_type": "code",
    "id": "2IsXICEgyWV1",
    "outputId": "dfa4873a-f377-462b-a64b-c123043b75d1"
   },
   "outputs": [
    {
     "data": {
      "text/plain": [
       "'promotions'"
      ]
     },
     "execution_count": 23,
     "metadata": {
      "tags": []
     },
     "output_type": "execute_result"
    }
   ],
   "source": [
    "data['query'][2]"
   ]
  },
  {
   "cell_type": "code",
   "execution_count": 0,
   "metadata": {
    "colab": {},
    "colab_type": "code",
    "id": "9GYEucWiVsVi"
   },
   "outputs": [],
   "source": [
    "tfidf = TfidfVectorizer(lowercase=True, stop_words=\"english\", ngram_range=(1, 3)).fit_transform(data['query'].values.astype('U'))"
   ]
  },
  {
   "cell_type": "code",
   "execution_count": 25,
   "metadata": {
    "colab": {
     "base_uri": "https://localhost:8080/",
     "height": 34
    },
    "colab_type": "code",
    "id": "P6BodS9Kxvn1",
    "outputId": "d73f9c0e-069b-4d39-8223-e2ca7aea5701"
   },
   "outputs": [
    {
     "data": {
      "text/plain": [
       "(395, 1015)"
      ]
     },
     "execution_count": 25,
     "metadata": {
      "tags": []
     },
     "output_type": "execute_result"
    }
   ],
   "source": [
    "tfidf.shape"
   ]
  },
  {
   "cell_type": "code",
   "execution_count": 0,
   "metadata": {
    "colab": {},
    "colab_type": "code",
    "id": "KTy9uNZdV2dT"
   },
   "outputs": [],
   "source": [
    "similarity = tfidf * tfidf.T"
   ]
  },
  {
   "cell_type": "code",
   "execution_count": 27,
   "metadata": {
    "colab": {
     "base_uri": "https://localhost:8080/",
     "height": 34
    },
    "colab_type": "code",
    "id": "frQhGltcyCLI",
    "outputId": "8e00a564-2887-45eb-9773-59940eb00f7e"
   },
   "outputs": [
    {
     "data": {
      "text/plain": [
       "(395, 395)"
      ]
     },
     "execution_count": 27,
     "metadata": {
      "tags": []
     },
     "output_type": "execute_result"
    }
   ],
   "source": [
    "similarity.shape"
   ]
  },
  {
   "cell_type": "code",
   "execution_count": 28,
   "metadata": {
    "colab": {
     "base_uri": "https://localhost:8080/",
     "height": 1000
    },
    "colab_type": "code",
    "id": "N3GWNifuV-mx",
    "outputId": "119d06a5-ffb9-4d7f-edf7-0a17d9354ac6"
   },
   "outputs": [
    {
     "data": {
      "text/plain": [
       "matrix([[1.        , 0.4365589 , 1.        , 0.50538786, 0.44372551,\n",
       "         1.        , 1.        , 0.42448213, 1.        , 0.61639195,\n",
       "         0.32781829, 0.61639195, 0.35414045, 0.33082039, 0.61639195,\n",
       "         0.61639195, 0.3226112 , 0.61639195, 0.        , 0.        ,\n",
       "         0.        , 0.        , 0.        , 0.        , 0.        ,\n",
       "         0.        , 0.        , 0.        , 0.        , 0.        ,\n",
       "         0.        , 0.        , 0.        , 0.        , 0.        ,\n",
       "         0.        , 0.        , 0.        , 0.        , 0.        ,\n",
       "         0.        , 0.        , 0.        , 0.        , 0.        ,\n",
       "         0.        , 0.        , 0.        , 0.        , 0.        ,\n",
       "         0.        , 0.        , 0.        , 0.        , 0.        ,\n",
       "         0.        , 0.        , 0.        , 0.        , 0.        ,\n",
       "         0.        , 0.        , 0.        , 0.        , 0.        ,\n",
       "         0.        , 0.        , 0.        , 0.        , 0.        ,\n",
       "         0.        , 0.        , 0.        , 0.        , 0.        ,\n",
       "         0.        , 0.        , 0.        , 0.        , 0.        ,\n",
       "         0.        , 0.        , 0.        , 0.        , 0.        ,\n",
       "         0.        , 0.        , 0.        , 0.        , 0.        ,\n",
       "         0.        , 0.        , 0.        , 0.        , 0.        ,\n",
       "         0.        , 0.        , 0.        , 0.        , 0.        ,\n",
       "         0.        , 0.        , 0.        , 0.        , 0.        ,\n",
       "         0.        , 0.        , 0.        , 0.        , 0.        ,\n",
       "         0.        , 0.        , 0.        , 0.        , 0.        ,\n",
       "         0.        , 0.        , 0.        , 0.        , 0.        ,\n",
       "         0.        , 0.        , 0.        , 0.        , 0.        ,\n",
       "         0.        , 0.        , 0.        , 0.        , 0.        ,\n",
       "         0.        , 0.        , 0.        , 0.        , 0.        ,\n",
       "         0.        , 0.        , 0.        , 0.        , 0.        ,\n",
       "         0.        , 0.        , 0.        , 0.        , 0.        ,\n",
       "         0.        , 0.        , 0.        , 0.        , 0.        ,\n",
       "         0.        , 0.        , 0.        , 0.        , 0.        ,\n",
       "         0.        , 0.        , 0.        , 0.        , 0.        ,\n",
       "         0.        , 0.        , 0.        , 0.        , 0.        ,\n",
       "         0.        , 0.        , 0.        , 0.        , 0.        ,\n",
       "         0.        , 0.        , 0.        , 0.        , 0.        ,\n",
       "         0.        , 0.        , 0.        , 0.        , 0.        ,\n",
       "         0.        , 0.        , 0.        , 0.        , 0.        ,\n",
       "         0.        , 0.        , 0.        , 0.        , 0.        ,\n",
       "         0.        , 0.        , 0.        , 0.        , 0.        ,\n",
       "         0.        , 0.        , 0.        , 0.        , 0.        ,\n",
       "         0.        , 0.        , 0.        , 0.        , 0.        ,\n",
       "         0.        , 0.        , 0.        , 0.        , 0.        ,\n",
       "         0.        , 0.        , 0.        , 0.        , 0.        ,\n",
       "         0.        , 0.        , 0.        , 0.        , 0.        ,\n",
       "         0.        , 0.        , 0.        , 0.        , 0.        ,\n",
       "         0.        , 0.        , 0.        , 0.        , 0.        ,\n",
       "         0.        , 0.        , 0.        , 0.        , 0.        ,\n",
       "         0.        , 0.        , 0.        , 0.        , 0.        ,\n",
       "         0.        , 0.        , 0.        , 0.        , 0.        ,\n",
       "         0.        , 0.        , 0.        , 0.        , 0.        ,\n",
       "         0.        , 0.        , 0.        , 0.        , 0.        ,\n",
       "         0.        , 0.        , 0.        , 0.        , 0.        ,\n",
       "         0.        , 0.        , 0.        , 0.        , 0.        ,\n",
       "         0.        , 0.        , 0.        , 0.        , 0.        ,\n",
       "         0.        , 0.        , 0.        , 0.        , 0.        ,\n",
       "         0.        , 0.        , 0.        , 0.        , 0.        ,\n",
       "         0.        , 0.        , 0.        , 0.        , 0.        ,\n",
       "         0.        , 0.        , 0.        , 0.        , 0.        ,\n",
       "         0.        , 0.        , 0.        , 0.        , 0.        ,\n",
       "         0.        , 0.        , 0.        , 0.        , 0.        ,\n",
       "         0.        , 0.        , 0.        , 0.        , 0.        ,\n",
       "         0.        , 0.        , 0.        , 0.        , 0.        ,\n",
       "         0.        , 0.        , 0.        , 0.        , 0.        ,\n",
       "         0.        , 0.        , 0.        , 0.        , 0.        ,\n",
       "         0.        , 0.        , 0.        , 0.        , 0.        ,\n",
       "         0.        , 0.        , 0.        , 0.        , 0.        ,\n",
       "         0.        , 0.        , 0.        , 0.        , 0.        ,\n",
       "         0.        , 0.        , 0.        , 0.        , 0.        ,\n",
       "         0.        , 0.        , 0.        , 0.        , 0.        ,\n",
       "         0.        , 0.        , 0.        , 0.        , 0.        ,\n",
       "         0.        , 0.        , 0.        , 0.        , 0.        ,\n",
       "         0.        , 0.        , 0.        , 0.        , 0.        ,\n",
       "         0.        , 0.        , 0.        , 0.        , 0.        ,\n",
       "         0.        , 0.        , 0.        , 0.        , 0.        ,\n",
       "         0.        , 0.        , 0.        , 0.        , 0.        ,\n",
       "         0.        , 0.        , 0.        , 0.        , 0.        ,\n",
       "         0.        , 0.        , 0.        , 0.        , 0.        ,\n",
       "         0.        , 0.        , 0.        , 0.        , 0.        ,\n",
       "         0.        , 0.        , 0.        , 0.        , 0.        ]])"
      ]
     },
     "execution_count": 28,
     "metadata": {
      "tags": []
     },
     "output_type": "execute_result"
    }
   ],
   "source": [
    "similarity.todense()[0]"
   ]
  },
  {
   "cell_type": "code",
   "execution_count": 0,
   "metadata": {
    "colab": {},
    "colab_type": "code",
    "id": "5WdASs5RV6-8"
   },
   "outputs": [],
   "source": [
    "distance = 1 - similarity.todense()"
   ]
  },
  {
   "cell_type": "code",
   "execution_count": 30,
   "metadata": {
    "colab": {
     "base_uri": "https://localhost:8080/",
     "height": 238
    },
    "colab_type": "code",
    "id": "l34uTcOxWARG",
    "outputId": "7fce72aa-3bdb-4dfe-b17c-ca4d13ef41bb"
   },
   "outputs": [
    {
     "data": {
      "text/plain": [
       "matrix([[ 0.00000000e+00,  5.63441104e-01,  0.00000000e+00, ...,\n",
       "          1.00000000e+00,  1.00000000e+00,  1.00000000e+00],\n",
       "        [ 5.63441104e-01, -2.22044605e-16,  5.63441104e-01, ...,\n",
       "          1.00000000e+00,  1.00000000e+00,  1.00000000e+00],\n",
       "        [ 0.00000000e+00,  5.63441104e-01,  0.00000000e+00, ...,\n",
       "          1.00000000e+00,  1.00000000e+00,  1.00000000e+00],\n",
       "        ...,\n",
       "        [ 1.00000000e+00,  1.00000000e+00,  1.00000000e+00, ...,\n",
       "          1.11022302e-16,  1.85135611e-01,  1.85135611e-01],\n",
       "        [ 1.00000000e+00,  1.00000000e+00,  1.00000000e+00, ...,\n",
       "          1.85135611e-01,  0.00000000e+00,  0.00000000e+00],\n",
       "        [ 1.00000000e+00,  1.00000000e+00,  1.00000000e+00, ...,\n",
       "          1.85135611e-01,  0.00000000e+00,  0.00000000e+00]])"
      ]
     },
     "execution_count": 30,
     "metadata": {
      "tags": []
     },
     "output_type": "execute_result"
    }
   ],
   "source": [
    "distance"
   ]
  },
  {
   "cell_type": "markdown",
   "metadata": {
    "colab_type": "text",
    "id": "7VcXti6_YumD"
   },
   "source": [
    "## 2. Word2vec"
   ]
  },
  {
   "cell_type": "code",
   "execution_count": 31,
   "metadata": {
    "colab": {
     "base_uri": "https://localhost:8080/",
     "height": 204
    },
    "colab_type": "code",
    "id": "M3ZPLWi2WDVi",
    "outputId": "cd7ebc66-091b-45ec-e72a-582f443d3344"
   },
   "outputs": [
    {
     "name": "stdout",
     "output_type": "stream",
     "text": [
      "--2020-03-30 01:52:01--  https://s3.amazonaws.com/dl4j-distribution/GoogleNews-vectors-negative300.bin.gz\n",
      "Resolving s3.amazonaws.com (s3.amazonaws.com)... 52.216.142.70\n",
      "Connecting to s3.amazonaws.com (s3.amazonaws.com)|52.216.142.70|:443... connected.\n",
      "HTTP request sent, awaiting response... 200 OK\n",
      "Length: 1647046227 (1.5G) [application/x-gzip]\n",
      "Saving to: ‘GoogleNews-vectors-negative300.bin.gz’\n",
      "\n",
      "GoogleNews-vectors- 100%[===================>]   1.53G  66.9MB/s    in 24s     \n",
      "\n",
      "2020-03-30 01:52:26 (64.8 MB/s) - ‘GoogleNews-vectors-negative300.bin.gz’ saved [1647046227/1647046227]\n",
      "\n"
     ]
    }
   ],
   "source": [
    "!wget -c \"https://s3.amazonaws.com/dl4j-distribution/GoogleNews-vectors-negative300.bin.gz\""
   ]
  },
  {
   "cell_type": "code",
   "execution_count": 0,
   "metadata": {
    "colab": {},
    "colab_type": "code",
    "id": "XfGhS2yeYw27"
   },
   "outputs": [],
   "source": [
    "from gensim.models import KeyedVectors"
   ]
  },
  {
   "cell_type": "code",
   "execution_count": 33,
   "metadata": {
    "colab": {
     "base_uri": "https://localhost:8080/",
     "height": 71
    },
    "colab_type": "code",
    "id": "3vCkGUxFY02y",
    "outputId": "0bcb2d91-64ca-4db3-9b21-7f3e7685e861"
   },
   "outputs": [
    {
     "name": "stderr",
     "output_type": "stream",
     "text": [
      "/usr/local/lib/python3.6/dist-packages/smart_open/smart_open_lib.py:410: UserWarning: This function is deprecated, use smart_open.open instead. See the migration notes for details: https://github.com/RaRe-Technologies/smart_open/blob/master/README.rst#migrating-to-the-new-open-function\n",
      "  'See the migration notes for details: %s' % _MIGRATION_NOTES_URL\n"
     ]
    }
   ],
   "source": [
    "EMBEDDING_FILE = 'GoogleNews-vectors-negative300.bin.gz' # from above\n",
    "word2vec = KeyedVectors.load_word2vec_format(EMBEDDING_FILE, binary=True)"
   ]
  },
  {
   "cell_type": "code",
   "execution_count": 34,
   "metadata": {
    "colab": {
     "base_uri": "https://localhost:8080/",
     "height": 34
    },
    "colab_type": "code",
    "id": "zTbhfCtqY6q3",
    "outputId": "bb856529-9f81-40d0-af89-cdaa08e12bed"
   },
   "outputs": [
    {
     "data": {
      "text/plain": [
       "(300,)"
      ]
     },
     "execution_count": 34,
     "metadata": {
      "tags": []
     },
     "output_type": "execute_result"
    }
   ],
   "source": [
    "# debug\n",
    "word2vec[\"cat\"].shape"
   ]
  },
  {
   "cell_type": "code",
   "execution_count": 0,
   "metadata": {
    "colab": {},
    "colab_type": "code",
    "id": "2cqbuK9mZEtI"
   },
   "outputs": [],
   "source": [
    "df = get_data(\"data.csv\")"
   ]
  },
  {
   "cell_type": "code",
   "execution_count": 0,
   "metadata": {
    "colab": {},
    "colab_type": "code",
    "id": "NQvJ9cJlzWEl"
   },
   "outputs": [],
   "source": [
    "data = df.copy()"
   ]
  },
  {
   "cell_type": "code",
   "execution_count": 0,
   "metadata": {
    "colab": {},
    "colab_type": "code",
    "id": "-QXfnroxztUm"
   },
   "outputs": [],
   "source": [
    "data['query'] = data['query'].apply(string_clean)"
   ]
  },
  {
   "cell_type": "code",
   "execution_count": 0,
   "metadata": {
    "colab": {},
    "colab_type": "code",
    "id": "BRVlXwi0z7A8"
   },
   "outputs": [],
   "source": [
    "def tokenize(s): \n",
    "    return \" \".join(word_tokenize(s))\n",
    "data['query'] = data['query'].apply(tokenize)"
   ]
  },
  {
   "cell_type": "code",
   "execution_count": 0,
   "metadata": {
    "colab": {},
    "colab_type": "code",
    "id": "StyysuTe0Hs3"
   },
   "outputs": [],
   "source": [
    "word2vec_model = word2vec"
   ]
  },
  {
   "cell_type": "code",
   "execution_count": 0,
   "metadata": {
    "colab": {},
    "colab_type": "code",
    "id": "Nb4BJrQLz9Si"
   },
   "outputs": [],
   "source": [
    "index2word_set = set(word2vec_model.index2word)"
   ]
  },
  {
   "cell_type": "code",
   "execution_count": 0,
   "metadata": {
    "colab": {},
    "colab_type": "code",
    "id": "dRWd7MO90GTi"
   },
   "outputs": [],
   "source": [
    "emb = [build_sentence_vec(data.iloc[i, data.columns.get_loc('query')], model=word2vec_model, num_features=300,\n",
    "                            index2word_set=index2word_set) for i in range(len(data))]"
   ]
  },
  {
   "cell_type": "code",
   "execution_count": 0,
   "metadata": {
    "colab": {},
    "colab_type": "code",
    "id": "ZNlVexzk0M0H"
   },
   "outputs": [],
   "source": [
    "emb = np.array(emb)\n",
    "similarity = cosine_similarity(emb)\n",
    "distance = 1 - similarity"
   ]
  },
  {
   "cell_type": "code",
   "execution_count": 43,
   "metadata": {
    "colab": {
     "base_uri": "https://localhost:8080/",
     "height": 238
    },
    "colab_type": "code",
    "id": "ryX2elo50Uql",
    "outputId": "a7840457-9c7a-4bae-9164-4d81d9657f58"
   },
   "outputs": [
    {
     "data": {
      "text/plain": [
       "array([[ 1.1920929e-07,  2.9730374e-01,  4.9945098e-01, ...,\n",
       "         4.8597598e-01,  5.9918547e-01,  4.8402524e-01],\n",
       "       [ 2.9730374e-01,  0.0000000e+00,  3.8349301e-01, ...,\n",
       "         6.5329713e-01,  6.7476648e-01,  6.5881020e-01],\n",
       "       [ 4.9945098e-01,  3.8349301e-01, -8.3446503e-07, ...,\n",
       "         8.6953247e-01,  8.5623157e-01,  8.6642522e-01],\n",
       "       ...,\n",
       "       [ 4.8597598e-01,  6.5329713e-01,  8.6953247e-01, ...,\n",
       "         5.9604645e-08,  1.6287935e-01,  2.0581901e-02],\n",
       "       [ 5.9918547e-01,  6.7476648e-01,  8.5623157e-01, ...,\n",
       "         1.6287935e-01,  1.7881393e-07,  1.7406398e-01],\n",
       "       [ 4.8402524e-01,  6.5881020e-01,  8.6642522e-01, ...,\n",
       "         2.0581901e-02,  1.7406398e-01,  2.3841858e-07]], dtype=float32)"
      ]
     },
     "execution_count": 43,
     "metadata": {
      "tags": []
     },
     "output_type": "execute_result"
    }
   ],
   "source": [
    "distance"
   ]
  },
  {
   "cell_type": "markdown",
   "metadata": {
    "colab_type": "text",
    "id": "OePOflwcIKIV"
   },
   "source": [
    "## 3. Cluster Centre"
   ]
  },
  {
   "cell_type": "code",
   "execution_count": 0,
   "metadata": {
    "colab": {},
    "colab_type": "code",
    "id": "Yk_5BU_q13Rh"
   },
   "outputs": [],
   "source": []
  }
 ],
 "metadata": {
  "accelerator": "GPU",
  "colab": {
   "collapsed_sections": [],
   "name": "Chatbot Intent Classification.ipynb",
   "provenance": []
  },
  "kernelspec": {
   "display_name": "Python 3",
   "language": "python",
   "name": "python3"
  },
  "language_info": {
   "codemirror_mode": {
    "name": "ipython",
    "version": 3
   },
   "file_extension": ".py",
   "mimetype": "text/x-python",
   "name": "python",
   "nbconvert_exporter": "python",
   "pygments_lexer": "ipython3",
   "version": "3.6.10"
  }
 },
 "nbformat": 4,
 "nbformat_minor": 1
}
