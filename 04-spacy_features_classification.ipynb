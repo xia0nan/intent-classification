{
 "cells": [
  {
   "cell_type": "code",
   "execution_count": 1,
   "metadata": {
    "ExecuteTime": {
     "end_time": "2020-03-30T09:02:57.053206Z",
     "start_time": "2020-03-30T09:02:53.951937Z"
    }
   },
   "outputs": [],
   "source": [
    "import pandas as pd\n",
    "import numpy as np\n",
    "from nltk.stem import WordNetLemmatizer \n",
    "from nltk.stem.porter import PorterStemmer\n",
    "from sklearn.feature_extraction.text import TfidfVectorizer\n",
    "from sklearn.ensemble import RandomForestClassifier\n",
    "import pickle\n",
    "import re\n",
    "import plotly.express as px\n",
    "\n",
    "import os,json\n",
    "from time import time\n",
    "import pandas as pd\n",
    "import numpy as np\n",
    "%matplotlib inline\n",
    "\n",
    "from sklearn.feature_extraction.text import CountVectorizer\n",
    "from sklearn.linear_model import LogisticRegression\n",
    "\n",
    "from sklearn.model_selection import cross_val_score\n",
    "from sklearn.pipeline import Pipeline\n",
    "from sklearn.model_selection import GridSearchCV\n",
    "from scipy.sparse import coo_matrix, hstack\n",
    "from sklearn.model_selection import StratifiedKFold\n",
    "import xlrd"
   ]
  },
  {
   "cell_type": "markdown",
   "metadata": {},
   "source": [
    "This file takes the *._backup.xlsx file for the chatbot, and saves the mapping file (for the chatbot) and take the \"Intents\" spreadsheet for training the model. Ultimately, this notebook produces the mappings pickle file and the model pickle file."
   ]
  },
  {
   "cell_type": "markdown",
   "metadata": {},
   "source": [
    "## Kelvin's method"
   ]
  },
  {
   "cell_type": "code",
   "execution_count": 2,
   "metadata": {
    "ExecuteTime": {
     "end_time": "2020-03-27T06:48:51.782911Z",
     "start_time": "2020-03-27T06:48:51.779919Z"
    }
   },
   "outputs": [],
   "source": [
    "## Change the data file name ##\n",
    "backup_filename = 'CFS_backup.xlsx'"
   ]
  },
  {
   "cell_type": "code",
   "execution_count": 3,
   "metadata": {},
   "outputs": [],
   "source": [
    "class NLP():\n",
    "    \n",
    "    def __init__(self):\n",
    "        \n",
    "        self.TFIDF_classifier = None\n",
    "        \n",
    "        self.data = pd.read_excel('../data/' + backup_filename, sheet_name='Intents')\n",
    "        self.mappings = pd.read_excel('../data/' + backup_filename, sheet_name='Mappings')\n",
    "        \n",
    "        # Save mapping file for the chatbot\n",
    "        with open('../mapping.sav', 'wb') as f:\n",
    "            pickle.dump(self.mappings, f)\n",
    "        \n",
    "        # TFIDF Model params\n",
    "        self.TFIDF_vectorizer = TfidfVectorizer()\n",
    "        self.stemmer = PorterStemmer()\n",
    "        self.lemmatizer = WordNetLemmatizer() \n",
    "        self.STOPWORDS = '''is a the of or to and in be as for not are your on this you such that from\n",
    "                            by have will can be a been may there so please it should any where does no help\n",
    "                            how my i'''.split()\n",
    "    \n",
    "    def clean_tfidf(self, question):\n",
    "        \n",
    "        try:\n",
    "            question = question.lower()\n",
    "            question = re.sub(r'(!|\\.|,|\\(|\\)|\\[|\\]|\\\\|\\?|\\$|#|%|\\*)', '', question)\n",
    "            question = question.split()\n",
    "            question = [w for w in question if w not in self.STOPWORDS]\n",
    "            question = [self.stemmer.stem(w) for w in question]\n",
    "        except:\n",
    "            return ''\n",
    "        \n",
    "        # Spelling?\n",
    "        return ' '.join(question)\n",
    "    \n",
    "    def train_tfidf(self):\n",
    "        \n",
    "        # Select only visible intents\n",
    "        self.data = self.data[self.data['Visibility'] == 'yes']\n",
    "        \n",
    "        # Clean the data\n",
    "        self.data['Cleaned'] = self.data['Questions'].apply(self.clean_tfidf)\n",
    "        \n",
    "        # Get X and Y\n",
    "        X = self.TFIDF_vectorizer.fit_transform(self.data['Cleaned'])\n",
    "        Y = np.array(self.data['Label'])\n",
    "        print('Labels: ', Y)\n",
    "       \n",
    "        # Build model\n",
    "        self.TFIDF_classifier = RandomForestClassifier(n_estimators=150, max_depth=8, random_state=42)\n",
    "        self.TFIDF_classifier.fit(X,Y)\n",
    "        \n",
    "        # Estimate current fit\n",
    "        y_pred = self.TFIDF_classifier.predict(X)\n",
    "        L1 = (self.data['Level'] == 1).tolist()\n",
    "        print(\"L1 accuracy: {}%\".format(sum(y_pred[L1]==Y[L1])/sum(L1)*100))\n",
    "        \n",
    "        # pickle the model\n",
    "        with open('../TFIDF_model.sav', 'wb') as f:\n",
    "            pickle.dump(self.TFIDF_classifier, f)\n",
    "            \n",
    "        # pickle the TFIDF vectorizer\n",
    "        with open('../TFIDF_vectorizer.sav', 'wb') as f:\n",
    "            pickle.dump(self.TFIDF_vectorizer, f)\n",
    "        \n",
    "    def test_tfidf(self, test_question):\n",
    "        \n",
    "        if self.TFIDF_classifier == None:\n",
    "            print(\"Model not trained\")\n",
    "            return None\n",
    "        \n",
    "        question_cleaned = self.clean_tfidf(test_question)\n",
    " \n",
    "        X = self.TFIDF_vectorizer.transform([question_cleaned])\n",
    "    \n",
    "        # Make prediction\n",
    "        y_proba = self.TFIDF_classifier.predict_proba(X)[0]\n",
    "      \n",
    "        classes = self.TFIDF_classifier.classes_\n",
    "      \n",
    "        # View results\n",
    "        index = np.argmax(y_proba)\n",
    "    \n",
    "        # Format output table and return top 5\n",
    "        results = pd.DataFrame()\n",
    "        results['Class'] = classes\n",
    "        results['Probabilities'] = y_proba\n",
    "        results['Norm Prob'] = y_proba/np.max(y_proba)\n",
    "        results.sort_values('Norm Prob', ascending=False, inplace=True)\n",
    "        results = results.reset_index(drop=True).iloc[:3]\n",
    "        \n",
    "        return results\n",
    "            "
   ]
  },
  {
   "cell_type": "markdown",
   "metadata": {},
   "source": [
    "#### Import NLP Object"
   ]
  },
  {
   "cell_type": "code",
   "execution_count": 4,
   "metadata": {},
   "outputs": [
    {
     "data": {
      "text/html": [
       "<div>\n",
       "<style scoped>\n",
       "    .dataframe tbody tr th:only-of-type {\n",
       "        vertical-align: middle;\n",
       "    }\n",
       "\n",
       "    .dataframe tbody tr th {\n",
       "        vertical-align: top;\n",
       "    }\n",
       "\n",
       "    .dataframe thead th {\n",
       "        text-align: right;\n",
       "    }\n",
       "</style>\n",
       "<table border=\"1\" class=\"dataframe\">\n",
       "  <thead>\n",
       "    <tr style=\"text-align: right;\">\n",
       "      <th></th>\n",
       "      <th>Unnamed: 0</th>\n",
       "      <th>Label</th>\n",
       "      <th>Intent</th>\n",
       "      <th>Out-context</th>\n",
       "      <th>In-context</th>\n",
       "      <th>Level</th>\n",
       "      <th>Visibility</th>\n",
       "      <th>Answer-formatted</th>\n",
       "    </tr>\n",
       "  </thead>\n",
       "  <tbody>\n",
       "    <tr>\n",
       "      <th>0</th>\n",
       "      <td>0</td>\n",
       "      <td>0</td>\n",
       "      <td>Is GLRC-AML approval required when risk rating...</td>\n",
       "      <td>NaN</td>\n",
       "      <td>NaN</td>\n",
       "      <td>1</td>\n",
       "      <td>yes</td>\n",
       "      <td>&lt;p&gt;Where you want to lower the risk rating e.g...</td>\n",
       "    </tr>\n",
       "    <tr>\n",
       "      <th>1</th>\n",
       "      <td>1</td>\n",
       "      <td>1</td>\n",
       "      <td>What is tax evasion</td>\n",
       "      <td>NaN</td>\n",
       "      <td>NaN</td>\n",
       "      <td>1</td>\n",
       "      <td>yes</td>\n",
       "      <td>&lt;p&gt;Tax evasion is the illegal evasion of taxes...</td>\n",
       "    </tr>\n",
       "    <tr>\n",
       "      <th>2</th>\n",
       "      <td>2</td>\n",
       "      <td>2</td>\n",
       "      <td>What is CRAM</td>\n",
       "      <td>NaN</td>\n",
       "      <td>NaN</td>\n",
       "      <td>1</td>\n",
       "      <td>yes</td>\n",
       "      <td>&lt;p&gt;Customer money laundering/terrorism financi...</td>\n",
       "    </tr>\n",
       "    <tr>\n",
       "      <th>3</th>\n",
       "      <td>3</td>\n",
       "      <td>3</td>\n",
       "      <td>What is the approval level</td>\n",
       "      <td>NaN</td>\n",
       "      <td>NaN</td>\n",
       "      <td>1</td>\n",
       "      <td>yes</td>\n",
       "      <td>&lt;p&gt;Approval from the Division Head and concurr...</td>\n",
       "    </tr>\n",
       "    <tr>\n",
       "      <th>4</th>\n",
       "      <td>4</td>\n",
       "      <td>4</td>\n",
       "      <td>Difference between customer due diligence and ...</td>\n",
       "      <td>NaN</td>\n",
       "      <td>NaN</td>\n",
       "      <td>1</td>\n",
       "      <td>yes</td>\n",
       "      <td>&lt;p&gt;Enhanced due diligence measures (EDD) inclu...</td>\n",
       "    </tr>\n",
       "    <tr>\n",
       "      <th>5</th>\n",
       "      <td>5</td>\n",
       "      <td>5</td>\n",
       "      <td>What type of customers are considered as unacc...</td>\n",
       "      <td>NaN</td>\n",
       "      <td>NaN</td>\n",
       "      <td>1</td>\n",
       "      <td>yes</td>\n",
       "      <td>&lt;p&gt;We must not establish business relations wi...</td>\n",
       "    </tr>\n",
       "    <tr>\n",
       "      <th>6</th>\n",
       "      <td>6</td>\n",
       "      <td>6</td>\n",
       "      <td>What are the documents required for CDD for na...</td>\n",
       "      <td>NaN</td>\n",
       "      <td>NaN</td>\n",
       "      <td>1</td>\n",
       "      <td>yes</td>\n",
       "      <td>&lt;p&gt;You will need to collect documents that can...</td>\n",
       "    </tr>\n",
       "    <tr>\n",
       "      <th>7</th>\n",
       "      <td>7</td>\n",
       "      <td>7</td>\n",
       "      <td>What to do when customer apply new products or...</td>\n",
       "      <td>WhatToDoWhenCustomerApplyNewProductsOrChangePe...</td>\n",
       "      <td>NaN</td>\n",
       "      <td>1</td>\n",
       "      <td>yes</td>\n",
       "      <td>&lt;p&gt;If your customer apply for additional produ...</td>\n",
       "    </tr>\n",
       "    <tr>\n",
       "      <th>8</th>\n",
       "      <td>8</td>\n",
       "      <td>8</td>\n",
       "      <td>Info on non-material TER</td>\n",
       "      <td>NaN</td>\n",
       "      <td>WhatToDoWhenCustomerApplyNewProductsOrChangePe...</td>\n",
       "      <td>2</td>\n",
       "      <td>yes</td>\n",
       "      <td>&lt;p&gt;Non-Material trigger events review occurs w...</td>\n",
       "    </tr>\n",
       "    <tr>\n",
       "      <th>9</th>\n",
       "      <td>9</td>\n",
       "      <td>9</td>\n",
       "      <td>Info on Material TER</td>\n",
       "      <td>NaN</td>\n",
       "      <td>WhatToDoWhenCustomerApplyNewProductsOrChangePe...</td>\n",
       "      <td>2</td>\n",
       "      <td>yes</td>\n",
       "      <td>&lt;p&gt;Material trigger events review occurs when ...</td>\n",
       "    </tr>\n",
       "    <tr>\n",
       "      <th>10</th>\n",
       "      <td>10</td>\n",
       "      <td>10</td>\n",
       "      <td>Who is considered a High net worth individual</td>\n",
       "      <td>NaN</td>\n",
       "      <td>NaN</td>\n",
       "      <td>1</td>\n",
       "      <td>yes</td>\n",
       "      <td>&lt;p&gt;“High Net Worth Individual” refers to a nat...</td>\n",
       "    </tr>\n",
       "    <tr>\n",
       "      <th>11</th>\n",
       "      <td>11</td>\n",
       "      <td>11</td>\n",
       "      <td>Definition of Ultimate Beneficial Owner</td>\n",
       "      <td>NaN</td>\n",
       "      <td>NaN</td>\n",
       "      <td>1</td>\n",
       "      <td>yes</td>\n",
       "      <td>&lt;p&gt;“Ultimate Beneficial Owner” or \"UBO\" refers...</td>\n",
       "    </tr>\n",
       "    <tr>\n",
       "      <th>12</th>\n",
       "      <td>12</td>\n",
       "      <td>12</td>\n",
       "      <td>Do we need to track exited customer</td>\n",
       "      <td>NaN</td>\n",
       "      <td>NaN</td>\n",
       "      <td>1</td>\n",
       "      <td>yes</td>\n",
       "      <td>&lt;p&gt;The bank should keep a register of the Cust...</td>\n",
       "    </tr>\n",
       "    <tr>\n",
       "      <th>13</th>\n",
       "      <td>13</td>\n",
       "      <td>13</td>\n",
       "      <td>Who is considered as authorised signatory</td>\n",
       "      <td>NaN</td>\n",
       "      <td>NaN</td>\n",
       "      <td>1</td>\n",
       "      <td>yes</td>\n",
       "      <td>&lt;p&gt;“Authorized Signatories” refers to natural ...</td>\n",
       "    </tr>\n",
       "    <tr>\n",
       "      <th>14</th>\n",
       "      <td>14</td>\n",
       "      <td>14</td>\n",
       "      <td>Difference between source of fund, source of w...</td>\n",
       "      <td>NaN</td>\n",
       "      <td>NaN</td>\n",
       "      <td>1</td>\n",
       "      <td>yes</td>\n",
       "      <td>&lt;p&gt;Source of Wealth generally refers to the or...</td>\n",
       "    </tr>\n",
       "    <tr>\n",
       "      <th>15</th>\n",
       "      <td>15</td>\n",
       "      <td>15</td>\n",
       "      <td>Definition of source of income</td>\n",
       "      <td>NaN</td>\n",
       "      <td>NaN</td>\n",
       "      <td>1</td>\n",
       "      <td>yes</td>\n",
       "      <td>&lt;p&gt;Do you know? “Source of Income” or “SOI” re...</td>\n",
       "    </tr>\n",
       "    <tr>\n",
       "      <th>16</th>\n",
       "      <td>16</td>\n",
       "      <td>16</td>\n",
       "      <td>Definition of source of wealth</td>\n",
       "      <td>NaN</td>\n",
       "      <td>NaN</td>\n",
       "      <td>1</td>\n",
       "      <td>yes</td>\n",
       "      <td>&lt;p&gt;Do you know? “Source of Wealth” or “SOW” ge...</td>\n",
       "    </tr>\n",
       "    <tr>\n",
       "      <th>17</th>\n",
       "      <td>17</td>\n",
       "      <td>17</td>\n",
       "      <td>Definition of source of funds</td>\n",
       "      <td>NaN</td>\n",
       "      <td>NaN</td>\n",
       "      <td>1</td>\n",
       "      <td>yes</td>\n",
       "      <td>&lt;p&gt;Do you know? “Source of Funds” or “SOF” ref...</td>\n",
       "    </tr>\n",
       "    <tr>\n",
       "      <th>18</th>\n",
       "      <td>18</td>\n",
       "      <td>18</td>\n",
       "      <td>What to do for Russian PEP</td>\n",
       "      <td>NaN</td>\n",
       "      <td>NaN</td>\n",
       "      <td>1</td>\n",
       "      <td>yes</td>\n",
       "      <td>&lt;p&gt;Russian law(“Law 79-FZ”) prohibits Russian ...</td>\n",
       "    </tr>\n",
       "    <tr>\n",
       "      <th>19</th>\n",
       "      <td>19</td>\n",
       "      <td>19</td>\n",
       "      <td>Enhanced Due Diligence</td>\n",
       "      <td>EnhancedDueDiligence-followup</td>\n",
       "      <td>NaN</td>\n",
       "      <td>1</td>\n",
       "      <td>yes</td>\n",
       "      <td>&lt;p&gt;Please indicate which aspect of enhanced du...</td>\n",
       "    </tr>\n",
       "    <tr>\n",
       "      <th>20</th>\n",
       "      <td>20</td>\n",
       "      <td>20</td>\n",
       "      <td>When is enhanced due diligence required for my...</td>\n",
       "      <td>NaN</td>\n",
       "      <td>EnhancedDueDiligence-followup</td>\n",
       "      <td>2</td>\n",
       "      <td>yes</td>\n",
       "      <td>&lt;p&gt;Your customer will require enhanced due dil...</td>\n",
       "    </tr>\n",
       "    <tr>\n",
       "      <th>21</th>\n",
       "      <td>21</td>\n",
       "      <td>21</td>\n",
       "      <td>Additional EDD measures</td>\n",
       "      <td>NaN</td>\n",
       "      <td>EnhancedDueDiligence-followup</td>\n",
       "      <td>2</td>\n",
       "      <td>yes</td>\n",
       "      <td>&lt;ol&gt;&lt;li&gt; For enhance due diligence(\"EDD\"), in ...</td>\n",
       "    </tr>\n",
       "    <tr>\n",
       "      <th>22</th>\n",
       "      <td>22</td>\n",
       "      <td>22</td>\n",
       "      <td>What is the retention period for the CDD and t...</td>\n",
       "      <td>NaN</td>\n",
       "      <td>NaN</td>\n",
       "      <td>1</td>\n",
       "      <td>yes</td>\n",
       "      <td>&lt;ol&gt;&lt;li&gt; The bank must retain documentation on...</td>\n",
       "    </tr>\n",
       "    <tr>\n",
       "      <th>23</th>\n",
       "      <td>23</td>\n",
       "      <td>23</td>\n",
       "      <td>What is the due diligence requirement for intr...</td>\n",
       "      <td>NaN</td>\n",
       "      <td>NaN</td>\n",
       "      <td>1</td>\n",
       "      <td>yes</td>\n",
       "      <td>&lt;ol&gt;&lt;li&gt; As the introducer introduces prospect...</td>\n",
       "    </tr>\n",
       "    <tr>\n",
       "      <th>24</th>\n",
       "      <td>24</td>\n",
       "      <td>24</td>\n",
       "      <td>When must I complete the periodic review</td>\n",
       "      <td>NaN</td>\n",
       "      <td>NaN</td>\n",
       "      <td>1</td>\n",
       "      <td>yes</td>\n",
       "      <td>&lt;ol&gt;&lt;li&gt;A &lt;b&gt;Periodic Review&lt;/b&gt; should be com...</td>\n",
       "    </tr>\n",
       "    <tr>\n",
       "      <th>25</th>\n",
       "      <td>25</td>\n",
       "      <td>25</td>\n",
       "      <td>What do I have to do as part of periodic review</td>\n",
       "      <td>NaN</td>\n",
       "      <td>NaN</td>\n",
       "      <td>1</td>\n",
       "      <td>yes</td>\n",
       "      <td>&lt;p&gt;As part of Periodic Review, steps to be tak...</td>\n",
       "    </tr>\n",
       "    <tr>\n",
       "      <th>26</th>\n",
       "      <td>26</td>\n",
       "      <td>26</td>\n",
       "      <td>When do I need to notify Compliance on suspici...</td>\n",
       "      <td>NaN</td>\n",
       "      <td>NaN</td>\n",
       "      <td>1</td>\n",
       "      <td>yes</td>\n",
       "      <td>&lt;p&gt;\"UTR\" OR \"Unusual Transaction Report\" is an...</td>\n",
       "    </tr>\n",
       "    <tr>\n",
       "      <th>27</th>\n",
       "      <td>27</td>\n",
       "      <td>27</td>\n",
       "      <td>Who should I screen at the point of onboarding...</td>\n",
       "      <td>NaN</td>\n",
       "      <td>NaN</td>\n",
       "      <td>1</td>\n",
       "      <td>yes</td>\n",
       "      <td>&lt;p&gt;The following names must be screened before...</td>\n",
       "    </tr>\n",
       "    <tr>\n",
       "      <th>28</th>\n",
       "      <td>28</td>\n",
       "      <td>28</td>\n",
       "      <td>How to identify source of funds</td>\n",
       "      <td>NaN</td>\n",
       "      <td>NaN</td>\n",
       "      <td>1</td>\n",
       "      <td>yes</td>\n",
       "      <td>&lt;p&gt;You will need to identify the Customer’s so...</td>\n",
       "    </tr>\n",
       "    <tr>\n",
       "      <th>29</th>\n",
       "      <td>29</td>\n",
       "      <td>29</td>\n",
       "      <td>When do I have to complete the verification</td>\n",
       "      <td>NaN</td>\n",
       "      <td>NaN</td>\n",
       "      <td>1</td>\n",
       "      <td>yes</td>\n",
       "      <td>&lt;p&gt;Verification of identities must be complete...</td>\n",
       "    </tr>\n",
       "    <tr>\n",
       "      <th>30</th>\n",
       "      <td>30</td>\n",
       "      <td>30</td>\n",
       "      <td>What are the alternatives if I cannot retain c...</td>\n",
       "      <td>NaN</td>\n",
       "      <td>NaN</td>\n",
       "      <td>1</td>\n",
       "      <td>yes</td>\n",
       "      <td>&lt;p&gt;Copies of all documents used for verificati...</td>\n",
       "    </tr>\n",
       "    <tr>\n",
       "      <th>31</th>\n",
       "      <td>31</td>\n",
       "      <td>31</td>\n",
       "      <td>Alternative approaches in obtaining or verifyi...</td>\n",
       "      <td>NaN</td>\n",
       "      <td>NaN</td>\n",
       "      <td>1</td>\n",
       "      <td>yes</td>\n",
       "      <td>&lt;p&gt;There are alternative approaches if you are...</td>\n",
       "    </tr>\n",
       "    <tr>\n",
       "      <th>32</th>\n",
       "      <td>32</td>\n",
       "      <td>32</td>\n",
       "      <td>What are the alternative measures if I cannot ...</td>\n",
       "      <td>NaN</td>\n",
       "      <td>NaN</td>\n",
       "      <td>1</td>\n",
       "      <td>yes</td>\n",
       "      <td>&lt;p&gt;Only applicable for new customers.&lt;/p&gt;&lt;p&gt;Wh...</td>\n",
       "    </tr>\n",
       "    <tr>\n",
       "      <th>33</th>\n",
       "      <td>33</td>\n",
       "      <td>33</td>\n",
       "      <td>Information needed for identification purpose</td>\n",
       "      <td>NaN</td>\n",
       "      <td>NaN</td>\n",
       "      <td>1</td>\n",
       "      <td>yes</td>\n",
       "      <td>&lt;p&gt;For identification, please obtain and recor...</td>\n",
       "    </tr>\n",
       "    <tr>\n",
       "      <th>34</th>\n",
       "      <td>34</td>\n",
       "      <td>34</td>\n",
       "      <td>When do I need to conduct CDD</td>\n",
       "      <td>NaN</td>\n",
       "      <td>NaN</td>\n",
       "      <td>1</td>\n",
       "      <td>yes</td>\n",
       "      <td>&lt;p&gt;CDD is required when:&lt;/p&gt;&lt;ol&gt;&lt;li&gt;Establishi...</td>\n",
       "    </tr>\n",
       "    <tr>\n",
       "      <th>35</th>\n",
       "      <td>35</td>\n",
       "      <td>35</td>\n",
       "      <td>What are the risk factors that will affect cus...</td>\n",
       "      <td>NaN</td>\n",
       "      <td>NaN</td>\n",
       "      <td>1</td>\n",
       "      <td>yes</td>\n",
       "      <td>&lt;p&gt;For natural person, when assessing customer...</td>\n",
       "    </tr>\n",
       "    <tr>\n",
       "      <th>36</th>\n",
       "      <td>36</td>\n",
       "      <td>36</td>\n",
       "      <td>Who can certify Identification and residential...</td>\n",
       "      <td>WhoCanCertifyIdentificationAndResidentialAddre...</td>\n",
       "      <td>NaN</td>\n",
       "      <td>1</td>\n",
       "      <td>yes</td>\n",
       "      <td>&lt;p&gt;Either &lt;u&gt;bank staff&lt;/u&gt; or &lt;u&gt;parties inde...</td>\n",
       "    </tr>\n",
       "    <tr>\n",
       "      <th>37</th>\n",
       "      <td>37</td>\n",
       "      <td>37</td>\n",
       "      <td>External party</td>\n",
       "      <td>NaN</td>\n",
       "      <td>WhoCanCertifyIdentificationAndResidentialAddre...</td>\n",
       "      <td>2</td>\n",
       "      <td>yes</td>\n",
       "      <td>&lt;p&gt;If you are looking for an external party to...</td>\n",
       "    </tr>\n",
       "    <tr>\n",
       "      <th>38</th>\n",
       "      <td>38</td>\n",
       "      <td>38</td>\n",
       "      <td>Bank staff</td>\n",
       "      <td>NaN</td>\n",
       "      <td>WhoCanCertifyIdentificationAndResidentialAddre...</td>\n",
       "      <td>2</td>\n",
       "      <td>yes</td>\n",
       "      <td>&lt;p&gt;Bank staff is eligible to certify identific...</td>\n",
       "    </tr>\n",
       "    <tr>\n",
       "      <th>39</th>\n",
       "      <td>39</td>\n",
       "      <td>39</td>\n",
       "      <td>Who are the natural person that needs to be id...</td>\n",
       "      <td>NaN</td>\n",
       "      <td>NaN</td>\n",
       "      <td>1</td>\n",
       "      <td>yes</td>\n",
       "      <td>&lt;p&gt;Do you know there are natural persons that ...</td>\n",
       "    </tr>\n",
       "    <tr>\n",
       "      <th>40</th>\n",
       "      <td>40</td>\n",
       "      <td>40</td>\n",
       "      <td>To understand the different types of trigger e...</td>\n",
       "      <td>ToUnderstandTheDifferentTypesOfTriggerEventRev...</td>\n",
       "      <td>NaN</td>\n",
       "      <td>1</td>\n",
       "      <td>yes</td>\n",
       "      <td>&lt;p&gt;Each entity must conduct a review of the Cu...</td>\n",
       "    </tr>\n",
       "    <tr>\n",
       "      <th>41</th>\n",
       "      <td>41</td>\n",
       "      <td>41</td>\n",
       "      <td>Regulatory or Policy-driven TER</td>\n",
       "      <td>NaN</td>\n",
       "      <td>ToUnderstandTheDifferentTypesOfTriggerEventRev...</td>\n",
       "      <td>2</td>\n",
       "      <td>yes</td>\n",
       "      <td>&lt;p&gt;Regulatory or Policy-driven trigger events ...</td>\n",
       "    </tr>\n",
       "    <tr>\n",
       "      <th>42</th>\n",
       "      <td>42</td>\n",
       "      <td>42</td>\n",
       "      <td>Non-material</td>\n",
       "      <td>NaN</td>\n",
       "      <td>ToUnderstandTheDifferentTypesOfTriggerEventRev...</td>\n",
       "      <td>2</td>\n",
       "      <td>yes</td>\n",
       "      <td>&lt;p&gt;Non-Material trigger events review occurs w...</td>\n",
       "    </tr>\n",
       "    <tr>\n",
       "      <th>43</th>\n",
       "      <td>43</td>\n",
       "      <td>43</td>\n",
       "      <td>Material TER</td>\n",
       "      <td>NaN</td>\n",
       "      <td>ToUnderstandTheDifferentTypesOfTriggerEventRev...</td>\n",
       "      <td>2</td>\n",
       "      <td>yes</td>\n",
       "      <td>&lt;p&gt;Material trigger events review occurs when ...</td>\n",
       "    </tr>\n",
       "    <tr>\n",
       "      <th>44</th>\n",
       "      <td>44</td>\n",
       "      <td>44</td>\n",
       "      <td>Who can perform the translation of non-English...</td>\n",
       "      <td>NaN</td>\n",
       "      <td>NaN</td>\n",
       "      <td>1</td>\n",
       "      <td>yes</td>\n",
       "      <td>&lt;p&gt;For translation of non-English documents, t...</td>\n",
       "    </tr>\n",
       "    <tr>\n",
       "      <th>45</th>\n",
       "      <td>45</td>\n",
       "      <td>45</td>\n",
       "      <td>To understand the frequency of periodic review...</td>\n",
       "      <td>NaN</td>\n",
       "      <td>NaN</td>\n",
       "      <td>1</td>\n",
       "      <td>yes</td>\n",
       "      <td>&lt;p&gt;For your easy reference, below is a list fo...</td>\n",
       "    </tr>\n",
       "    <tr>\n",
       "      <th>46</th>\n",
       "      <td>46</td>\n",
       "      <td>46</td>\n",
       "      <td>Can post office box address be used as a resid...</td>\n",
       "      <td>NaN</td>\n",
       "      <td>NaN</td>\n",
       "      <td>1</td>\n",
       "      <td>yes</td>\n",
       "      <td>&lt;p&gt;A post office box (“PO box”) address is gen...</td>\n",
       "    </tr>\n",
       "    <tr>\n",
       "      <th>47</th>\n",
       "      <td>47</td>\n",
       "      <td>47</td>\n",
       "      <td>What is an acceptable identification document</td>\n",
       "      <td>NaN</td>\n",
       "      <td>NaN</td>\n",
       "      <td>1</td>\n",
       "      <td>yes</td>\n",
       "      <td>&lt;p&gt;An acceptable identification document is a ...</td>\n",
       "    </tr>\n",
       "    <tr>\n",
       "      <th>48</th>\n",
       "      <td>48</td>\n",
       "      <td>48</td>\n",
       "      <td>What are the acceptable documents for resident...</td>\n",
       "      <td>NaN</td>\n",
       "      <td>NaN</td>\n",
       "      <td>1</td>\n",
       "      <td>yes</td>\n",
       "      <td>&lt;p&gt;To make this simple for you, I have consoli...</td>\n",
       "    </tr>\n",
       "    <tr>\n",
       "      <th>49</th>\n",
       "      <td>49</td>\n",
       "      <td>49</td>\n",
       "      <td>What to do if my customer is no longer a PEP</td>\n",
       "      <td>NaN</td>\n",
       "      <td>NaN</td>\n",
       "      <td>1</td>\n",
       "      <td>yes</td>\n",
       "      <td>&lt;p&gt;Politically Exposed Person (\"PEP\") who no l...</td>\n",
       "    </tr>\n",
       "  </tbody>\n",
       "</table>\n",
       "</div>"
      ],
      "text/plain": [
       "    Unnamed: 0  Label                                             Intent  \\\n",
       "0            0      0  Is GLRC-AML approval required when risk rating...   \n",
       "1            1      1                                What is tax evasion   \n",
       "2            2      2                                       What is CRAM   \n",
       "3            3      3                         What is the approval level   \n",
       "4            4      4  Difference between customer due diligence and ...   \n",
       "5            5      5  What type of customers are considered as unacc...   \n",
       "6            6      6  What are the documents required for CDD for na...   \n",
       "7            7      7  What to do when customer apply new products or...   \n",
       "8            8      8                           Info on non-material TER   \n",
       "9            9      9                               Info on Material TER   \n",
       "10          10     10      Who is considered a High net worth individual   \n",
       "11          11     11            Definition of Ultimate Beneficial Owner   \n",
       "12          12     12                Do we need to track exited customer   \n",
       "13          13     13          Who is considered as authorised signatory   \n",
       "14          14     14  Difference between source of fund, source of w...   \n",
       "15          15     15                     Definition of source of income   \n",
       "16          16     16                     Definition of source of wealth   \n",
       "17          17     17                      Definition of source of funds   \n",
       "18          18     18                         What to do for Russian PEP   \n",
       "19          19     19                             Enhanced Due Diligence   \n",
       "20          20     20  When is enhanced due diligence required for my...   \n",
       "21          21     21                            Additional EDD measures   \n",
       "22          22     22  What is the retention period for the CDD and t...   \n",
       "23          23     23  What is the due diligence requirement for intr...   \n",
       "24          24     24           When must I complete the periodic review   \n",
       "25          25     25    What do I have to do as part of periodic review   \n",
       "26          26     26  When do I need to notify Compliance on suspici...   \n",
       "27          27     27  Who should I screen at the point of onboarding...   \n",
       "28          28     28                    How to identify source of funds   \n",
       "29          29     29        When do I have to complete the verification   \n",
       "30          30     30  What are the alternatives if I cannot retain c...   \n",
       "31          31     31  Alternative approaches in obtaining or verifyi...   \n",
       "32          32     32  What are the alternative measures if I cannot ...   \n",
       "33          33     33      Information needed for identification purpose   \n",
       "34          34     34                      When do I need to conduct CDD   \n",
       "35          35     35  What are the risk factors that will affect cus...   \n",
       "36          36     36  Who can certify Identification and residential...   \n",
       "37          37     37                                     External party   \n",
       "38          38     38                                         Bank staff   \n",
       "39          39     39  Who are the natural person that needs to be id...   \n",
       "40          40     40  To understand the different types of trigger e...   \n",
       "41          41     41                    Regulatory or Policy-driven TER   \n",
       "42          42     42                                       Non-material   \n",
       "43          43     43                                       Material TER   \n",
       "44          44     44  Who can perform the translation of non-English...   \n",
       "45          45     45  To understand the frequency of periodic review...   \n",
       "46          46     46  Can post office box address be used as a resid...   \n",
       "47          47     47      What is an acceptable identification document   \n",
       "48          48     48  What are the acceptable documents for resident...   \n",
       "49          49     49       What to do if my customer is no longer a PEP   \n",
       "\n",
       "                                          Out-context  \\\n",
       "0                                                 NaN   \n",
       "1                                                 NaN   \n",
       "2                                                 NaN   \n",
       "3                                                 NaN   \n",
       "4                                                 NaN   \n",
       "5                                                 NaN   \n",
       "6                                                 NaN   \n",
       "7   WhatToDoWhenCustomerApplyNewProductsOrChangePe...   \n",
       "8                                                 NaN   \n",
       "9                                                 NaN   \n",
       "10                                                NaN   \n",
       "11                                                NaN   \n",
       "12                                                NaN   \n",
       "13                                                NaN   \n",
       "14                                                NaN   \n",
       "15                                                NaN   \n",
       "16                                                NaN   \n",
       "17                                                NaN   \n",
       "18                                                NaN   \n",
       "19                      EnhancedDueDiligence-followup   \n",
       "20                                                NaN   \n",
       "21                                                NaN   \n",
       "22                                                NaN   \n",
       "23                                                NaN   \n",
       "24                                                NaN   \n",
       "25                                                NaN   \n",
       "26                                                NaN   \n",
       "27                                                NaN   \n",
       "28                                                NaN   \n",
       "29                                                NaN   \n",
       "30                                                NaN   \n",
       "31                                                NaN   \n",
       "32                                                NaN   \n",
       "33                                                NaN   \n",
       "34                                                NaN   \n",
       "35                                                NaN   \n",
       "36  WhoCanCertifyIdentificationAndResidentialAddre...   \n",
       "37                                                NaN   \n",
       "38                                                NaN   \n",
       "39                                                NaN   \n",
       "40  ToUnderstandTheDifferentTypesOfTriggerEventRev...   \n",
       "41                                                NaN   \n",
       "42                                                NaN   \n",
       "43                                                NaN   \n",
       "44                                                NaN   \n",
       "45                                                NaN   \n",
       "46                                                NaN   \n",
       "47                                                NaN   \n",
       "48                                                NaN   \n",
       "49                                                NaN   \n",
       "\n",
       "                                           In-context  Level Visibility  \\\n",
       "0                                                 NaN      1        yes   \n",
       "1                                                 NaN      1        yes   \n",
       "2                                                 NaN      1        yes   \n",
       "3                                                 NaN      1        yes   \n",
       "4                                                 NaN      1        yes   \n",
       "5                                                 NaN      1        yes   \n",
       "6                                                 NaN      1        yes   \n",
       "7                                                 NaN      1        yes   \n",
       "8   WhatToDoWhenCustomerApplyNewProductsOrChangePe...      2        yes   \n",
       "9   WhatToDoWhenCustomerApplyNewProductsOrChangePe...      2        yes   \n",
       "10                                                NaN      1        yes   \n",
       "11                                                NaN      1        yes   \n",
       "12                                                NaN      1        yes   \n",
       "13                                                NaN      1        yes   \n",
       "14                                                NaN      1        yes   \n",
       "15                                                NaN      1        yes   \n",
       "16                                                NaN      1        yes   \n",
       "17                                                NaN      1        yes   \n",
       "18                                                NaN      1        yes   \n",
       "19                                                NaN      1        yes   \n",
       "20                      EnhancedDueDiligence-followup      2        yes   \n",
       "21                      EnhancedDueDiligence-followup      2        yes   \n",
       "22                                                NaN      1        yes   \n",
       "23                                                NaN      1        yes   \n",
       "24                                                NaN      1        yes   \n",
       "25                                                NaN      1        yes   \n",
       "26                                                NaN      1        yes   \n",
       "27                                                NaN      1        yes   \n",
       "28                                                NaN      1        yes   \n",
       "29                                                NaN      1        yes   \n",
       "30                                                NaN      1        yes   \n",
       "31                                                NaN      1        yes   \n",
       "32                                                NaN      1        yes   \n",
       "33                                                NaN      1        yes   \n",
       "34                                                NaN      1        yes   \n",
       "35                                                NaN      1        yes   \n",
       "36                                                NaN      1        yes   \n",
       "37  WhoCanCertifyIdentificationAndResidentialAddre...      2        yes   \n",
       "38  WhoCanCertifyIdentificationAndResidentialAddre...      2        yes   \n",
       "39                                                NaN      1        yes   \n",
       "40                                                NaN      1        yes   \n",
       "41  ToUnderstandTheDifferentTypesOfTriggerEventRev...      2        yes   \n",
       "42  ToUnderstandTheDifferentTypesOfTriggerEventRev...      2        yes   \n",
       "43  ToUnderstandTheDifferentTypesOfTriggerEventRev...      2        yes   \n",
       "44                                                NaN      1        yes   \n",
       "45                                                NaN      1        yes   \n",
       "46                                                NaN      1        yes   \n",
       "47                                                NaN      1        yes   \n",
       "48                                                NaN      1        yes   \n",
       "49                                                NaN      1        yes   \n",
       "\n",
       "                                     Answer-formatted  \n",
       "0   <p>Where you want to lower the risk rating e.g...  \n",
       "1   <p>Tax evasion is the illegal evasion of taxes...  \n",
       "2   <p>Customer money laundering/terrorism financi...  \n",
       "3   <p>Approval from the Division Head and concurr...  \n",
       "4   <p>Enhanced due diligence measures (EDD) inclu...  \n",
       "5   <p>We must not establish business relations wi...  \n",
       "6   <p>You will need to collect documents that can...  \n",
       "7   <p>If your customer apply for additional produ...  \n",
       "8   <p>Non-Material trigger events review occurs w...  \n",
       "9   <p>Material trigger events review occurs when ...  \n",
       "10  <p>“High Net Worth Individual” refers to a nat...  \n",
       "11  <p>“Ultimate Beneficial Owner” or \"UBO\" refers...  \n",
       "12  <p>The bank should keep a register of the Cust...  \n",
       "13  <p>“Authorized Signatories” refers to natural ...  \n",
       "14  <p>Source of Wealth generally refers to the or...  \n",
       "15  <p>Do you know? “Source of Income” or “SOI” re...  \n",
       "16  <p>Do you know? “Source of Wealth” or “SOW” ge...  \n",
       "17  <p>Do you know? “Source of Funds” or “SOF” ref...  \n",
       "18  <p>Russian law(“Law 79-FZ”) prohibits Russian ...  \n",
       "19  <p>Please indicate which aspect of enhanced du...  \n",
       "20  <p>Your customer will require enhanced due dil...  \n",
       "21  <ol><li> For enhance due diligence(\"EDD\"), in ...  \n",
       "22  <ol><li> The bank must retain documentation on...  \n",
       "23  <ol><li> As the introducer introduces prospect...  \n",
       "24  <ol><li>A <b>Periodic Review</b> should be com...  \n",
       "25  <p>As part of Periodic Review, steps to be tak...  \n",
       "26  <p>\"UTR\" OR \"Unusual Transaction Report\" is an...  \n",
       "27  <p>The following names must be screened before...  \n",
       "28  <p>You will need to identify the Customer’s so...  \n",
       "29  <p>Verification of identities must be complete...  \n",
       "30  <p>Copies of all documents used for verificati...  \n",
       "31  <p>There are alternative approaches if you are...  \n",
       "32  <p>Only applicable for new customers.</p><p>Wh...  \n",
       "33  <p>For identification, please obtain and recor...  \n",
       "34  <p>CDD is required when:</p><ol><li>Establishi...  \n",
       "35  <p>For natural person, when assessing customer...  \n",
       "36  <p>Either <u>bank staff</u> or <u>parties inde...  \n",
       "37  <p>If you are looking for an external party to...  \n",
       "38  <p>Bank staff is eligible to certify identific...  \n",
       "39  <p>Do you know there are natural persons that ...  \n",
       "40  <p>Each entity must conduct a review of the Cu...  \n",
       "41  <p>Regulatory or Policy-driven trigger events ...  \n",
       "42  <p>Non-Material trigger events review occurs w...  \n",
       "43  <p>Material trigger events review occurs when ...  \n",
       "44  <p>For translation of non-English documents, t...  \n",
       "45  <p>For your easy reference, below is a list fo...  \n",
       "46  <p>A post office box (“PO box”) address is gen...  \n",
       "47  <p>An acceptable identification document is a ...  \n",
       "48  <p>To make this simple for you, I have consoli...  \n",
       "49  <p>Politically Exposed Person (\"PEP\") who no l...  "
      ]
     },
     "execution_count": 4,
     "metadata": {},
     "output_type": "execute_result"
    }
   ],
   "source": [
    "x = NLP()\n",
    "x.mappings.head(50)"
   ]
  },
  {
   "cell_type": "markdown",
   "metadata": {},
   "source": [
    "#### Train TFIDF and export model file"
   ]
  },
  {
   "cell_type": "code",
   "execution_count": 5,
   "metadata": {
    "scrolled": true
   },
   "outputs": [
    {
     "name": "stdout",
     "output_type": "stream",
     "text": [
      "Labels:  [ 0  0  0  0  0  0  0  0  1  1  1  1  1  2  2  2  2  2  2  2  3  3  3  3\n",
      "  3  3  3  4  4  4  4  4  5  5  5  5  5  5  5  5  5  5  5  6  6  6  6  6\n",
      "  7  7  7  7  7  7  7  7  7  7  7  7  7  7  8  9 10 10 10 10 10 10 10 10\n",
      " 10 10 10 10 10 11 11 11 11 11 11 11 11 12 12 12 12 12 12 12 13 13 13 13\n",
      " 13 13 13 13 13 13 13 13 13 14 14 14 14 14 14 14 15 15 15 15 15 15 15 15\n",
      " 15 15 16 16 16 16 16 16 16 16 16 16 17 17 17 17 17 17 17 17 17 17 18 18\n",
      " 18 18 18 18 18 18 18 18 18 18 18 18 18 18 18 19 19 19 19 19 19 19 19 19\n",
      " 19 19 19 19 19 20 20 20 20 20 20 20 20 20 20 20 20 20 20 20 20 20 20 20\n",
      " 20 20 20 20 20 20 20 21 21 21 21 21 21 21 21 21 21 21 21 21 22 22 22 22\n",
      " 22 22 22 22 22 22 22 22 22 22 23 23 23 23 23 23 23 23 23 24 24 24 24 24\n",
      " 24 24 24 24 24 24 24 24 24 24 24 24 24 24 25 25 25 25 25 25 25 25 25 25\n",
      " 25 25 26 26 26 26 26 26 26 26 26 26 26 26 26 26 26 26 26 26 26 27 27 27\n",
      " 27 27 27 27 27 27 27 27 27 27 28 28 28 28 28 28 28 28 28 28 28 28 28 28\n",
      " 29 29 29 29 29 29 29 29 29 29 29 30 30 30 30 30 30 30 30 30 30 30 31 31\n",
      " 31 31 31 31 31 31 31 31 32 32 32 32 32 32 32 32 32 32 32 32 32 32 32 32\n",
      " 33 33 33 33 33 33 33 33 33 33 34 34 34 34 34 34 34 34 34 34 34 34 34 34\n",
      " 34 34 34 34 34 35 35 35 35 35 35 35 35 35 36 36 36 36 36 36 36 36 36 36\n",
      " 37 37 37 37 37 37 37 37 38 38 38 38 38 38 38 38 38 39 39 39 39 39 39 39\n",
      " 39 39 39 39 39 39 39 39 39 39 39 39 39 39 39 39 39 39 39 40 40 40 40 40\n",
      " 40 40 40 40 40 40 40 40 40 41 41 41 41 41 41 41 41 42 42 42 42 42 42 42\n",
      " 42 43 43 43 43 43 43 43 43 43 44 44 44 44 44 44 44 45 45 45 45 45 45 45\n",
      " 45 45 45 45 45 45 45 45 45 45 46 46 46 46 46 46 46 46 47 47 47 47 47 47\n",
      " 47 47 47 47 47 47 47 47 47 47 48 48 48 48 48 48 48 48 48 48 48 48 48 48\n",
      " 48 49 49 49 49 49 49 49 49 49 49 49 49 49 49 49 49 49 49 49 49 49 50 50\n",
      " 50 50 50 50 50 51 51 51 51 51 51 51 51 51 51 52 52 52 52 52 52 52 52 53\n",
      " 53 53 53 53 53 53 53 53 53 54 54 54 54 54 54 54 54 55 55 55 55 55 55 55\n",
      " 55 55 56 56 56 56 56 56 56 56 56 56 56 56 56 56 56 56 57 57 57 57 57 57\n",
      " 57 57 57 57 57]\n",
      "L1 accuracy: 79.41176470588235%\n"
     ]
    }
   ],
   "source": [
    "# Training the model will also save the model (and the TFIDF vectorizer) as a pickle file\n",
    "x.train_tfidf()"
   ]
  },
  {
   "cell_type": "markdown",
   "metadata": {},
   "source": [
    "#### Test"
   ]
  },
  {
   "cell_type": "code",
   "execution_count": 7,
   "metadata": {},
   "outputs": [
    {
     "name": "stdout",
     "output_type": "stream",
     "text": [
      "When is enhanced due diligence required for my customer \n",
      "\n",
      "Enhanced Due Diligence \n",
      "\n",
      "Additional EDD measures \n",
      "\n"
     ]
    }
   ],
   "source": [
    "# Insert a test query here\n",
    "query = 'how to cancel my credit card?'\n",
    "\n",
    "df = x.test_tfidf(query)\n",
    "\n",
    "for index in df['Class']:\n",
    "    print(x.mappings[x.mappings['Label']==index]['Intent'].values[0], '\\n')\n"
   ]
  },
  {
   "cell_type": "markdown",
   "metadata": {},
   "source": [
    "## Tf-idf Baseline model "
   ]
  },
  {
   "cell_type": "code",
   "execution_count": 2,
   "metadata": {
    "ExecuteTime": {
     "end_time": "2020-03-30T09:04:13.605040Z",
     "start_time": "2020-03-30T09:04:13.481981Z"
    }
   },
   "outputs": [],
   "source": [
    "data = pd.read_excel('bot.xlsx', sheet_name='Intents')\n",
    "data = data[['Questions','Intent']]\n",
    "\n",
    "data = data.dropna().drop_duplicates()\n",
    "data['Questions'] = data['Questions'].apply(lambda x: x.lower())\n",
    "data['Questions']  = data['Questions'].apply(lambda x: re.sub(r'(!|\\.|,|\\(|\\)|\\[|\\]|\\\\|\\?|\\$|#|%|\\*)', '', x))\n",
    "data['Intent'] = data['Intent'].astype(str)"
   ]
  },
  {
   "cell_type": "code",
   "execution_count": 3,
   "metadata": {
    "ExecuteTime": {
     "end_time": "2020-03-30T09:04:13.850511Z",
     "start_time": "2020-03-30T09:04:13.839540Z"
    }
   },
   "outputs": [
    {
     "data": {
      "text/html": [
       "<div>\n",
       "<style scoped>\n",
       "    .dataframe tbody tr th:only-of-type {\n",
       "        vertical-align: middle;\n",
       "    }\n",
       "\n",
       "    .dataframe tbody tr th {\n",
       "        vertical-align: top;\n",
       "    }\n",
       "\n",
       "    .dataframe thead th {\n",
       "        text-align: right;\n",
       "    }\n",
       "</style>\n",
       "<table border=\"1\" class=\"dataframe\">\n",
       "  <thead>\n",
       "    <tr style=\"text-align: right;\">\n",
       "      <th></th>\n",
       "      <th>Questions</th>\n",
       "      <th>Intent</th>\n",
       "    </tr>\n",
       "  </thead>\n",
       "  <tbody>\n",
       "    <tr>\n",
       "      <th>0</th>\n",
       "      <td>what promotions do you have</td>\n",
       "      <td>Promotions</td>\n",
       "    </tr>\n",
       "    <tr>\n",
       "      <th>1</th>\n",
       "      <td>what promotions are available</td>\n",
       "      <td>Promotions</td>\n",
       "    </tr>\n",
       "    <tr>\n",
       "      <th>2</th>\n",
       "      <td>promotions</td>\n",
       "      <td>Promotions</td>\n",
       "    </tr>\n",
       "  </tbody>\n",
       "</table>\n",
       "</div>"
      ],
      "text/plain": [
       "                       Questions      Intent\n",
       "0    what promotions do you have  Promotions\n",
       "1  what promotions are available  Promotions\n",
       "2                     promotions  Promotions"
      ]
     },
     "execution_count": 3,
     "metadata": {},
     "output_type": "execute_result"
    }
   ],
   "source": [
    "data.head(3)"
   ]
  },
  {
   "cell_type": "code",
   "execution_count": 4,
   "metadata": {
    "ExecuteTime": {
     "end_time": "2020-03-30T09:04:30.835232Z",
     "start_time": "2020-03-30T09:04:14.336417Z"
    }
   },
   "outputs": [
    {
     "name": "stdout",
     "output_type": "stream",
     "text": [
      "Fitting 5 folds for each of 72 candidates, totalling 360 fits\n"
     ]
    },
    {
     "name": "stderr",
     "output_type": "stream",
     "text": [
      "C:\\Users\\xiaoxu\\anaconda3\\envs\\fastai\\lib\\site-packages\\sklearn\\model_selection\\_split.py:667: UserWarning:\n",
      "\n",
      "The least populated class in y has only 1 members, which is less than n_splits=5.\n",
      "\n",
      "[Parallel(n_jobs=-1)]: Using backend LokyBackend with 12 concurrent workers.\n",
      "[Parallel(n_jobs=-1)]: Done  17 tasks      | elapsed:    1.7s\n",
      "[Parallel(n_jobs=-1)]: Done 138 tasks      | elapsed:    5.9s\n",
      "[Parallel(n_jobs=-1)]: Done 360 out of 360 | elapsed:   16.1s finished\n"
     ]
    },
    {
     "name": "stdout",
     "output_type": "stream",
     "text": [
      "Best score: 0.82025\n",
      "Best parameters set:\n",
      "\tclf__max_depth: 30\n",
      "\tclf__n_estimators: 200\n",
      "\tvect__ngram_range: (1, 1)\n"
     ]
    }
   ],
   "source": [
    "# use original data\n",
    "pipeline = Pipeline([\n",
    "            ('vect', TfidfVectorizer()),\n",
    "            ('clf', RandomForestClassifier()),\n",
    "        ])\n",
    "        \n",
    "parameters = {\n",
    "    'vect__ngram_range': [(1,1),(1,2),(1,3)],\n",
    "    'clf__n_estimators': [50,100,200,300],\n",
    "    'clf__max_depth': [8,10,15,20,25,30]\n",
    "}\n",
    "\n",
    "# grid search for best estimator\n",
    "grid_search = GridSearchCV(pipeline, parameters, cv=5, n_jobs=-1, verbose=2,scoring='accuracy')\n",
    "grid_search.fit(data['Questions'], data['Intent'])\n",
    "\n",
    "print(\"Best score: %0.5f\" % grid_search.best_score_)\n",
    "print(\"Best parameters set:\")\n",
    "best_parameters = grid_search.best_estimator_.get_params()\n",
    "for param_name in sorted(parameters.keys()): \n",
    "    print(\"\\t%s: %r\" % (param_name, best_parameters[param_name]))"
   ]
  },
  {
   "cell_type": "code",
   "execution_count": 5,
   "metadata": {
    "ExecuteTime": {
     "end_time": "2020-03-30T09:04:30.886130Z",
     "start_time": "2020-03-30T09:04:30.836230Z"
    }
   },
   "outputs": [
    {
     "data": {
      "text/html": [
       "<div>\n",
       "<style scoped>\n",
       "    .dataframe tbody tr th:only-of-type {\n",
       "        vertical-align: middle;\n",
       "    }\n",
       "\n",
       "    .dataframe tbody tr th {\n",
       "        vertical-align: top;\n",
       "    }\n",
       "\n",
       "    .dataframe thead th {\n",
       "        text-align: right;\n",
       "    }\n",
       "</style>\n",
       "<table border=\"1\" class=\"dataframe\">\n",
       "  <thead>\n",
       "    <tr style=\"text-align: right;\">\n",
       "      <th></th>\n",
       "      <th>Questions</th>\n",
       "      <th>Intent</th>\n",
       "      <th>predicted_label</th>\n",
       "    </tr>\n",
       "  </thead>\n",
       "  <tbody>\n",
       "    <tr>\n",
       "      <th>0</th>\n",
       "      <td>what promotions do you have</td>\n",
       "      <td>Promotions</td>\n",
       "      <td>Promotions</td>\n",
       "    </tr>\n",
       "    <tr>\n",
       "      <th>1</th>\n",
       "      <td>what promotions are available</td>\n",
       "      <td>Promotions</td>\n",
       "      <td>Promotions</td>\n",
       "    </tr>\n",
       "    <tr>\n",
       "      <th>2</th>\n",
       "      <td>promotions</td>\n",
       "      <td>Promotions</td>\n",
       "      <td>Promotions</td>\n",
       "    </tr>\n",
       "    <tr>\n",
       "      <th>3</th>\n",
       "      <td>i want to see promotions</td>\n",
       "      <td>Promotions</td>\n",
       "      <td>Promotions</td>\n",
       "    </tr>\n",
       "    <tr>\n",
       "      <th>4</th>\n",
       "      <td>view promotions</td>\n",
       "      <td>Promotions</td>\n",
       "      <td>Promotions</td>\n",
       "    </tr>\n",
       "    <tr>\n",
       "      <th>...</th>\n",
       "      <td>...</td>\n",
       "      <td>...</td>\n",
       "      <td>...</td>\n",
       "    </tr>\n",
       "    <tr>\n",
       "      <th>416</th>\n",
       "      <td>how to update contact number</td>\n",
       "      <td>Update details</td>\n",
       "      <td>Update details</td>\n",
       "    </tr>\n",
       "    <tr>\n",
       "      <th>417</th>\n",
       "      <td>update mailing address</td>\n",
       "      <td>Update details</td>\n",
       "      <td>Update details</td>\n",
       "    </tr>\n",
       "    <tr>\n",
       "      <th>418</th>\n",
       "      <td>i need to update my email address</td>\n",
       "      <td>Update details</td>\n",
       "      <td>Update details</td>\n",
       "    </tr>\n",
       "    <tr>\n",
       "      <th>419</th>\n",
       "      <td>how to update email address</td>\n",
       "      <td>Update details</td>\n",
       "      <td>Update details</td>\n",
       "    </tr>\n",
       "    <tr>\n",
       "      <th>420</th>\n",
       "      <td>can i update my email address</td>\n",
       "      <td>Update details</td>\n",
       "      <td>Update details</td>\n",
       "    </tr>\n",
       "  </tbody>\n",
       "</table>\n",
       "<p>395 rows × 3 columns</p>\n",
       "</div>"
      ],
      "text/plain": [
       "                             Questions          Intent predicted_label\n",
       "0          what promotions do you have      Promotions      Promotions\n",
       "1        what promotions are available      Promotions      Promotions\n",
       "2                           promotions      Promotions      Promotions\n",
       "3             i want to see promotions      Promotions      Promotions\n",
       "4                      view promotions      Promotions      Promotions\n",
       "..                                 ...             ...             ...\n",
       "416       how to update contact number  Update details  Update details\n",
       "417             update mailing address  Update details  Update details\n",
       "418  i need to update my email address  Update details  Update details\n",
       "419        how to update email address  Update details  Update details\n",
       "420      can i update my email address  Update details  Update details\n",
       "\n",
       "[395 rows x 3 columns]"
      ]
     },
     "execution_count": 5,
     "metadata": {},
     "output_type": "execute_result"
    }
   ],
   "source": [
    "# Get predictions\n",
    "\"\"\"\n",
    "It is over-fitted because no train-test-split.\n",
    "Just want to build the pipeline so that can test later after the test data comes\n",
    "\"\"\"\n",
    "estimator = grid_search.best_estimator_\n",
    "probs = estimator.predict_proba(data['Questions'])\n",
    "data['pred'] = np.argsort(probs, axis=1)[:,-1]\n",
    "data['predicted_label'] = data['pred'].apply(lambda x: estimator.classes_[x])\n",
    "data.drop(columns = 'pred', axis=1, inplace=True)\n",
    "data"
   ]
  },
  {
   "cell_type": "code",
   "execution_count": 8,
   "metadata": {
    "ExecuteTime": {
     "end_time": "2020-03-30T09:05:56.432998Z",
     "start_time": "2020-03-30T09:05:56.428012Z"
    }
   },
   "outputs": [],
   "source": [
    "# view the most important words\n",
    "vectorizer = estimator['vect']\n",
    "clf = estimator['clf']\n",
    "\n",
    "def print_top10(vectorizer, clf):\n",
    "    \"\"\"Prints features with the highest coefficient values, per class\"\"\"\n",
    "    feature_names = vectorizer.get_feature_names()\n",
    "    top10 = np.argsort(clf.feature_importances_)[-30:]\n",
    "    print([feature_names[j] for j in top10])"
   ]
  },
  {
   "cell_type": "code",
   "execution_count": 7,
   "metadata": {
    "ExecuteTime": {
     "end_time": "2020-03-30T09:04:30.911064Z",
     "start_time": "2020-03-30T09:04:30.892079Z"
    }
   },
   "outputs": [
    {
     "name": "stdout",
     "output_type": "stream",
     "text": [
      "['reprice', 'activate', 'hardware', 'change', 'application', 'talk', 'bank', 'want', 'cancel', 'atm', 'debit', 'investment', 'limit', 'token', 'how', 'personal', 'waiver', 'late', 'credit', 'for', 'statement', 'fee', 'interest', 'update', 'loan', 'to', 'account', 'promotions', 'my', 'card']\n"
     ]
    }
   ],
   "source": [
    "print_top10(vectorizer, clf)"
   ]
  },
  {
   "cell_type": "markdown",
   "metadata": {},
   "source": [
    "## Add spacy features and view feature importance"
   ]
  },
  {
   "cell_type": "markdown",
   "metadata": {},
   "source": [
    "### Load data and some pre-processing"
   ]
  },
  {
   "cell_type": "code",
   "execution_count": 31,
   "metadata": {
    "ExecuteTime": {
     "end_time": "2020-03-30T09:08:58.596419Z",
     "start_time": "2020-03-30T09:08:58.490702Z"
    }
   },
   "outputs": [
    {
     "data": {
      "text/html": [
       "<div>\n",
       "<style scoped>\n",
       "    .dataframe tbody tr th:only-of-type {\n",
       "        vertical-align: middle;\n",
       "    }\n",
       "\n",
       "    .dataframe tbody tr th {\n",
       "        vertical-align: top;\n",
       "    }\n",
       "\n",
       "    .dataframe thead th {\n",
       "        text-align: right;\n",
       "    }\n",
       "</style>\n",
       "<table border=\"1\" class=\"dataframe\">\n",
       "  <thead>\n",
       "    <tr style=\"text-align: right;\">\n",
       "      <th></th>\n",
       "      <th>Questions</th>\n",
       "      <th>Intent</th>\n",
       "    </tr>\n",
       "  </thead>\n",
       "  <tbody>\n",
       "    <tr>\n",
       "      <th>0</th>\n",
       "      <td>what promotions do you have</td>\n",
       "      <td>Promotions</td>\n",
       "    </tr>\n",
       "    <tr>\n",
       "      <th>1</th>\n",
       "      <td>what promotions are available</td>\n",
       "      <td>Promotions</td>\n",
       "    </tr>\n",
       "    <tr>\n",
       "      <th>2</th>\n",
       "      <td>promotions</td>\n",
       "      <td>Promotions</td>\n",
       "    </tr>\n",
       "    <tr>\n",
       "      <th>3</th>\n",
       "      <td>i want to see promotions</td>\n",
       "      <td>Promotions</td>\n",
       "    </tr>\n",
       "    <tr>\n",
       "      <th>4</th>\n",
       "      <td>view promotions</td>\n",
       "      <td>Promotions</td>\n",
       "    </tr>\n",
       "  </tbody>\n",
       "</table>\n",
       "</div>"
      ],
      "text/plain": [
       "                       Questions      Intent\n",
       "0    what promotions do you have  Promotions\n",
       "1  what promotions are available  Promotions\n",
       "2                     promotions  Promotions\n",
       "3       i want to see promotions  Promotions\n",
       "4                view promotions  Promotions"
      ]
     },
     "execution_count": 31,
     "metadata": {},
     "output_type": "execute_result"
    }
   ],
   "source": [
    "data = pd.read_excel('bot.xlsx', sheet_name='Intents')\n",
    "data = data[['Questions','Intent']]\n",
    "\n",
    "data = data.dropna().drop_duplicates()\n",
    "data['Questions'] = data['Questions'].apply(lambda x: x.lower())\n",
    "data['Questions']  = data['Questions'].apply(lambda x: re.sub(r'(!|\\.|,|\\(|\\)|\\[|\\]|\\\\|\\?|\\$|#|%|\\*)', '', x))\n",
    "data['Intent'] = data['Intent'].astype(str)\n",
    "\n",
    "data.head()"
   ]
  },
  {
   "cell_type": "code",
   "execution_count": 32,
   "metadata": {
    "ExecuteTime": {
     "end_time": "2020-03-30T09:08:59.072036Z",
     "start_time": "2020-03-30T09:08:58.920274Z"
    }
   },
   "outputs": [],
   "source": [
    "# load spacy model \n",
    "import spacy\n",
    "nlp = spacy.load(\"en_core_web_sm\")"
   ]
  },
  {
   "cell_type": "markdown",
   "metadata": {},
   "source": [
    "### Add noun and Verb (delete stop words)"
   ]
  },
  {
   "cell_type": "code",
   "execution_count": 33,
   "metadata": {
    "ExecuteTime": {
     "end_time": "2020-03-30T09:08:59.892282Z",
     "start_time": "2020-03-30T09:08:59.890252Z"
    }
   },
   "outputs": [],
   "source": [
    "from spacy.lang.en.stop_words import STOP_WORDS\n",
    "stop_words = list(STOP_WORDS)"
   ]
  },
  {
   "cell_type": "code",
   "execution_count": 34,
   "metadata": {
    "ExecuteTime": {
     "end_time": "2020-03-30T09:09:04.124295Z",
     "start_time": "2020-03-30T09:09:00.258258Z"
    }
   },
   "outputs": [],
   "source": [
    "data['noun'] = data['Questions'].apply(lambda x: list(set([token.lemma_ for token in nlp(x) if token.pos_ in ['NOUN','PROPN'] and token.text not in stop_words])))\n",
    "data['verb'] = data['Questions'].apply(lambda x: list(set([token.lemma_ for token in nlp(x) if token.pos_ in ['VERB'] and token.text not in stop_words])))"
   ]
  },
  {
   "cell_type": "markdown",
   "metadata": {},
   "source": [
    "### Add keywords (base on those words appear in Intent)"
   ]
  },
  {
   "cell_type": "code",
   "execution_count": 35,
   "metadata": {
    "ExecuteTime": {
     "end_time": "2020-03-30T09:09:06.093043Z",
     "start_time": "2020-03-30T09:09:04.125105Z"
    }
   },
   "outputs": [
    {
     "name": "stdout",
     "output_type": "stream",
     "text": [
      "['property', 'suspension', 'fee', 'rewards', 'accounts', 'service', 'sponsorship', 'malaysia', 'promotions', 'details', 'loans', 'activation', 'credit', 'transaction', 'nisp', 'investment', 'securities', 'loans', 'enquiry', 'hardware', 'fee', 'rebates', 'decrease', 'debit', 'customer', 'application', 'repricing', 'replacement', 'officer', 'interest', 'statement', 'waiver', 'application', 'account', 'passbook', 'redeem', 'cancelled', 'cancel', 'token', '365', 'personal', 'singapore', 'speak', 'account', 'auto', 'cancellation', 'uplift', 'increase', 'update', '360', 'late', 'card', 'loan', 'limit', 'dispute', 'statement', 'savings', 'atm', 'change', 'ocbc', 'service', 'home', 'paying', 'card', 'credit', 'rejection', 'onetoken', 'open', 'close', 'request']\n"
     ]
    }
   ],
   "source": [
    "keywords = []\n",
    "for intent in list(set(data['Intent'])):\n",
    "    keywords.extend(intent.strip().split(' '))\n",
    "keyword_list = list(set(keywords))\n",
    "\n",
    "keyword_list = [i.lower() for i in keyword_list if i.lower() not in stop_words]\n",
    "print(keyword_list)\n",
    "data['key_word'] = data['Questions'].apply(lambda x: list(set([token.lemma_ for token in nlp(x) if token.text in keyword_list])))"
   ]
  },
  {
   "cell_type": "markdown",
   "metadata": {},
   "source": [
    "### Change text to lemma (delete stop words)"
   ]
  },
  {
   "cell_type": "code",
   "execution_count": 36,
   "metadata": {
    "ExecuteTime": {
     "end_time": "2020-03-30T09:09:08.072889Z",
     "start_time": "2020-03-30T09:09:06.094980Z"
    }
   },
   "outputs": [],
   "source": [
    "data['lemma'] = data['Questions'].apply(lambda x:' '.join([token.lemma_ for token in nlp(x) if token.text not in stop_words]))"
   ]
  },
  {
   "cell_type": "code",
   "execution_count": 37,
   "metadata": {
    "ExecuteTime": {
     "end_time": "2020-03-30T09:09:08.083666Z",
     "start_time": "2020-03-30T09:09:08.074688Z"
    }
   },
   "outputs": [],
   "source": [
    "# combine spacy features\n",
    "noun_cols = pd.DataFrame(data['noun'].values.tolist(),columns = ['noun_1','noun_2','noun_3','noun_4','noun_5']).reset_index(drop=True)\n",
    "verb_cols = pd.DataFrame(data['verb'].values.tolist(),columns = ['verb_1','verb_2','verb_3']).reset_index(drop=True)\n",
    "keyword_cols = pd.DataFrame(data['key_word'].values.tolist(),columns = ['keyword_1','keyword_2','keyword_3','keyword_4','keyword_5']).reset_index(drop=True)\n",
    "data = data.reset_index(drop=True)"
   ]
  },
  {
   "cell_type": "code",
   "execution_count": 38,
   "metadata": {
    "ExecuteTime": {
     "end_time": "2020-03-30T09:09:08.093667Z",
     "start_time": "2020-03-30T09:09:08.085659Z"
    }
   },
   "outputs": [],
   "source": [
    "processed = pd.concat([data,noun_cols,verb_cols,keyword_cols], axis=1)\n",
    "processed.drop(columns=['noun','verb','key_word'], inplace=True)"
   ]
  },
  {
   "cell_type": "code",
   "execution_count": 39,
   "metadata": {
    "ExecuteTime": {
     "end_time": "2020-03-30T09:09:08.112624Z",
     "start_time": "2020-03-30T09:09:08.094634Z"
    }
   },
   "outputs": [
    {
     "data": {
      "text/html": [
       "<div>\n",
       "<style scoped>\n",
       "    .dataframe tbody tr th:only-of-type {\n",
       "        vertical-align: middle;\n",
       "    }\n",
       "\n",
       "    .dataframe tbody tr th {\n",
       "        vertical-align: top;\n",
       "    }\n",
       "\n",
       "    .dataframe thead th {\n",
       "        text-align: right;\n",
       "    }\n",
       "</style>\n",
       "<table border=\"1\" class=\"dataframe\">\n",
       "  <thead>\n",
       "    <tr style=\"text-align: right;\">\n",
       "      <th></th>\n",
       "      <th>Questions</th>\n",
       "      <th>Intent</th>\n",
       "      <th>lemma</th>\n",
       "      <th>noun_1</th>\n",
       "      <th>noun_2</th>\n",
       "      <th>noun_3</th>\n",
       "      <th>noun_4</th>\n",
       "      <th>noun_5</th>\n",
       "      <th>verb_1</th>\n",
       "      <th>verb_2</th>\n",
       "      <th>verb_3</th>\n",
       "      <th>keyword_1</th>\n",
       "      <th>keyword_2</th>\n",
       "      <th>keyword_3</th>\n",
       "      <th>keyword_4</th>\n",
       "      <th>keyword_5</th>\n",
       "    </tr>\n",
       "  </thead>\n",
       "  <tbody>\n",
       "    <tr>\n",
       "      <th>0</th>\n",
       "      <td>what promotions do you have</td>\n",
       "      <td>Promotions</td>\n",
       "      <td>promotion</td>\n",
       "      <td>promotion</td>\n",
       "      <td>None</td>\n",
       "      <td>None</td>\n",
       "      <td>None</td>\n",
       "      <td>None</td>\n",
       "      <td>None</td>\n",
       "      <td>None</td>\n",
       "      <td>None</td>\n",
       "      <td>promotion</td>\n",
       "      <td>None</td>\n",
       "      <td>None</td>\n",
       "      <td>None</td>\n",
       "      <td>None</td>\n",
       "    </tr>\n",
       "    <tr>\n",
       "      <th>1</th>\n",
       "      <td>what promotions are available</td>\n",
       "      <td>Promotions</td>\n",
       "      <td>promotion available</td>\n",
       "      <td>promotion</td>\n",
       "      <td>None</td>\n",
       "      <td>None</td>\n",
       "      <td>None</td>\n",
       "      <td>None</td>\n",
       "      <td>None</td>\n",
       "      <td>None</td>\n",
       "      <td>None</td>\n",
       "      <td>promotion</td>\n",
       "      <td>None</td>\n",
       "      <td>None</td>\n",
       "      <td>None</td>\n",
       "      <td>None</td>\n",
       "    </tr>\n",
       "    <tr>\n",
       "      <th>2</th>\n",
       "      <td>promotions</td>\n",
       "      <td>Promotions</td>\n",
       "      <td>promotion</td>\n",
       "      <td>promotion</td>\n",
       "      <td>None</td>\n",
       "      <td>None</td>\n",
       "      <td>None</td>\n",
       "      <td>None</td>\n",
       "      <td>None</td>\n",
       "      <td>None</td>\n",
       "      <td>None</td>\n",
       "      <td>promotion</td>\n",
       "      <td>None</td>\n",
       "      <td>None</td>\n",
       "      <td>None</td>\n",
       "      <td>None</td>\n",
       "    </tr>\n",
       "    <tr>\n",
       "      <th>3</th>\n",
       "      <td>i want to see promotions</td>\n",
       "      <td>Promotions</td>\n",
       "      <td>want promotion</td>\n",
       "      <td>promotion</td>\n",
       "      <td>None</td>\n",
       "      <td>None</td>\n",
       "      <td>None</td>\n",
       "      <td>None</td>\n",
       "      <td>want</td>\n",
       "      <td>None</td>\n",
       "      <td>None</td>\n",
       "      <td>promotion</td>\n",
       "      <td>None</td>\n",
       "      <td>None</td>\n",
       "      <td>None</td>\n",
       "      <td>None</td>\n",
       "    </tr>\n",
       "    <tr>\n",
       "      <th>4</th>\n",
       "      <td>view promotions</td>\n",
       "      <td>Promotions</td>\n",
       "      <td>view promotion</td>\n",
       "      <td>view</td>\n",
       "      <td>promotion</td>\n",
       "      <td>None</td>\n",
       "      <td>None</td>\n",
       "      <td>None</td>\n",
       "      <td>None</td>\n",
       "      <td>None</td>\n",
       "      <td>None</td>\n",
       "      <td>promotion</td>\n",
       "      <td>None</td>\n",
       "      <td>None</td>\n",
       "      <td>None</td>\n",
       "      <td>None</td>\n",
       "    </tr>\n",
       "  </tbody>\n",
       "</table>\n",
       "</div>"
      ],
      "text/plain": [
       "                       Questions      Intent                lemma     noun_1  \\\n",
       "0    what promotions do you have  Promotions            promotion  promotion   \n",
       "1  what promotions are available  Promotions  promotion available  promotion   \n",
       "2                     promotions  Promotions            promotion  promotion   \n",
       "3       i want to see promotions  Promotions       want promotion  promotion   \n",
       "4                view promotions  Promotions       view promotion       view   \n",
       "\n",
       "      noun_2 noun_3 noun_4 noun_5 verb_1 verb_2 verb_3  keyword_1 keyword_2  \\\n",
       "0       None   None   None   None   None   None   None  promotion      None   \n",
       "1       None   None   None   None   None   None   None  promotion      None   \n",
       "2       None   None   None   None   None   None   None  promotion      None   \n",
       "3       None   None   None   None   want   None   None  promotion      None   \n",
       "4  promotion   None   None   None   None   None   None  promotion      None   \n",
       "\n",
       "  keyword_3 keyword_4 keyword_5  \n",
       "0      None      None      None  \n",
       "1      None      None      None  \n",
       "2      None      None      None  \n",
       "3      None      None      None  \n",
       "4      None      None      None  "
      ]
     },
     "execution_count": 39,
     "metadata": {},
     "output_type": "execute_result"
    }
   ],
   "source": [
    "processed.head()"
   ]
  },
  {
   "cell_type": "markdown",
   "metadata": {},
   "source": [
    "### Combine Tf-idf vectors and other features"
   ]
  },
  {
   "cell_type": "code",
   "execution_count": 40,
   "metadata": {
    "ExecuteTime": {
     "end_time": "2020-03-30T09:09:08.123558Z",
     "start_time": "2020-03-30T09:09:08.113584Z"
    }
   },
   "outputs": [],
   "source": [
    "v = TfidfVectorizer()\n",
    "x = v.fit_transform(processed['lemma'])\n",
    "\n",
    "vocab = dict(v.vocabulary_)"
   ]
  },
  {
   "cell_type": "code",
   "execution_count": 41,
   "metadata": {
    "ExecuteTime": {
     "end_time": "2020-03-30T09:09:08.140516Z",
     "start_time": "2020-03-30T09:09:08.126551Z"
    }
   },
   "outputs": [],
   "source": [
    "# label encoding for spacy features\n",
    "cols = ['noun_1', 'noun_2', 'noun_3', 'noun_4', 'noun_5',\n",
    "       'verb_1', 'verb_2', 'verb_3', 'keyword_1', 'keyword_2', 'keyword_3',\n",
    "       'keyword_4', 'keyword_5']\n",
    "for col in cols:\n",
    "    processed[col] = processed[col].apply(lambda x: vocab[x] if x in vocab else 0.0)  "
   ]
  },
  {
   "cell_type": "code",
   "execution_count": 42,
   "metadata": {
    "ExecuteTime": {
     "end_time": "2020-03-30T09:09:08.152526Z",
     "start_time": "2020-03-30T09:09:08.142524Z"
    }
   },
   "outputs": [],
   "source": [
    "# combine tf-idf vectors and spacy features \n",
    "X = hstack((x, processed[cols].values),format='csr')\n",
    "X_columns=v.get_feature_names()+processed[cols].columns.tolist()\n",
    "\n",
    "features = pd.DataFrame(X.toarray())\n",
    "features.columns = X_columns\n",
    "\n",
    "y = processed['Intent']"
   ]
  },
  {
   "cell_type": "code",
   "execution_count": 43,
   "metadata": {
    "ExecuteTime": {
     "end_time": "2020-03-30T09:09:08.173459Z",
     "start_time": "2020-03-30T09:09:08.153477Z"
    }
   },
   "outputs": [
    {
     "data": {
      "text/html": [
       "<div>\n",
       "<style scoped>\n",
       "    .dataframe tbody tr th:only-of-type {\n",
       "        vertical-align: middle;\n",
       "    }\n",
       "\n",
       "    .dataframe tbody tr th {\n",
       "        vertical-align: top;\n",
       "    }\n",
       "\n",
       "    .dataframe thead th {\n",
       "        text-align: right;\n",
       "    }\n",
       "</style>\n",
       "<table border=\"1\" class=\"dataframe\">\n",
       "  <thead>\n",
       "    <tr style=\"text-align: right;\">\n",
       "      <th></th>\n",
       "      <th>360</th>\n",
       "      <th>365</th>\n",
       "      <th>access</th>\n",
       "      <th>account</th>\n",
       "      <th>accout</th>\n",
       "      <th>acct</th>\n",
       "      <th>activate</th>\n",
       "      <th>activation</th>\n",
       "      <th>additional</th>\n",
       "      <th>address</th>\n",
       "      <th>...</th>\n",
       "      <th>noun_4</th>\n",
       "      <th>noun_5</th>\n",
       "      <th>verb_1</th>\n",
       "      <th>verb_2</th>\n",
       "      <th>verb_3</th>\n",
       "      <th>keyword_1</th>\n",
       "      <th>keyword_2</th>\n",
       "      <th>keyword_3</th>\n",
       "      <th>keyword_4</th>\n",
       "      <th>keyword_5</th>\n",
       "    </tr>\n",
       "  </thead>\n",
       "  <tbody>\n",
       "    <tr>\n",
       "      <th>0</th>\n",
       "      <td>0.0</td>\n",
       "      <td>0.0</td>\n",
       "      <td>0.0</td>\n",
       "      <td>0.0</td>\n",
       "      <td>0.0</td>\n",
       "      <td>0.0</td>\n",
       "      <td>0.0</td>\n",
       "      <td>0.0</td>\n",
       "      <td>0.0</td>\n",
       "      <td>0.0</td>\n",
       "      <td>...</td>\n",
       "      <td>0.0</td>\n",
       "      <td>0.0</td>\n",
       "      <td>0.0</td>\n",
       "      <td>0.0</td>\n",
       "      <td>0.0</td>\n",
       "      <td>116.0</td>\n",
       "      <td>0.0</td>\n",
       "      <td>0.0</td>\n",
       "      <td>0.0</td>\n",
       "      <td>0.0</td>\n",
       "    </tr>\n",
       "    <tr>\n",
       "      <th>1</th>\n",
       "      <td>0.0</td>\n",
       "      <td>0.0</td>\n",
       "      <td>0.0</td>\n",
       "      <td>0.0</td>\n",
       "      <td>0.0</td>\n",
       "      <td>0.0</td>\n",
       "      <td>0.0</td>\n",
       "      <td>0.0</td>\n",
       "      <td>0.0</td>\n",
       "      <td>0.0</td>\n",
       "      <td>...</td>\n",
       "      <td>0.0</td>\n",
       "      <td>0.0</td>\n",
       "      <td>0.0</td>\n",
       "      <td>0.0</td>\n",
       "      <td>0.0</td>\n",
       "      <td>116.0</td>\n",
       "      <td>0.0</td>\n",
       "      <td>0.0</td>\n",
       "      <td>0.0</td>\n",
       "      <td>0.0</td>\n",
       "    </tr>\n",
       "    <tr>\n",
       "      <th>2</th>\n",
       "      <td>0.0</td>\n",
       "      <td>0.0</td>\n",
       "      <td>0.0</td>\n",
       "      <td>0.0</td>\n",
       "      <td>0.0</td>\n",
       "      <td>0.0</td>\n",
       "      <td>0.0</td>\n",
       "      <td>0.0</td>\n",
       "      <td>0.0</td>\n",
       "      <td>0.0</td>\n",
       "      <td>...</td>\n",
       "      <td>0.0</td>\n",
       "      <td>0.0</td>\n",
       "      <td>0.0</td>\n",
       "      <td>0.0</td>\n",
       "      <td>0.0</td>\n",
       "      <td>116.0</td>\n",
       "      <td>0.0</td>\n",
       "      <td>0.0</td>\n",
       "      <td>0.0</td>\n",
       "      <td>0.0</td>\n",
       "    </tr>\n",
       "    <tr>\n",
       "      <th>3</th>\n",
       "      <td>0.0</td>\n",
       "      <td>0.0</td>\n",
       "      <td>0.0</td>\n",
       "      <td>0.0</td>\n",
       "      <td>0.0</td>\n",
       "      <td>0.0</td>\n",
       "      <td>0.0</td>\n",
       "      <td>0.0</td>\n",
       "      <td>0.0</td>\n",
       "      <td>0.0</td>\n",
       "      <td>...</td>\n",
       "      <td>0.0</td>\n",
       "      <td>0.0</td>\n",
       "      <td>179.0</td>\n",
       "      <td>0.0</td>\n",
       "      <td>0.0</td>\n",
       "      <td>116.0</td>\n",
       "      <td>0.0</td>\n",
       "      <td>0.0</td>\n",
       "      <td>0.0</td>\n",
       "      <td>0.0</td>\n",
       "    </tr>\n",
       "    <tr>\n",
       "      <th>4</th>\n",
       "      <td>0.0</td>\n",
       "      <td>0.0</td>\n",
       "      <td>0.0</td>\n",
       "      <td>0.0</td>\n",
       "      <td>0.0</td>\n",
       "      <td>0.0</td>\n",
       "      <td>0.0</td>\n",
       "      <td>0.0</td>\n",
       "      <td>0.0</td>\n",
       "      <td>0.0</td>\n",
       "      <td>...</td>\n",
       "      <td>0.0</td>\n",
       "      <td>0.0</td>\n",
       "      <td>0.0</td>\n",
       "      <td>0.0</td>\n",
       "      <td>0.0</td>\n",
       "      <td>116.0</td>\n",
       "      <td>0.0</td>\n",
       "      <td>0.0</td>\n",
       "      <td>0.0</td>\n",
       "      <td>0.0</td>\n",
       "    </tr>\n",
       "  </tbody>\n",
       "</table>\n",
       "<p>5 rows × 195 columns</p>\n",
       "</div>"
      ],
      "text/plain": [
       "   360  365  access  account  accout  acct  activate  activation  additional  \\\n",
       "0  0.0  0.0     0.0      0.0     0.0   0.0       0.0         0.0         0.0   \n",
       "1  0.0  0.0     0.0      0.0     0.0   0.0       0.0         0.0         0.0   \n",
       "2  0.0  0.0     0.0      0.0     0.0   0.0       0.0         0.0         0.0   \n",
       "3  0.0  0.0     0.0      0.0     0.0   0.0       0.0         0.0         0.0   \n",
       "4  0.0  0.0     0.0      0.0     0.0   0.0       0.0         0.0         0.0   \n",
       "\n",
       "   address  ...  noun_4  noun_5  verb_1  verb_2  verb_3  keyword_1  keyword_2  \\\n",
       "0      0.0  ...     0.0     0.0     0.0     0.0     0.0      116.0        0.0   \n",
       "1      0.0  ...     0.0     0.0     0.0     0.0     0.0      116.0        0.0   \n",
       "2      0.0  ...     0.0     0.0     0.0     0.0     0.0      116.0        0.0   \n",
       "3      0.0  ...     0.0     0.0   179.0     0.0     0.0      116.0        0.0   \n",
       "4      0.0  ...     0.0     0.0     0.0     0.0     0.0      116.0        0.0   \n",
       "\n",
       "   keyword_3  keyword_4  keyword_5  \n",
       "0        0.0        0.0        0.0  \n",
       "1        0.0        0.0        0.0  \n",
       "2        0.0        0.0        0.0  \n",
       "3        0.0        0.0        0.0  \n",
       "4        0.0        0.0        0.0  \n",
       "\n",
       "[5 rows x 195 columns]"
      ]
     },
     "execution_count": 43,
     "metadata": {},
     "output_type": "execute_result"
    }
   ],
   "source": [
    "features.head()"
   ]
  },
  {
   "cell_type": "markdown",
   "metadata": {},
   "source": [
    "### Grid search for best parameters and visualize feature importance"
   ]
  },
  {
   "cell_type": "code",
   "execution_count": 44,
   "metadata": {
    "ExecuteTime": {
     "end_time": "2020-03-30T09:09:20.415697Z",
     "start_time": "2020-03-30T09:09:08.184430Z"
    }
   },
   "outputs": [
    {
     "name": "stdout",
     "output_type": "stream",
     "text": [
      "Fitting 5 folds for each of 20 candidates, totalling 100 fits\n"
     ]
    },
    {
     "name": "stderr",
     "output_type": "stream",
     "text": [
      "C:\\Users\\xiaoxu\\anaconda3\\envs\\fastai\\lib\\site-packages\\sklearn\\model_selection\\_split.py:667: UserWarning:\n",
      "\n",
      "The least populated class in y has only 1 members, which is less than n_splits=5.\n",
      "\n",
      "[Parallel(n_jobs=-1)]: Using backend LokyBackend with 12 concurrent workers.\n",
      "[Parallel(n_jobs=-1)]: Done  17 tasks      | elapsed:    2.2s\n",
      "[Parallel(n_jobs=-1)]: Done 100 out of 100 | elapsed:   11.4s finished\n"
     ]
    },
    {
     "name": "stdout",
     "output_type": "stream",
     "text": [
      "Best score: 0.83797\n",
      "Best parameters set:\n",
      "\tclf__max_depth: 20\n",
      "\tclf__n_estimators: 500\n"
     ]
    }
   ],
   "source": [
    "pipeline = Pipeline([\n",
    "            ('clf', RandomForestClassifier()),\n",
    "        ])\n",
    "        \n",
    "parameters = {\n",
    "    'clf__n_estimators': [350,400,450,500],\n",
    "    'clf__max_depth': [20,25,30,40,50]\n",
    "}\n",
    "\n",
    "# grid search for best estimator\n",
    "grid_search = GridSearchCV(pipeline, parameters, cv=5, n_jobs=-1, verbose=2,scoring='accuracy')\n",
    "grid_search.fit(features, y)\n",
    "\n",
    "print(\"Best score: %0.5f\" % grid_search.best_score_)\n",
    "print(\"Best parameters set:\")\n",
    "best_parameters = grid_search.best_estimator_.get_params()\n",
    "for param_name in sorted(parameters        .keys()): \n",
    "    print(\"\\t%s: %r\" % (param_name, best_parameters[param_name]))"
   ]
  },
  {
   "cell_type": "code",
   "execution_count": 45,
   "metadata": {
    "ExecuteTime": {
     "end_time": "2020-03-30T09:09:20.461573Z",
     "start_time": "2020-03-30T09:09:20.416694Z"
    }
   },
   "outputs": [],
   "source": [
    "# view feature importance \n",
    "estimator = grid_search.best_estimator_\n",
    "clf = estimator['clf']\n",
    "importances = clf.feature_importances_\n",
    "indices = np.argsort(importances)[::-1][:30]\n",
    "\n",
    "feature_names = [X_columns[i] for i in indices]\n",
    "importance = importances[indices]\n",
    "\n",
    "feature_importance = pd.DataFrame({'feature_names':feature_names,'importance':importance })\n",
    "\n",
    "feature_importance['type'] = feature_importance['feature_names'].apply(lambda x: 'spacy feature' if '_' in x else 'tfidf')\n",
    "feature_importance.sort_values(by = 'importance',ascending = False, inplace=True)"
   ]
  },
  {
   "cell_type": "code",
   "execution_count": 46,
   "metadata": {
    "ExecuteTime": {
     "end_time": "2020-03-30T09:09:20.755788Z",
     "start_time": "2020-03-30T09:09:20.462570Z"
    }
   },
   "outputs": [
    {
     "data": {
      "application/vnd.plotly.v1+json": {
       "config": {
        "plotlyServerURL": "https://plot.ly"
       },
       "data": [
        {
         "alignmentgroup": "True",
         "hoverlabel": {
          "namelength": 0
         },
         "hovertemplate": "type=spacy feature<br>feature_names=%{x}<br>importance=%{y}",
         "legendgroup": "spacy feature",
         "marker": {
          "color": "#636efa"
         },
         "name": "spacy feature",
         "offsetgroup": "spacy feature",
         "orientation": "v",
         "showlegend": true,
         "textposition": "outside",
         "texttemplate": "%{text:.2s}",
         "type": "bar",
         "x": [
          "keyword_1",
          "noun_2",
          "keyword_2",
          "noun_1",
          "verb_1",
          "keyword_3",
          "noun_3",
          "verb_2"
         ],
         "xaxis": "x",
         "y": [
          0.048825720047081196,
          0.043876467906344856,
          0.042511547621258444,
          0.04096122438479959,
          0.033581192067232896,
          0.02442065596454643,
          0.022974209564630612,
          0.014924545504651117
         ],
         "yaxis": "y"
        },
        {
         "alignmentgroup": "True",
         "hoverlabel": {
          "namelength": 0
         },
         "hovertemplate": "type=tfidf<br>feature_names=%{x}<br>importance=%{y}",
         "legendgroup": "tfidf",
         "marker": {
          "color": "#EF553B"
         },
         "name": "tfidf",
         "offsetgroup": "tfidf",
         "orientation": "v",
         "showlegend": true,
         "textposition": "outside",
         "texttemplate": "%{text:.2s}",
         "type": "bar",
         "x": [
          "card",
          "fee",
          "loan",
          "promotion",
          "account",
          "statement",
          "interest",
          "update",
          "reprice",
          "credit",
          "cancel",
          "late",
          "token",
          "debit",
          "personal",
          "pay",
          "limit",
          "investment",
          "rebate",
          "want",
          "apply",
          "atm"
         ],
         "xaxis": "x",
         "y": [
          0.03836866951243404,
          0.027297841444307896,
          0.02516346136907009,
          0.02469629175618114,
          0.02387165889743587,
          0.023111920770404783,
          0.021198410642136886,
          0.02111647911360822,
          0.019703810723390402,
          0.017492800877088356,
          0.014381923145763132,
          0.014336692835903343,
          0.014217064413817824,
          0.014052689824274243,
          0.014035360670529384,
          0.013991335115340477,
          0.01387708657192359,
          0.012720092957833664,
          0.011677027555353988,
          0.01113241544443803,
          0.010886604960978374,
          0.010322375794983652
         ],
         "yaxis": "y"
        }
       ],
       "layout": {
        "barmode": "relative",
        "legend": {
         "title": {
          "text": "type"
         },
         "tracegroupgap": 0
        },
        "margin": {
         "t": 60
        },
        "template": {
         "data": {
          "bar": [
           {
            "error_x": {
             "color": "#2a3f5f"
            },
            "error_y": {
             "color": "#2a3f5f"
            },
            "marker": {
             "line": {
              "color": "#E5ECF6",
              "width": 0.5
             }
            },
            "type": "bar"
           }
          ],
          "barpolar": [
           {
            "marker": {
             "line": {
              "color": "#E5ECF6",
              "width": 0.5
             }
            },
            "type": "barpolar"
           }
          ],
          "carpet": [
           {
            "aaxis": {
             "endlinecolor": "#2a3f5f",
             "gridcolor": "white",
             "linecolor": "white",
             "minorgridcolor": "white",
             "startlinecolor": "#2a3f5f"
            },
            "baxis": {
             "endlinecolor": "#2a3f5f",
             "gridcolor": "white",
             "linecolor": "white",
             "minorgridcolor": "white",
             "startlinecolor": "#2a3f5f"
            },
            "type": "carpet"
           }
          ],
          "choropleth": [
           {
            "colorbar": {
             "outlinewidth": 0,
             "ticks": ""
            },
            "type": "choropleth"
           }
          ],
          "contour": [
           {
            "colorbar": {
             "outlinewidth": 0,
             "ticks": ""
            },
            "colorscale": [
             [
              0,
              "#0d0887"
             ],
             [
              0.1111111111111111,
              "#46039f"
             ],
             [
              0.2222222222222222,
              "#7201a8"
             ],
             [
              0.3333333333333333,
              "#9c179e"
             ],
             [
              0.4444444444444444,
              "#bd3786"
             ],
             [
              0.5555555555555556,
              "#d8576b"
             ],
             [
              0.6666666666666666,
              "#ed7953"
             ],
             [
              0.7777777777777778,
              "#fb9f3a"
             ],
             [
              0.8888888888888888,
              "#fdca26"
             ],
             [
              1,
              "#f0f921"
             ]
            ],
            "type": "contour"
           }
          ],
          "contourcarpet": [
           {
            "colorbar": {
             "outlinewidth": 0,
             "ticks": ""
            },
            "type": "contourcarpet"
           }
          ],
          "heatmap": [
           {
            "colorbar": {
             "outlinewidth": 0,
             "ticks": ""
            },
            "colorscale": [
             [
              0,
              "#0d0887"
             ],
             [
              0.1111111111111111,
              "#46039f"
             ],
             [
              0.2222222222222222,
              "#7201a8"
             ],
             [
              0.3333333333333333,
              "#9c179e"
             ],
             [
              0.4444444444444444,
              "#bd3786"
             ],
             [
              0.5555555555555556,
              "#d8576b"
             ],
             [
              0.6666666666666666,
              "#ed7953"
             ],
             [
              0.7777777777777778,
              "#fb9f3a"
             ],
             [
              0.8888888888888888,
              "#fdca26"
             ],
             [
              1,
              "#f0f921"
             ]
            ],
            "type": "heatmap"
           }
          ],
          "heatmapgl": [
           {
            "colorbar": {
             "outlinewidth": 0,
             "ticks": ""
            },
            "colorscale": [
             [
              0,
              "#0d0887"
             ],
             [
              0.1111111111111111,
              "#46039f"
             ],
             [
              0.2222222222222222,
              "#7201a8"
             ],
             [
              0.3333333333333333,
              "#9c179e"
             ],
             [
              0.4444444444444444,
              "#bd3786"
             ],
             [
              0.5555555555555556,
              "#d8576b"
             ],
             [
              0.6666666666666666,
              "#ed7953"
             ],
             [
              0.7777777777777778,
              "#fb9f3a"
             ],
             [
              0.8888888888888888,
              "#fdca26"
             ],
             [
              1,
              "#f0f921"
             ]
            ],
            "type": "heatmapgl"
           }
          ],
          "histogram": [
           {
            "marker": {
             "colorbar": {
              "outlinewidth": 0,
              "ticks": ""
             }
            },
            "type": "histogram"
           }
          ],
          "histogram2d": [
           {
            "colorbar": {
             "outlinewidth": 0,
             "ticks": ""
            },
            "colorscale": [
             [
              0,
              "#0d0887"
             ],
             [
              0.1111111111111111,
              "#46039f"
             ],
             [
              0.2222222222222222,
              "#7201a8"
             ],
             [
              0.3333333333333333,
              "#9c179e"
             ],
             [
              0.4444444444444444,
              "#bd3786"
             ],
             [
              0.5555555555555556,
              "#d8576b"
             ],
             [
              0.6666666666666666,
              "#ed7953"
             ],
             [
              0.7777777777777778,
              "#fb9f3a"
             ],
             [
              0.8888888888888888,
              "#fdca26"
             ],
             [
              1,
              "#f0f921"
             ]
            ],
            "type": "histogram2d"
           }
          ],
          "histogram2dcontour": [
           {
            "colorbar": {
             "outlinewidth": 0,
             "ticks": ""
            },
            "colorscale": [
             [
              0,
              "#0d0887"
             ],
             [
              0.1111111111111111,
              "#46039f"
             ],
             [
              0.2222222222222222,
              "#7201a8"
             ],
             [
              0.3333333333333333,
              "#9c179e"
             ],
             [
              0.4444444444444444,
              "#bd3786"
             ],
             [
              0.5555555555555556,
              "#d8576b"
             ],
             [
              0.6666666666666666,
              "#ed7953"
             ],
             [
              0.7777777777777778,
              "#fb9f3a"
             ],
             [
              0.8888888888888888,
              "#fdca26"
             ],
             [
              1,
              "#f0f921"
             ]
            ],
            "type": "histogram2dcontour"
           }
          ],
          "mesh3d": [
           {
            "colorbar": {
             "outlinewidth": 0,
             "ticks": ""
            },
            "type": "mesh3d"
           }
          ],
          "parcoords": [
           {
            "line": {
             "colorbar": {
              "outlinewidth": 0,
              "ticks": ""
             }
            },
            "type": "parcoords"
           }
          ],
          "pie": [
           {
            "automargin": true,
            "type": "pie"
           }
          ],
          "scatter": [
           {
            "marker": {
             "colorbar": {
              "outlinewidth": 0,
              "ticks": ""
             }
            },
            "type": "scatter"
           }
          ],
          "scatter3d": [
           {
            "line": {
             "colorbar": {
              "outlinewidth": 0,
              "ticks": ""
             }
            },
            "marker": {
             "colorbar": {
              "outlinewidth": 0,
              "ticks": ""
             }
            },
            "type": "scatter3d"
           }
          ],
          "scattercarpet": [
           {
            "marker": {
             "colorbar": {
              "outlinewidth": 0,
              "ticks": ""
             }
            },
            "type": "scattercarpet"
           }
          ],
          "scattergeo": [
           {
            "marker": {
             "colorbar": {
              "outlinewidth": 0,
              "ticks": ""
             }
            },
            "type": "scattergeo"
           }
          ],
          "scattergl": [
           {
            "marker": {
             "colorbar": {
              "outlinewidth": 0,
              "ticks": ""
             }
            },
            "type": "scattergl"
           }
          ],
          "scattermapbox": [
           {
            "marker": {
             "colorbar": {
              "outlinewidth": 0,
              "ticks": ""
             }
            },
            "type": "scattermapbox"
           }
          ],
          "scatterpolar": [
           {
            "marker": {
             "colorbar": {
              "outlinewidth": 0,
              "ticks": ""
             }
            },
            "type": "scatterpolar"
           }
          ],
          "scatterpolargl": [
           {
            "marker": {
             "colorbar": {
              "outlinewidth": 0,
              "ticks": ""
             }
            },
            "type": "scatterpolargl"
           }
          ],
          "scatterternary": [
           {
            "marker": {
             "colorbar": {
              "outlinewidth": 0,
              "ticks": ""
             }
            },
            "type": "scatterternary"
           }
          ],
          "surface": [
           {
            "colorbar": {
             "outlinewidth": 0,
             "ticks": ""
            },
            "colorscale": [
             [
              0,
              "#0d0887"
             ],
             [
              0.1111111111111111,
              "#46039f"
             ],
             [
              0.2222222222222222,
              "#7201a8"
             ],
             [
              0.3333333333333333,
              "#9c179e"
             ],
             [
              0.4444444444444444,
              "#bd3786"
             ],
             [
              0.5555555555555556,
              "#d8576b"
             ],
             [
              0.6666666666666666,
              "#ed7953"
             ],
             [
              0.7777777777777778,
              "#fb9f3a"
             ],
             [
              0.8888888888888888,
              "#fdca26"
             ],
             [
              1,
              "#f0f921"
             ]
            ],
            "type": "surface"
           }
          ],
          "table": [
           {
            "cells": {
             "fill": {
              "color": "#EBF0F8"
             },
             "line": {
              "color": "white"
             }
            },
            "header": {
             "fill": {
              "color": "#C8D4E3"
             },
             "line": {
              "color": "white"
             }
            },
            "type": "table"
           }
          ]
         },
         "layout": {
          "annotationdefaults": {
           "arrowcolor": "#2a3f5f",
           "arrowhead": 0,
           "arrowwidth": 1
          },
          "coloraxis": {
           "colorbar": {
            "outlinewidth": 0,
            "ticks": ""
           }
          },
          "colorscale": {
           "diverging": [
            [
             0,
             "#8e0152"
            ],
            [
             0.1,
             "#c51b7d"
            ],
            [
             0.2,
             "#de77ae"
            ],
            [
             0.3,
             "#f1b6da"
            ],
            [
             0.4,
             "#fde0ef"
            ],
            [
             0.5,
             "#f7f7f7"
            ],
            [
             0.6,
             "#e6f5d0"
            ],
            [
             0.7,
             "#b8e186"
            ],
            [
             0.8,
             "#7fbc41"
            ],
            [
             0.9,
             "#4d9221"
            ],
            [
             1,
             "#276419"
            ]
           ],
           "sequential": [
            [
             0,
             "#0d0887"
            ],
            [
             0.1111111111111111,
             "#46039f"
            ],
            [
             0.2222222222222222,
             "#7201a8"
            ],
            [
             0.3333333333333333,
             "#9c179e"
            ],
            [
             0.4444444444444444,
             "#bd3786"
            ],
            [
             0.5555555555555556,
             "#d8576b"
            ],
            [
             0.6666666666666666,
             "#ed7953"
            ],
            [
             0.7777777777777778,
             "#fb9f3a"
            ],
            [
             0.8888888888888888,
             "#fdca26"
            ],
            [
             1,
             "#f0f921"
            ]
           ],
           "sequentialminus": [
            [
             0,
             "#0d0887"
            ],
            [
             0.1111111111111111,
             "#46039f"
            ],
            [
             0.2222222222222222,
             "#7201a8"
            ],
            [
             0.3333333333333333,
             "#9c179e"
            ],
            [
             0.4444444444444444,
             "#bd3786"
            ],
            [
             0.5555555555555556,
             "#d8576b"
            ],
            [
             0.6666666666666666,
             "#ed7953"
            ],
            [
             0.7777777777777778,
             "#fb9f3a"
            ],
            [
             0.8888888888888888,
             "#fdca26"
            ],
            [
             1,
             "#f0f921"
            ]
           ]
          },
          "colorway": [
           "#636efa",
           "#EF553B",
           "#00cc96",
           "#ab63fa",
           "#FFA15A",
           "#19d3f3",
           "#FF6692",
           "#B6E880",
           "#FF97FF",
           "#FECB52"
          ],
          "font": {
           "color": "#2a3f5f"
          },
          "geo": {
           "bgcolor": "white",
           "lakecolor": "white",
           "landcolor": "#E5ECF6",
           "showlakes": true,
           "showland": true,
           "subunitcolor": "white"
          },
          "hoverlabel": {
           "align": "left"
          },
          "hovermode": "closest",
          "mapbox": {
           "style": "light"
          },
          "paper_bgcolor": "white",
          "plot_bgcolor": "#E5ECF6",
          "polar": {
           "angularaxis": {
            "gridcolor": "white",
            "linecolor": "white",
            "ticks": ""
           },
           "bgcolor": "#E5ECF6",
           "radialaxis": {
            "gridcolor": "white",
            "linecolor": "white",
            "ticks": ""
           }
          },
          "scene": {
           "xaxis": {
            "backgroundcolor": "#E5ECF6",
            "gridcolor": "white",
            "gridwidth": 2,
            "linecolor": "white",
            "showbackground": true,
            "ticks": "",
            "zerolinecolor": "white"
           },
           "yaxis": {
            "backgroundcolor": "#E5ECF6",
            "gridcolor": "white",
            "gridwidth": 2,
            "linecolor": "white",
            "showbackground": true,
            "ticks": "",
            "zerolinecolor": "white"
           },
           "zaxis": {
            "backgroundcolor": "#E5ECF6",
            "gridcolor": "white",
            "gridwidth": 2,
            "linecolor": "white",
            "showbackground": true,
            "ticks": "",
            "zerolinecolor": "white"
           }
          },
          "shapedefaults": {
           "line": {
            "color": "#2a3f5f"
           }
          },
          "ternary": {
           "aaxis": {
            "gridcolor": "white",
            "linecolor": "white",
            "ticks": ""
           },
           "baxis": {
            "gridcolor": "white",
            "linecolor": "white",
            "ticks": ""
           },
           "bgcolor": "#E5ECF6",
           "caxis": {
            "gridcolor": "white",
            "linecolor": "white",
            "ticks": ""
           }
          },
          "title": {
           "x": 0.05
          },
          "xaxis": {
           "automargin": true,
           "gridcolor": "white",
           "linecolor": "white",
           "ticks": "",
           "title": {
            "standoff": 15
           },
           "zerolinecolor": "white",
           "zerolinewidth": 2
          },
          "yaxis": {
           "automargin": true,
           "gridcolor": "white",
           "linecolor": "white",
           "ticks": "",
           "title": {
            "standoff": 15
           },
           "zerolinecolor": "white",
           "zerolinewidth": 2
          }
         }
        },
        "title": {
         "text": "Feature importance of classifier"
        },
        "uniformtext": {
         "minsize": 8,
         "mode": "hide"
        },
        "xaxis": {
         "anchor": "y",
         "categoryorder": "total descending",
         "domain": [
          0,
          1
         ],
         "title": {
          "text": "feature_names"
         }
        },
        "yaxis": {
         "anchor": "x",
         "domain": [
          0,
          1
         ],
         "title": {
          "text": "importance"
         }
        }
       }
      },
      "text/html": [
       "<div>\n",
       "        \n",
       "        \n",
       "            <div id=\"5dae3687-6fbd-47de-a2d2-20fba160815b\" class=\"plotly-graph-div\" style=\"height:525px; width:100%;\"></div>\n",
       "            <script type=\"text/javascript\">\n",
       "                require([\"plotly\"], function(Plotly) {\n",
       "                    window.PLOTLYENV=window.PLOTLYENV || {};\n",
       "                    \n",
       "                if (document.getElementById(\"5dae3687-6fbd-47de-a2d2-20fba160815b\")) {\n",
       "                    Plotly.newPlot(\n",
       "                        '5dae3687-6fbd-47de-a2d2-20fba160815b',\n",
       "                        [{\"alignmentgroup\": \"True\", \"hoverlabel\": {\"namelength\": 0}, \"hovertemplate\": \"type=spacy feature<br>feature_names=%{x}<br>importance=%{y}\", \"legendgroup\": \"spacy feature\", \"marker\": {\"color\": \"#636efa\"}, \"name\": \"spacy feature\", \"offsetgroup\": \"spacy feature\", \"orientation\": \"v\", \"showlegend\": true, \"textposition\": \"outside\", \"texttemplate\": \"%{text:.2s}\", \"type\": \"bar\", \"x\": [\"keyword_1\", \"noun_2\", \"keyword_2\", \"noun_1\", \"verb_1\", \"keyword_3\", \"noun_3\", \"verb_2\"], \"xaxis\": \"x\", \"y\": [0.048825720047081196, 0.043876467906344856, 0.042511547621258444, 0.04096122438479959, 0.033581192067232896, 0.02442065596454643, 0.022974209564630612, 0.014924545504651117], \"yaxis\": \"y\"}, {\"alignmentgroup\": \"True\", \"hoverlabel\": {\"namelength\": 0}, \"hovertemplate\": \"type=tfidf<br>feature_names=%{x}<br>importance=%{y}\", \"legendgroup\": \"tfidf\", \"marker\": {\"color\": \"#EF553B\"}, \"name\": \"tfidf\", \"offsetgroup\": \"tfidf\", \"orientation\": \"v\", \"showlegend\": true, \"textposition\": \"outside\", \"texttemplate\": \"%{text:.2s}\", \"type\": \"bar\", \"x\": [\"card\", \"fee\", \"loan\", \"promotion\", \"account\", \"statement\", \"interest\", \"update\", \"reprice\", \"credit\", \"cancel\", \"late\", \"token\", \"debit\", \"personal\", \"pay\", \"limit\", \"investment\", \"rebate\", \"want\", \"apply\", \"atm\"], \"xaxis\": \"x\", \"y\": [0.03836866951243404, 0.027297841444307896, 0.02516346136907009, 0.02469629175618114, 0.02387165889743587, 0.023111920770404783, 0.021198410642136886, 0.02111647911360822, 0.019703810723390402, 0.017492800877088356, 0.014381923145763132, 0.014336692835903343, 0.014217064413817824, 0.014052689824274243, 0.014035360670529384, 0.013991335115340477, 0.01387708657192359, 0.012720092957833664, 0.011677027555353988, 0.01113241544443803, 0.010886604960978374, 0.010322375794983652], \"yaxis\": \"y\"}],\n",
       "                        {\"barmode\": \"relative\", \"legend\": {\"title\": {\"text\": \"type\"}, \"tracegroupgap\": 0}, \"margin\": {\"t\": 60}, \"template\": {\"data\": {\"bar\": [{\"error_x\": {\"color\": \"#2a3f5f\"}, \"error_y\": {\"color\": \"#2a3f5f\"}, \"marker\": {\"line\": {\"color\": \"#E5ECF6\", \"width\": 0.5}}, \"type\": \"bar\"}], \"barpolar\": [{\"marker\": {\"line\": {\"color\": \"#E5ECF6\", \"width\": 0.5}}, \"type\": \"barpolar\"}], \"carpet\": [{\"aaxis\": {\"endlinecolor\": \"#2a3f5f\", \"gridcolor\": \"white\", \"linecolor\": \"white\", \"minorgridcolor\": \"white\", \"startlinecolor\": \"#2a3f5f\"}, \"baxis\": {\"endlinecolor\": \"#2a3f5f\", \"gridcolor\": \"white\", \"linecolor\": \"white\", \"minorgridcolor\": \"white\", \"startlinecolor\": \"#2a3f5f\"}, \"type\": \"carpet\"}], \"choropleth\": [{\"colorbar\": {\"outlinewidth\": 0, \"ticks\": \"\"}, \"type\": \"choropleth\"}], \"contour\": [{\"colorbar\": {\"outlinewidth\": 0, \"ticks\": \"\"}, \"colorscale\": [[0.0, \"#0d0887\"], [0.1111111111111111, \"#46039f\"], [0.2222222222222222, \"#7201a8\"], [0.3333333333333333, \"#9c179e\"], [0.4444444444444444, \"#bd3786\"], [0.5555555555555556, \"#d8576b\"], [0.6666666666666666, \"#ed7953\"], [0.7777777777777778, \"#fb9f3a\"], [0.8888888888888888, \"#fdca26\"], [1.0, \"#f0f921\"]], \"type\": \"contour\"}], \"contourcarpet\": [{\"colorbar\": {\"outlinewidth\": 0, \"ticks\": \"\"}, \"type\": \"contourcarpet\"}], \"heatmap\": [{\"colorbar\": {\"outlinewidth\": 0, \"ticks\": \"\"}, \"colorscale\": [[0.0, \"#0d0887\"], [0.1111111111111111, \"#46039f\"], [0.2222222222222222, \"#7201a8\"], [0.3333333333333333, \"#9c179e\"], [0.4444444444444444, \"#bd3786\"], [0.5555555555555556, \"#d8576b\"], [0.6666666666666666, \"#ed7953\"], [0.7777777777777778, \"#fb9f3a\"], [0.8888888888888888, \"#fdca26\"], [1.0, \"#f0f921\"]], \"type\": \"heatmap\"}], \"heatmapgl\": [{\"colorbar\": {\"outlinewidth\": 0, \"ticks\": \"\"}, \"colorscale\": [[0.0, \"#0d0887\"], [0.1111111111111111, \"#46039f\"], [0.2222222222222222, \"#7201a8\"], [0.3333333333333333, \"#9c179e\"], [0.4444444444444444, \"#bd3786\"], [0.5555555555555556, \"#d8576b\"], [0.6666666666666666, \"#ed7953\"], [0.7777777777777778, \"#fb9f3a\"], [0.8888888888888888, \"#fdca26\"], [1.0, \"#f0f921\"]], \"type\": \"heatmapgl\"}], \"histogram\": [{\"marker\": {\"colorbar\": {\"outlinewidth\": 0, \"ticks\": \"\"}}, \"type\": \"histogram\"}], \"histogram2d\": [{\"colorbar\": {\"outlinewidth\": 0, \"ticks\": \"\"}, \"colorscale\": [[0.0, \"#0d0887\"], [0.1111111111111111, \"#46039f\"], [0.2222222222222222, \"#7201a8\"], [0.3333333333333333, \"#9c179e\"], [0.4444444444444444, \"#bd3786\"], [0.5555555555555556, \"#d8576b\"], [0.6666666666666666, \"#ed7953\"], [0.7777777777777778, \"#fb9f3a\"], [0.8888888888888888, \"#fdca26\"], [1.0, \"#f0f921\"]], \"type\": \"histogram2d\"}], \"histogram2dcontour\": [{\"colorbar\": {\"outlinewidth\": 0, \"ticks\": \"\"}, \"colorscale\": [[0.0, \"#0d0887\"], [0.1111111111111111, \"#46039f\"], [0.2222222222222222, \"#7201a8\"], [0.3333333333333333, \"#9c179e\"], [0.4444444444444444, \"#bd3786\"], [0.5555555555555556, \"#d8576b\"], [0.6666666666666666, \"#ed7953\"], [0.7777777777777778, \"#fb9f3a\"], [0.8888888888888888, \"#fdca26\"], [1.0, \"#f0f921\"]], \"type\": \"histogram2dcontour\"}], \"mesh3d\": [{\"colorbar\": {\"outlinewidth\": 0, \"ticks\": \"\"}, \"type\": \"mesh3d\"}], \"parcoords\": [{\"line\": {\"colorbar\": {\"outlinewidth\": 0, \"ticks\": \"\"}}, \"type\": \"parcoords\"}], \"pie\": [{\"automargin\": true, \"type\": \"pie\"}], \"scatter\": [{\"marker\": {\"colorbar\": {\"outlinewidth\": 0, \"ticks\": \"\"}}, \"type\": \"scatter\"}], \"scatter3d\": [{\"line\": {\"colorbar\": {\"outlinewidth\": 0, \"ticks\": \"\"}}, \"marker\": {\"colorbar\": {\"outlinewidth\": 0, \"ticks\": \"\"}}, \"type\": \"scatter3d\"}], \"scattercarpet\": [{\"marker\": {\"colorbar\": {\"outlinewidth\": 0, \"ticks\": \"\"}}, \"type\": \"scattercarpet\"}], \"scattergeo\": [{\"marker\": {\"colorbar\": {\"outlinewidth\": 0, \"ticks\": \"\"}}, \"type\": \"scattergeo\"}], \"scattergl\": [{\"marker\": {\"colorbar\": {\"outlinewidth\": 0, \"ticks\": \"\"}}, \"type\": \"scattergl\"}], \"scattermapbox\": [{\"marker\": {\"colorbar\": {\"outlinewidth\": 0, \"ticks\": \"\"}}, \"type\": \"scattermapbox\"}], \"scatterpolar\": [{\"marker\": {\"colorbar\": {\"outlinewidth\": 0, \"ticks\": \"\"}}, \"type\": \"scatterpolar\"}], \"scatterpolargl\": [{\"marker\": {\"colorbar\": {\"outlinewidth\": 0, \"ticks\": \"\"}}, \"type\": \"scatterpolargl\"}], \"scatterternary\": [{\"marker\": {\"colorbar\": {\"outlinewidth\": 0, \"ticks\": \"\"}}, \"type\": \"scatterternary\"}], \"surface\": [{\"colorbar\": {\"outlinewidth\": 0, \"ticks\": \"\"}, \"colorscale\": [[0.0, \"#0d0887\"], [0.1111111111111111, \"#46039f\"], [0.2222222222222222, \"#7201a8\"], [0.3333333333333333, \"#9c179e\"], [0.4444444444444444, \"#bd3786\"], [0.5555555555555556, \"#d8576b\"], [0.6666666666666666, \"#ed7953\"], [0.7777777777777778, \"#fb9f3a\"], [0.8888888888888888, \"#fdca26\"], [1.0, \"#f0f921\"]], \"type\": \"surface\"}], \"table\": [{\"cells\": {\"fill\": {\"color\": \"#EBF0F8\"}, \"line\": {\"color\": \"white\"}}, \"header\": {\"fill\": {\"color\": \"#C8D4E3\"}, \"line\": {\"color\": \"white\"}}, \"type\": \"table\"}]}, \"layout\": {\"annotationdefaults\": {\"arrowcolor\": \"#2a3f5f\", \"arrowhead\": 0, \"arrowwidth\": 1}, \"coloraxis\": {\"colorbar\": {\"outlinewidth\": 0, \"ticks\": \"\"}}, \"colorscale\": {\"diverging\": [[0, \"#8e0152\"], [0.1, \"#c51b7d\"], [0.2, \"#de77ae\"], [0.3, \"#f1b6da\"], [0.4, \"#fde0ef\"], [0.5, \"#f7f7f7\"], [0.6, \"#e6f5d0\"], [0.7, \"#b8e186\"], [0.8, \"#7fbc41\"], [0.9, \"#4d9221\"], [1, \"#276419\"]], \"sequential\": [[0.0, \"#0d0887\"], [0.1111111111111111, \"#46039f\"], [0.2222222222222222, \"#7201a8\"], [0.3333333333333333, \"#9c179e\"], [0.4444444444444444, \"#bd3786\"], [0.5555555555555556, \"#d8576b\"], [0.6666666666666666, \"#ed7953\"], [0.7777777777777778, \"#fb9f3a\"], [0.8888888888888888, \"#fdca26\"], [1.0, \"#f0f921\"]], \"sequentialminus\": [[0.0, \"#0d0887\"], [0.1111111111111111, \"#46039f\"], [0.2222222222222222, \"#7201a8\"], [0.3333333333333333, \"#9c179e\"], [0.4444444444444444, \"#bd3786\"], [0.5555555555555556, \"#d8576b\"], [0.6666666666666666, \"#ed7953\"], [0.7777777777777778, \"#fb9f3a\"], [0.8888888888888888, \"#fdca26\"], [1.0, \"#f0f921\"]]}, \"colorway\": [\"#636efa\", \"#EF553B\", \"#00cc96\", \"#ab63fa\", \"#FFA15A\", \"#19d3f3\", \"#FF6692\", \"#B6E880\", \"#FF97FF\", \"#FECB52\"], \"font\": {\"color\": \"#2a3f5f\"}, \"geo\": {\"bgcolor\": \"white\", \"lakecolor\": \"white\", \"landcolor\": \"#E5ECF6\", \"showlakes\": true, \"showland\": true, \"subunitcolor\": \"white\"}, \"hoverlabel\": {\"align\": \"left\"}, \"hovermode\": \"closest\", \"mapbox\": {\"style\": \"light\"}, \"paper_bgcolor\": \"white\", \"plot_bgcolor\": \"#E5ECF6\", \"polar\": {\"angularaxis\": {\"gridcolor\": \"white\", \"linecolor\": \"white\", \"ticks\": \"\"}, \"bgcolor\": \"#E5ECF6\", \"radialaxis\": {\"gridcolor\": \"white\", \"linecolor\": \"white\", \"ticks\": \"\"}}, \"scene\": {\"xaxis\": {\"backgroundcolor\": \"#E5ECF6\", \"gridcolor\": \"white\", \"gridwidth\": 2, \"linecolor\": \"white\", \"showbackground\": true, \"ticks\": \"\", \"zerolinecolor\": \"white\"}, \"yaxis\": {\"backgroundcolor\": \"#E5ECF6\", \"gridcolor\": \"white\", \"gridwidth\": 2, \"linecolor\": \"white\", \"showbackground\": true, \"ticks\": \"\", \"zerolinecolor\": \"white\"}, \"zaxis\": {\"backgroundcolor\": \"#E5ECF6\", \"gridcolor\": \"white\", \"gridwidth\": 2, \"linecolor\": \"white\", \"showbackground\": true, \"ticks\": \"\", \"zerolinecolor\": \"white\"}}, \"shapedefaults\": {\"line\": {\"color\": \"#2a3f5f\"}}, \"ternary\": {\"aaxis\": {\"gridcolor\": \"white\", \"linecolor\": \"white\", \"ticks\": \"\"}, \"baxis\": {\"gridcolor\": \"white\", \"linecolor\": \"white\", \"ticks\": \"\"}, \"bgcolor\": \"#E5ECF6\", \"caxis\": {\"gridcolor\": \"white\", \"linecolor\": \"white\", \"ticks\": \"\"}}, \"title\": {\"x\": 0.05}, \"xaxis\": {\"automargin\": true, \"gridcolor\": \"white\", \"linecolor\": \"white\", \"ticks\": \"\", \"title\": {\"standoff\": 15}, \"zerolinecolor\": \"white\", \"zerolinewidth\": 2}, \"yaxis\": {\"automargin\": true, \"gridcolor\": \"white\", \"linecolor\": \"white\", \"ticks\": \"\", \"title\": {\"standoff\": 15}, \"zerolinecolor\": \"white\", \"zerolinewidth\": 2}}}, \"title\": {\"text\": \"Feature importance of classifier\"}, \"uniformtext\": {\"minsize\": 8, \"mode\": \"hide\"}, \"xaxis\": {\"anchor\": \"y\", \"categoryorder\": \"total descending\", \"domain\": [0.0, 1.0], \"title\": {\"text\": \"feature_names\"}}, \"yaxis\": {\"anchor\": \"x\", \"domain\": [0.0, 1.0], \"title\": {\"text\": \"importance\"}}},\n",
       "                        {\"responsive\": true}\n",
       "                    ).then(function(){\n",
       "                            \n",
       "var gd = document.getElementById('5dae3687-6fbd-47de-a2d2-20fba160815b');\n",
       "var x = new MutationObserver(function (mutations, observer) {{\n",
       "        var display = window.getComputedStyle(gd).display;\n",
       "        if (!display || display === 'none') {{\n",
       "            console.log([gd, 'removed!']);\n",
       "            Plotly.purge(gd);\n",
       "            observer.disconnect();\n",
       "        }}\n",
       "}});\n",
       "\n",
       "// Listen for the removal of the full notebook cells\n",
       "var notebookContainer = gd.closest('#notebook-container');\n",
       "if (notebookContainer) {{\n",
       "    x.observe(notebookContainer, {childList: true});\n",
       "}}\n",
       "\n",
       "// Listen for the clearing of the current output cell\n",
       "var outputEl = gd.closest('.output');\n",
       "if (outputEl) {{\n",
       "    x.observe(outputEl, {childList: true});\n",
       "}}\n",
       "\n",
       "                        })\n",
       "                };\n",
       "                });\n",
       "            </script>\n",
       "        </div>"
      ]
     },
     "metadata": {},
     "output_type": "display_data"
    }
   ],
   "source": [
    "fig = px.bar(feature_importance, x='feature_names', y='importance',color = 'type').update_xaxes(categoryorder = \"total descending\")\n",
    "fig.update_layout(\n",
    "    title=\"Feature importance of classifier\",\n",
    ")\n",
    "fig.update_traces(texttemplate='%{text:.2s}', textposition='outside')\n",
    "fig.update_layout(uniformtext_minsize=8, uniformtext_mode='hide')\n",
    "fig.show()"
   ]
  },
  {
   "cell_type": "markdown",
   "metadata": {},
   "source": [
    "## Classifier  - cross-validation score"
   ]
  },
  {
   "cell_type": "code",
   "execution_count": 47,
   "metadata": {
    "ExecuteTime": {
     "end_time": "2020-03-30T09:10:30.938937Z",
     "start_time": "2020-03-30T09:10:30.923014Z"
    }
   },
   "outputs": [
    {
     "data": {
      "text/html": [
       "<div>\n",
       "<style scoped>\n",
       "    .dataframe tbody tr th:only-of-type {\n",
       "        vertical-align: middle;\n",
       "    }\n",
       "\n",
       "    .dataframe tbody tr th {\n",
       "        vertical-align: top;\n",
       "    }\n",
       "\n",
       "    .dataframe thead th {\n",
       "        text-align: right;\n",
       "    }\n",
       "</style>\n",
       "<table border=\"1\" class=\"dataframe\">\n",
       "  <thead>\n",
       "    <tr style=\"text-align: right;\">\n",
       "      <th></th>\n",
       "      <th>Questions</th>\n",
       "      <th>Intent</th>\n",
       "      <th>lemma</th>\n",
       "      <th>noun_1</th>\n",
       "      <th>noun_2</th>\n",
       "      <th>noun_3</th>\n",
       "      <th>noun_4</th>\n",
       "      <th>noun_5</th>\n",
       "      <th>verb_1</th>\n",
       "      <th>verb_2</th>\n",
       "      <th>verb_3</th>\n",
       "      <th>keyword_1</th>\n",
       "      <th>keyword_2</th>\n",
       "      <th>keyword_3</th>\n",
       "      <th>keyword_4</th>\n",
       "      <th>keyword_5</th>\n",
       "    </tr>\n",
       "  </thead>\n",
       "  <tbody>\n",
       "    <tr>\n",
       "      <th>0</th>\n",
       "      <td>what promotions do you have</td>\n",
       "      <td>Promotions</td>\n",
       "      <td>promotion</td>\n",
       "      <td>116.0</td>\n",
       "      <td>0.0</td>\n",
       "      <td>0.0</td>\n",
       "      <td>0.0</td>\n",
       "      <td>0.0</td>\n",
       "      <td>0.0</td>\n",
       "      <td>0.0</td>\n",
       "      <td>0.0</td>\n",
       "      <td>116.0</td>\n",
       "      <td>0.0</td>\n",
       "      <td>0.0</td>\n",
       "      <td>0.0</td>\n",
       "      <td>0.0</td>\n",
       "    </tr>\n",
       "    <tr>\n",
       "      <th>1</th>\n",
       "      <td>what promotions are available</td>\n",
       "      <td>Promotions</td>\n",
       "      <td>promotion available</td>\n",
       "      <td>116.0</td>\n",
       "      <td>0.0</td>\n",
       "      <td>0.0</td>\n",
       "      <td>0.0</td>\n",
       "      <td>0.0</td>\n",
       "      <td>0.0</td>\n",
       "      <td>0.0</td>\n",
       "      <td>0.0</td>\n",
       "      <td>116.0</td>\n",
       "      <td>0.0</td>\n",
       "      <td>0.0</td>\n",
       "      <td>0.0</td>\n",
       "      <td>0.0</td>\n",
       "    </tr>\n",
       "    <tr>\n",
       "      <th>2</th>\n",
       "      <td>promotions</td>\n",
       "      <td>Promotions</td>\n",
       "      <td>promotion</td>\n",
       "      <td>116.0</td>\n",
       "      <td>0.0</td>\n",
       "      <td>0.0</td>\n",
       "      <td>0.0</td>\n",
       "      <td>0.0</td>\n",
       "      <td>0.0</td>\n",
       "      <td>0.0</td>\n",
       "      <td>0.0</td>\n",
       "      <td>116.0</td>\n",
       "      <td>0.0</td>\n",
       "      <td>0.0</td>\n",
       "      <td>0.0</td>\n",
       "      <td>0.0</td>\n",
       "    </tr>\n",
       "    <tr>\n",
       "      <th>3</th>\n",
       "      <td>i want to see promotions</td>\n",
       "      <td>Promotions</td>\n",
       "      <td>want promotion</td>\n",
       "      <td>116.0</td>\n",
       "      <td>0.0</td>\n",
       "      <td>0.0</td>\n",
       "      <td>0.0</td>\n",
       "      <td>0.0</td>\n",
       "      <td>179.0</td>\n",
       "      <td>0.0</td>\n",
       "      <td>0.0</td>\n",
       "      <td>116.0</td>\n",
       "      <td>0.0</td>\n",
       "      <td>0.0</td>\n",
       "      <td>0.0</td>\n",
       "      <td>0.0</td>\n",
       "    </tr>\n",
       "    <tr>\n",
       "      <th>4</th>\n",
       "      <td>view promotions</td>\n",
       "      <td>Promotions</td>\n",
       "      <td>view promotion</td>\n",
       "      <td>175.0</td>\n",
       "      <td>116.0</td>\n",
       "      <td>0.0</td>\n",
       "      <td>0.0</td>\n",
       "      <td>0.0</td>\n",
       "      <td>0.0</td>\n",
       "      <td>0.0</td>\n",
       "      <td>0.0</td>\n",
       "      <td>116.0</td>\n",
       "      <td>0.0</td>\n",
       "      <td>0.0</td>\n",
       "      <td>0.0</td>\n",
       "      <td>0.0</td>\n",
       "    </tr>\n",
       "  </tbody>\n",
       "</table>\n",
       "</div>"
      ],
      "text/plain": [
       "                       Questions      Intent                lemma  noun_1  \\\n",
       "0    what promotions do you have  Promotions            promotion   116.0   \n",
       "1  what promotions are available  Promotions  promotion available   116.0   \n",
       "2                     promotions  Promotions            promotion   116.0   \n",
       "3       i want to see promotions  Promotions       want promotion   116.0   \n",
       "4                view promotions  Promotions       view promotion   175.0   \n",
       "\n",
       "   noun_2  noun_3  noun_4  noun_5  verb_1  verb_2  verb_3  keyword_1  \\\n",
       "0     0.0     0.0     0.0     0.0     0.0     0.0     0.0      116.0   \n",
       "1     0.0     0.0     0.0     0.0     0.0     0.0     0.0      116.0   \n",
       "2     0.0     0.0     0.0     0.0     0.0     0.0     0.0      116.0   \n",
       "3     0.0     0.0     0.0     0.0   179.0     0.0     0.0      116.0   \n",
       "4   116.0     0.0     0.0     0.0     0.0     0.0     0.0      116.0   \n",
       "\n",
       "   keyword_2  keyword_3  keyword_4  keyword_5  \n",
       "0        0.0        0.0        0.0        0.0  \n",
       "1        0.0        0.0        0.0        0.0  \n",
       "2        0.0        0.0        0.0        0.0  \n",
       "3        0.0        0.0        0.0        0.0  \n",
       "4        0.0        0.0        0.0        0.0  "
      ]
     },
     "execution_count": 47,
     "metadata": {},
     "output_type": "execute_result"
    }
   ],
   "source": [
    "processed.head()"
   ]
  },
  {
   "cell_type": "code",
   "execution_count": 49,
   "metadata": {
    "ExecuteTime": {
     "end_time": "2020-03-30T09:12:00.691630Z",
     "start_time": "2020-03-30T09:11:57.301644Z"
    }
   },
   "outputs": [
    {
     "name": "stdout",
     "output_type": "stream",
     "text": [
      "StratifiedKFold(n_splits=5, random_state=None, shuffle=False)\n"
     ]
    },
    {
     "name": "stderr",
     "output_type": "stream",
     "text": [
      "C:\\Users\\xiaoxu\\anaconda3\\envs\\fastai\\lib\\site-packages\\sklearn\\model_selection\\_split.py:667: UserWarning:\n",
      "\n",
      "The least populated class in y has only 1 members, which is less than n_splits=5.\n",
      "\n"
     ]
    },
    {
     "name": "stdout",
     "output_type": "stream",
     "text": [
      "0.8506329113924049 0.024545214467930773\n"
     ]
    }
   ],
   "source": [
    "feature_cols = ['lemma', 'noun_1', 'noun_2', 'noun_3', 'noun_4',\n",
    "       'noun_5', 'verb_1', 'verb_2', 'verb_3', 'keyword_1', 'keyword_2',\n",
    "       'keyword_3', 'keyword_4', 'keyword_5']\n",
    "\n",
    "# StratifiedKFold coss validation \n",
    "skf = StratifiedKFold(n_splits=5)\n",
    "skf.get_n_splits(processed[feature_cols], processed['Intent'])\n",
    "print(skf)\n",
    "\n",
    "cv_scores = []\n",
    "\n",
    "for train_index, test_index in skf.split(processed[feature_cols], processed['Intent']):\n",
    "    # get train, test data for each chunk \n",
    "    X_train, X_test = processed.loc[train_index,feature_cols], processed.loc[test_index,feature_cols]\n",
    "    y_train, y_test = processed.loc[train_index,'Intent'], processed.loc[test_index,'Intent']\n",
    "    \n",
    "    v = TfidfVectorizer()\n",
    "    x_train = v.fit_transform(X_train['lemma'])\n",
    "    x_test = v.transform(X_test['lemma'])\n",
    "    \n",
    "    vocab = dict(v.vocabulary_)\n",
    "    \n",
    "    # combine Tf-idf vectors and other features\n",
    "    cols = ['noun_1', 'noun_2', 'noun_3', 'noun_4', 'noun_5',\n",
    "       'verb_1', 'verb_2', 'verb_3', 'keyword_1', 'keyword_2', 'keyword_3',\n",
    "       'keyword_4', 'keyword_5']\n",
    "    for col in cols:\n",
    "        X_train[col] = X_train[col].apply(lambda x: vocab[x] if x in vocab else 0.0)  \n",
    "        X_test[col] = X_test[col].apply(lambda x: vocab[x] if x in vocab else 0.0)  \n",
    "    \n",
    "    x_train_combined = hstack((x_train, X_train[cols].values),format='csr')\n",
    "    x_train_combined_columns=v.get_feature_names() + X_train[cols].columns.tolist()\n",
    "    \n",
    "    x_test_combined = hstack((x_test, X_test[cols].values),format='csr')\n",
    "    x_test_combined_columns=v.get_feature_names()  + X_test[cols].columns.tolist()\n",
    "    \n",
    "    x_train_combined = pd.DataFrame(x_train_combined.toarray())\n",
    "    x_train_combined.columns = x_train_combined_columns\n",
    "    \n",
    "    x_test_combined = pd.DataFrame(x_test_combined.toarray())\n",
    "    x_test_combined.columns = x_test_combined_columns\n",
    "    \n",
    "    # build classifier\n",
    "    clf = RandomForestClassifier(max_depth=40, n_estimators=450)\n",
    "    clf.fit(x_train_combined, y_train)\n",
    "    score = clf.score(x_test_combined, y_test)\n",
    "    cv_scores.append(score)\n",
    "    \n",
    "print(np.mean(np.array((cv_scores))), np.std(np.array((cv_scores))))"
   ]
  },
  {
   "cell_type": "code",
   "execution_count": null,
   "metadata": {},
   "outputs": [],
   "source": []
  }
 ],
 "metadata": {
  "kernelspec": {
   "display_name": "Python 3",
   "language": "python",
   "name": "python3"
  },
  "language_info": {
   "codemirror_mode": {
    "name": "ipython",
    "version": 3
   },
   "file_extension": ".py",
   "mimetype": "text/x-python",
   "name": "python",
   "nbconvert_exporter": "python",
   "pygments_lexer": "ipython3",
   "version": "3.6.10"
  },
  "toc": {
   "base_numbering": 1,
   "nav_menu": {},
   "number_sections": true,
   "sideBar": true,
   "skip_h1_title": false,
   "title_cell": "Table of Contents",
   "title_sidebar": "Contents",
   "toc_cell": false,
   "toc_position": {
    "height": "calc(100% - 180px)",
    "left": "10px",
    "top": "150px",
    "width": "165px"
   },
   "toc_section_display": true,
   "toc_window_display": true
  },
  "varInspector": {
   "cols": {
    "lenName": 16,
    "lenType": 16,
    "lenVar": 40
   },
   "kernels_config": {
    "python": {
     "delete_cmd_postfix": "",
     "delete_cmd_prefix": "del ",
     "library": "var_list.py",
     "varRefreshCmd": "print(var_dic_list())"
    },
    "r": {
     "delete_cmd_postfix": ") ",
     "delete_cmd_prefix": "rm(",
     "library": "var_list.r",
     "varRefreshCmd": "cat(var_dic_list()) "
    }
   },
   "types_to_exclude": [
    "module",
    "function",
    "builtin_function_or_method",
    "instance",
    "_Feature"
   ],
   "window_display": false
  }
 },
 "nbformat": 4,
 "nbformat_minor": 2
}
