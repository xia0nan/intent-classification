{
 "cells": [
  {
   "cell_type": "markdown",
   "metadata": {},
   "source": [
    "# Notebook Conf"
   ]
  },
  {
   "cell_type": "code",
   "execution_count": 1,
   "metadata": {
    "ExecuteTime": {
     "end_time": "2020-04-02T02:26:32.580328Z",
     "start_time": "2020-04-02T02:26:32.292256Z"
    }
   },
   "outputs": [],
   "source": [
    "%load_ext autoreload\n",
    "%autoreload 2"
   ]
  },
  {
   "cell_type": "markdown",
   "metadata": {},
   "source": [
    "# Import Libraries"
   ]
  },
  {
   "cell_type": "code",
   "execution_count": 4,
   "metadata": {
    "ExecuteTime": {
     "end_time": "2020-04-02T02:26:33.573466Z",
     "start_time": "2020-04-02T02:26:33.290540Z"
    }
   },
   "outputs": [],
   "source": [
    "from pathlib import Path\n",
    "import pandas as pd\n",
    "import re\n",
    "import numpy as np\n",
    "\n",
    "from nltk.tokenize import word_tokenize\n",
    "from sklearn.feature_extraction.text import TfidfVectorizer\n",
    "from sklearn.metrics.pairwise import cosine_distances\n",
    "import gensim.downloader as api\n",
    "\n",
    "PATH_PROJ = Path.home() / 'project/intent-classification'\n",
    "PATH_DATA = PATH_PROJ"
   ]
  },
  {
   "cell_type": "markdown",
   "metadata": {},
   "source": [
    "# Processing Data"
   ]
  },
  {
   "cell_type": "markdown",
   "metadata": {},
   "source": [
    "## string clean"
   ]
  },
  {
   "cell_type": "code",
   "execution_count": 5,
   "metadata": {
    "ExecuteTime": {
     "end_time": "2020-04-02T02:26:35.006164Z",
     "start_time": "2020-04-02T02:26:34.721881Z"
    }
   },
   "outputs": [],
   "source": [
    "df = pd.read_csv(PATH_DATA / 'data.csv', usecols=['Intent', 'Questions'])\n",
    "df = df.rename(columns={'Intent': 'intent', 'Questions': 'query'})\n",
    "df.dropna(inplace=True)\n",
    "df = df.drop(df[df.intent == 'Late fee waiver for credit card'].index)"
   ]
  },
  {
   "cell_type": "code",
   "execution_count": 6,
   "metadata": {
    "ExecuteTime": {
     "end_time": "2020-04-02T02:26:35.792900Z",
     "start_time": "2020-04-02T02:26:35.515640Z"
    }
   },
   "outputs": [],
   "source": [
    "def string_clean(text):\n",
    "    \"\"\" Basic text cleaning \"\"\"\n",
    "    # Remove numbers\n",
    "    # Remove punctuations\n",
    "    # Remove single character\n",
    "    # Stemming\n",
    "    \n",
    "    text = text.lower()\n",
    "    text = re.sub(r'[^a-z0-9\\s]', '', text)\n",
    "    return text"
   ]
  },
  {
   "cell_type": "code",
   "execution_count": 7,
   "metadata": {
    "ExecuteTime": {
     "end_time": "2020-04-02T02:26:36.970749Z",
     "start_time": "2020-04-02T02:26:36.686066Z"
    }
   },
   "outputs": [],
   "source": [
    "df['query'] = df['query'].apply(string_clean)"
   ]
  },
  {
   "cell_type": "markdown",
   "metadata": {},
   "source": [
    "## tokenize"
   ]
  },
  {
   "cell_type": "code",
   "execution_count": 8,
   "metadata": {
    "ExecuteTime": {
     "end_time": "2020-04-02T02:26:38.669494Z",
     "start_time": "2020-04-02T02:26:38.393153Z"
    }
   },
   "outputs": [],
   "source": [
    "# import nltk\n",
    "# nltk.download('punkt')"
   ]
  },
  {
   "cell_type": "code",
   "execution_count": 9,
   "metadata": {
    "ExecuteTime": {
     "end_time": "2020-04-02T02:26:38.966811Z",
     "start_time": "2020-04-02T02:26:38.671407Z"
    }
   },
   "outputs": [],
   "source": [
    "def tokenize(wd): \n",
    "    return ' '.join(word_tokenize(wd))"
   ]
  },
  {
   "cell_type": "code",
   "execution_count": 10,
   "metadata": {
    "ExecuteTime": {
     "end_time": "2020-04-02T02:26:39.685934Z",
     "start_time": "2020-04-02T02:26:39.322630Z"
    }
   },
   "outputs": [],
   "source": [
    "df['query'] = df['query'].apply(tokenize)"
   ]
  },
  {
   "cell_type": "markdown",
   "metadata": {},
   "source": [
    "## lemmatizer and stopwords"
   ]
  },
  {
   "cell_type": "code",
   "execution_count": 11,
   "metadata": {
    "ExecuteTime": {
     "end_time": "2020-04-02T02:26:42.127460Z",
     "start_time": "2020-04-02T02:26:41.403803Z"
    }
   },
   "outputs": [],
   "source": [
    "import spacy\n",
    "nlp = spacy.load(\"en_core_web_sm\")\n",
    "\n",
    "from spacy.lang.en.stop_words import STOP_WORDS\n",
    "stop_words = list(STOP_WORDS)"
   ]
  },
  {
   "cell_type": "code",
   "execution_count": 12,
   "metadata": {
    "ExecuteTime": {
     "end_time": "2020-04-02T02:26:49.216245Z",
     "start_time": "2020-04-02T02:26:43.521163Z"
    }
   },
   "outputs": [],
   "source": [
    "df['query'] = df['query'].apply(lambda x:' '.join([token.lemma_ for token in nlp(x) if token.lemma_ not in stop_words]))"
   ]
  },
  {
   "cell_type": "markdown",
   "metadata": {},
   "source": [
    "# Modeling"
   ]
  },
  {
   "cell_type": "markdown",
   "metadata": {},
   "source": [
    "## word2vec "
   ]
  },
  {
   "cell_type": "code",
   "execution_count": 13,
   "metadata": {
    "ExecuteTime": {
     "end_time": "2020-04-01T11:42:31.406245Z",
     "start_time": "2020-04-01T11:40:57.686403Z"
    }
   },
   "outputs": [],
   "source": [
    "word2vec = api.load(\"word2vec-google-news-300\")  "
   ]
  },
  {
   "cell_type": "code",
   "execution_count": 14,
   "metadata": {},
   "outputs": [],
   "source": [
    "# request for easicredit late fee waiver"
   ]
  },
  {
   "cell_type": "code",
   "execution_count": 21,
   "metadata": {
    "ExecuteTime": {
     "end_time": "2020-04-02T02:26:52.157397Z",
     "start_time": "2020-04-02T02:26:51.907025Z"
    }
   },
   "outputs": [],
   "source": [
    "def get_sentence_vec(sentence, word2vec, idf=None):\n",
    "    words = sentence.split()\n",
    "    words = [word for word in words if word in word2vec.vocab]\n",
    "    if len(words) == 0:\n",
    "        return np.zeros((300, ), dtype='float32')\n",
    "    \n",
    "    # use mean if no idf provided\n",
    "    if idf is None:\n",
    "        emb = word2vec[words].mean(axis=0)\n",
    "    else:\n",
    "        # get all idf of words\n",
    "        idf_series = np.array([idf.get(word, 0.0) for word in words])\n",
    "        # change shape to 1 x num_of_words\n",
    "        idf_series = idf_series.reshape(1, -1)\n",
    "        # use matrix multiplication to get weighted word vector sum for sentence embeddings\n",
    "        # print(idf_series.shape, len(words))\n",
    "        emb = np.matmul(idf_series, word2vec[words]).reshape(-1)\n",
    "    return emb"
   ]
  },
  {
   "cell_type": "code",
   "execution_count": 16,
   "metadata": {
    "ExecuteTime": {
     "end_time": "2020-04-02T02:26:52.495458Z",
     "start_time": "2020-04-02T02:26:52.214320Z"
    }
   },
   "outputs": [],
   "source": [
    "def get_sentence_centre(sentence_list, score_list ,word2vec, num_features):\n",
    "    emb = np.zeros((num_features, ), dtype='float32')\n",
    "    sentence_count = 0\n",
    "    for sentence, score in zip(sentence_list,score_list):\n",
    "        sentence_count += 1\n",
    "        emb = emb + get_sentence_vec(sentence, word2vec,idf = score)\n",
    "    return emb / sentence_count"
   ]
  },
  {
   "cell_type": "markdown",
   "metadata": {},
   "source": [
    "## cluster leave one out"
   ]
  },
  {
   "cell_type": "code",
   "execution_count": 17,
   "metadata": {
    "ExecuteTime": {
     "end_time": "2020-04-02T02:26:54.390103Z",
     "start_time": "2020-04-02T02:26:54.133774Z"
    }
   },
   "outputs": [],
   "source": [
    "def get_cluster_centre(df, intent_list, word2vec):\n",
    "    result = {}\n",
    "    for intent in intent_list:\n",
    "        df_tmp = df[df.intent == intent]\n",
    "        sentence_centre_tmp = get_sentence_centre(df_tmp['query'].values,df_tmp['score'].values ,word2vec, 300)\n",
    "        result[intent] = sentence_centre_tmp\n",
    "    return result"
   ]
  },
  {
   "cell_type": "code",
   "execution_count": 18,
   "metadata": {
    "ExecuteTime": {
     "end_time": "2020-04-02T02:26:55.839255Z",
     "start_time": "2020-04-02T02:26:55.552056Z"
    }
   },
   "outputs": [],
   "source": [
    "def get_tfidf_for_words(text):\n",
    "    # get matrix use todense(), get ndarray use toarray()\n",
    "    tfidf_matrix= vectorizer.transform([text]).todense()\n",
    "    # get index for words in tfidf\n",
    "    feature_index = tfidf_matrix[0,:].nonzero()[1]\n",
    "    # create list: [(intent1, idf1), (intent2, idf2), ...]\n",
    "    tfidf_scores = zip([feature_names[i] for i in feature_index], [tfidf_matrix[0, x] for x in feature_index])\n",
    "    # return dict: {intent1: tfidf1, intent2: tfidf2, ...}\n",
    "    return dict(tfidf_scores)"
   ]
  },
  {
   "cell_type": "code",
   "execution_count": 19,
   "metadata": {
    "ExecuteTime": {
     "end_time": "2020-04-01T14:08:44.782305Z",
     "start_time": "2020-04-01T14:08:44.602783Z"
    }
   },
   "outputs": [],
   "source": [
    "# embed_mtx = np.array([\n",
    "#     word2vec[w] if w in word2vec.vocab else [0]*300 for w in feature_names\n",
    "# ])\n",
    "\n",
    "# np.matmul( np.asarray(vectorizer.transform(df['query']).todense()), embed_mtx).shape"
   ]
  },
  {
   "cell_type": "code",
   "execution_count": 22,
   "metadata": {
    "ExecuteTime": {
     "end_time": "2020-04-02T02:31:09.875546Z",
     "start_time": "2020-04-02T02:26:58.875015Z"
    }
   },
   "outputs": [],
   "source": [
    "intent_list = df.intent.unique().tolist()\n",
    "sentence_distance = []\n",
    "for ind in df.index:\n",
    "    sentence_distance_tmp = []\n",
    "    query = df.loc[ind, 'query']\n",
    "    df_data = df.drop(ind)\n",
    "    \n",
    "    ## get tf-idf score \n",
    "    # get a different idf score each time the query is taken out\n",
    "    vectorizer = TfidfVectorizer()\n",
    "    vectorizer.fit(df_data['query'])\n",
    "    \n",
    "    # feature_names to be used to calculate word2vec.vocab coverage\n",
    "    feature_names = vectorizer.get_feature_names()\n",
    "    \n",
    "    df_data['score'] = df['query'].apply(get_tfidf_for_words)\n",
    "    print(df_data.head())\n",
    "    \n",
    "    # get tfidf score to be used in weighted word vector\n",
    "    query_score = get_tfidf_for_words(query)\n",
    "    \n",
    "    sentence_centre_dic = get_cluster_centre(df_data, intent_list, word2vec)\n",
    "    for intent in intent_list:\n",
    "        sentence_distance_tmp.append(cosine_distances(get_sentence_vec(query, word2vec,query_score).reshape(1,-1), \n",
    "                                                      sentence_centre_dic[intent].reshape(1,-1)).item())\n",
    "    sentence_distance.append(sentence_distance_tmp)"
   ]
  },
  {
   "cell_type": "code",
   "execution_count": 23,
   "metadata": {
    "ExecuteTime": {
     "end_time": "2020-04-02T02:31:58.830346Z",
     "start_time": "2020-04-02T02:31:58.530061Z"
    }
   },
   "outputs": [],
   "source": [
    "df_sentence_distance = pd.DataFrame(sentence_distance, columns=intent_list)"
   ]
  },
  {
   "cell_type": "code",
   "execution_count": 24,
   "metadata": {
    "ExecuteTime": {
     "end_time": "2020-04-02T02:31:59.458117Z",
     "start_time": "2020-04-02T02:31:59.169907Z"
    }
   },
   "outputs": [
    {
     "data": {
      "text/html": [
       "<div>\n",
       "<style scoped>\n",
       "    .dataframe tbody tr th:only-of-type {\n",
       "        vertical-align: middle;\n",
       "    }\n",
       "\n",
       "    .dataframe tbody tr th {\n",
       "        vertical-align: top;\n",
       "    }\n",
       "\n",
       "    .dataframe thead th {\n",
       "        text-align: right;\n",
       "    }\n",
       "</style>\n",
       "<table border=\"1\" class=\"dataframe\">\n",
       "  <thead>\n",
       "    <tr style=\"text-align: right;\">\n",
       "      <th></th>\n",
       "      <th>Statement request</th>\n",
       "      <th>Passbook savings accounts</th>\n",
       "      <th>Card statements</th>\n",
       "      <th>Credit card statement</th>\n",
       "      <th>Debit card statement</th>\n",
       "      <th>Investment account statement</th>\n",
       "      <th>Home loan account statement</th>\n",
       "      <th>360 Account interest dispute</th>\n",
       "      <th>Change of billing cycle</th>\n",
       "      <th>Token Activation</th>\n",
       "      <th>...</th>\n",
       "      <th>Paying a cancelled credit card</th>\n",
       "      <th>How to close my account</th>\n",
       "      <th>Card dispute</th>\n",
       "      <th>Change credit card limit</th>\n",
       "      <th>Increase credit card limit</th>\n",
       "      <th>Decrease credit card limit</th>\n",
       "      <th>Credit card application rejection</th>\n",
       "      <th>Rebates</th>\n",
       "      <th>How to redeem rewards</th>\n",
       "      <th>Update details</th>\n",
       "    </tr>\n",
       "  </thead>\n",
       "  <tbody>\n",
       "    <tr>\n",
       "      <th>0</th>\n",
       "      <td>0.239015</td>\n",
       "      <td>0.476868</td>\n",
       "      <td>0.337956</td>\n",
       "      <td>0.419239</td>\n",
       "      <td>0.569444</td>\n",
       "      <td>0.497531</td>\n",
       "      <td>0.539970</td>\n",
       "      <td>0.723792</td>\n",
       "      <td>0.782479</td>\n",
       "      <td>0.818257</td>\n",
       "      <td>...</td>\n",
       "      <td>0.717396</td>\n",
       "      <td>0.724538</td>\n",
       "      <td>0.644826</td>\n",
       "      <td>0.740849</td>\n",
       "      <td>0.791113</td>\n",
       "      <td>0.835014</td>\n",
       "      <td>0.631769</td>\n",
       "      <td>0.770484</td>\n",
       "      <td>0.854625</td>\n",
       "      <td>0.560702</td>\n",
       "    </tr>\n",
       "    <tr>\n",
       "      <th>1</th>\n",
       "      <td>0.267362</td>\n",
       "      <td>0.469997</td>\n",
       "      <td>0.365053</td>\n",
       "      <td>0.366122</td>\n",
       "      <td>0.528491</td>\n",
       "      <td>0.406568</td>\n",
       "      <td>0.507421</td>\n",
       "      <td>0.722103</td>\n",
       "      <td>0.795615</td>\n",
       "      <td>0.779281</td>\n",
       "      <td>...</td>\n",
       "      <td>0.626802</td>\n",
       "      <td>0.666503</td>\n",
       "      <td>0.622732</td>\n",
       "      <td>0.720149</td>\n",
       "      <td>0.724000</td>\n",
       "      <td>0.784794</td>\n",
       "      <td>0.599908</td>\n",
       "      <td>0.718440</td>\n",
       "      <td>0.817008</td>\n",
       "      <td>0.487535</td>\n",
       "    </tr>\n",
       "    <tr>\n",
       "      <th>2</th>\n",
       "      <td>0.304271</td>\n",
       "      <td>0.542580</td>\n",
       "      <td>0.201802</td>\n",
       "      <td>0.385232</td>\n",
       "      <td>0.606660</td>\n",
       "      <td>0.449884</td>\n",
       "      <td>0.444711</td>\n",
       "      <td>0.850517</td>\n",
       "      <td>0.913493</td>\n",
       "      <td>0.994172</td>\n",
       "      <td>...</td>\n",
       "      <td>0.902475</td>\n",
       "      <td>0.845332</td>\n",
       "      <td>0.752034</td>\n",
       "      <td>0.909864</td>\n",
       "      <td>0.915016</td>\n",
       "      <td>0.928860</td>\n",
       "      <td>0.811126</td>\n",
       "      <td>0.958441</td>\n",
       "      <td>0.931494</td>\n",
       "      <td>0.705593</td>\n",
       "    </tr>\n",
       "    <tr>\n",
       "      <th>3</th>\n",
       "      <td>0.182261</td>\n",
       "      <td>0.443851</td>\n",
       "      <td>0.282480</td>\n",
       "      <td>0.373305</td>\n",
       "      <td>0.547490</td>\n",
       "      <td>0.458453</td>\n",
       "      <td>0.476687</td>\n",
       "      <td>0.701372</td>\n",
       "      <td>0.777772</td>\n",
       "      <td>0.831823</td>\n",
       "      <td>...</td>\n",
       "      <td>0.696590</td>\n",
       "      <td>0.704418</td>\n",
       "      <td>0.615315</td>\n",
       "      <td>0.710639</td>\n",
       "      <td>0.757346</td>\n",
       "      <td>0.810301</td>\n",
       "      <td>0.603653</td>\n",
       "      <td>0.737596</td>\n",
       "      <td>0.867568</td>\n",
       "      <td>0.544313</td>\n",
       "    </tr>\n",
       "    <tr>\n",
       "      <th>4</th>\n",
       "      <td>0.252563</td>\n",
       "      <td>0.577026</td>\n",
       "      <td>0.364759</td>\n",
       "      <td>0.461886</td>\n",
       "      <td>0.615006</td>\n",
       "      <td>0.519045</td>\n",
       "      <td>0.475794</td>\n",
       "      <td>0.776273</td>\n",
       "      <td>0.842217</td>\n",
       "      <td>0.854082</td>\n",
       "      <td>...</td>\n",
       "      <td>0.749669</td>\n",
       "      <td>0.802884</td>\n",
       "      <td>0.678018</td>\n",
       "      <td>0.803683</td>\n",
       "      <td>0.799772</td>\n",
       "      <td>0.862823</td>\n",
       "      <td>0.550518</td>\n",
       "      <td>0.822170</td>\n",
       "      <td>0.941049</td>\n",
       "      <td>0.634665</td>\n",
       "    </tr>\n",
       "  </tbody>\n",
       "</table>\n",
       "<p>5 rows × 77 columns</p>\n",
       "</div>"
      ],
      "text/plain": [
       "   Statement request  Passbook savings accounts  Card statements  \\\n",
       "0           0.239015                   0.476868         0.337956   \n",
       "1           0.267362                   0.469997         0.365053   \n",
       "2           0.304271                   0.542580         0.201802   \n",
       "3           0.182261                   0.443851         0.282480   \n",
       "4           0.252563                   0.577026         0.364759   \n",
       "\n",
       "   Credit card statement  Debit card statement  Investment account statement  \\\n",
       "0               0.419239              0.569444                      0.497531   \n",
       "1               0.366122              0.528491                      0.406568   \n",
       "2               0.385232              0.606660                      0.449884   \n",
       "3               0.373305              0.547490                      0.458453   \n",
       "4               0.461886              0.615006                      0.519045   \n",
       "\n",
       "   Home loan account statement  360 Account interest dispute  \\\n",
       "0                     0.539970                      0.723792   \n",
       "1                     0.507421                      0.722103   \n",
       "2                     0.444711                      0.850517   \n",
       "3                     0.476687                      0.701372   \n",
       "4                     0.475794                      0.776273   \n",
       "\n",
       "   Change of billing cycle  Token Activation  ...  \\\n",
       "0                 0.782479          0.818257  ...   \n",
       "1                 0.795615          0.779281  ...   \n",
       "2                 0.913493          0.994172  ...   \n",
       "3                 0.777772          0.831823  ...   \n",
       "4                 0.842217          0.854082  ...   \n",
       "\n",
       "   Paying a cancelled credit card  How to close my account  Card dispute  \\\n",
       "0                        0.717396                 0.724538      0.644826   \n",
       "1                        0.626802                 0.666503      0.622732   \n",
       "2                        0.902475                 0.845332      0.752034   \n",
       "3                        0.696590                 0.704418      0.615315   \n",
       "4                        0.749669                 0.802884      0.678018   \n",
       "\n",
       "   Change credit card limit  Increase credit card limit  \\\n",
       "0                  0.740849                    0.791113   \n",
       "1                  0.720149                    0.724000   \n",
       "2                  0.909864                    0.915016   \n",
       "3                  0.710639                    0.757346   \n",
       "4                  0.803683                    0.799772   \n",
       "\n",
       "   Decrease credit card limit  Credit card application rejection   Rebates  \\\n",
       "0                    0.835014                           0.631769  0.770484   \n",
       "1                    0.784794                           0.599908  0.718440   \n",
       "2                    0.928860                           0.811126  0.958441   \n",
       "3                    0.810301                           0.603653  0.737596   \n",
       "4                    0.862823                           0.550518  0.822170   \n",
       "\n",
       "   How to redeem rewards  Update details  \n",
       "0               0.854625        0.560702  \n",
       "1               0.817008        0.487535  \n",
       "2               0.931494        0.705593  \n",
       "3               0.867568        0.544313  \n",
       "4               0.941049        0.634665  \n",
       "\n",
       "[5 rows x 77 columns]"
      ]
     },
     "execution_count": 24,
     "metadata": {},
     "output_type": "execute_result"
    }
   ],
   "source": [
    "df_sentence_distance.head()"
   ]
  },
  {
   "cell_type": "code",
   "execution_count": 25,
   "metadata": {
    "ExecuteTime": {
     "end_time": "2020-04-02T02:32:03.174881Z",
     "start_time": "2020-04-02T02:32:02.891439Z"
    }
   },
   "outputs": [],
   "source": [
    "df.reset_index(drop=True, inplace=True)"
   ]
  },
  {
   "cell_type": "code",
   "execution_count": 26,
   "metadata": {
    "ExecuteTime": {
     "end_time": "2020-04-02T02:32:03.495787Z",
     "start_time": "2020-04-02T02:32:03.239506Z"
    }
   },
   "outputs": [],
   "source": [
    "df_result_2 = pd.concat([df, df_sentence_distance], axis=1)"
   ]
  },
  {
   "cell_type": "code",
   "execution_count": 27,
   "metadata": {
    "ExecuteTime": {
     "end_time": "2020-04-02T02:32:03.803963Z",
     "start_time": "2020-04-02T02:32:03.512741Z"
    }
   },
   "outputs": [
    {
     "data": {
      "text/html": [
       "<div>\n",
       "<style scoped>\n",
       "    .dataframe tbody tr th:only-of-type {\n",
       "        vertical-align: middle;\n",
       "    }\n",
       "\n",
       "    .dataframe tbody tr th {\n",
       "        vertical-align: top;\n",
       "    }\n",
       "\n",
       "    .dataframe thead th {\n",
       "        text-align: right;\n",
       "    }\n",
       "</style>\n",
       "<table border=\"1\" class=\"dataframe\">\n",
       "  <thead>\n",
       "    <tr style=\"text-align: right;\">\n",
       "      <th></th>\n",
       "      <th>intent</th>\n",
       "      <th>query</th>\n",
       "      <th>Statement request</th>\n",
       "      <th>Passbook savings accounts</th>\n",
       "      <th>Card statements</th>\n",
       "      <th>Credit card statement</th>\n",
       "      <th>Debit card statement</th>\n",
       "      <th>Investment account statement</th>\n",
       "      <th>Home loan account statement</th>\n",
       "      <th>360 Account interest dispute</th>\n",
       "      <th>...</th>\n",
       "      <th>Paying a cancelled credit card</th>\n",
       "      <th>How to close my account</th>\n",
       "      <th>Card dispute</th>\n",
       "      <th>Change credit card limit</th>\n",
       "      <th>Increase credit card limit</th>\n",
       "      <th>Decrease credit card limit</th>\n",
       "      <th>Credit card application rejection</th>\n",
       "      <th>Rebates</th>\n",
       "      <th>How to redeem rewards</th>\n",
       "      <th>Update details</th>\n",
       "    </tr>\n",
       "  </thead>\n",
       "  <tbody>\n",
       "    <tr>\n",
       "      <th>0</th>\n",
       "      <td>Statement request</td>\n",
       "      <td>like copy -PRON- statement</td>\n",
       "      <td>0.239015</td>\n",
       "      <td>0.476868</td>\n",
       "      <td>0.337956</td>\n",
       "      <td>0.419239</td>\n",
       "      <td>0.569444</td>\n",
       "      <td>0.497531</td>\n",
       "      <td>0.539970</td>\n",
       "      <td>0.723792</td>\n",
       "      <td>...</td>\n",
       "      <td>0.717396</td>\n",
       "      <td>0.724538</td>\n",
       "      <td>0.644826</td>\n",
       "      <td>0.740849</td>\n",
       "      <td>0.791113</td>\n",
       "      <td>0.835014</td>\n",
       "      <td>0.631769</td>\n",
       "      <td>0.770484</td>\n",
       "      <td>0.854625</td>\n",
       "      <td>0.560702</td>\n",
       "    </tr>\n",
       "    <tr>\n",
       "      <th>1</th>\n",
       "      <td>Statement request</td>\n",
       "      <td>send -PRON- copy -PRON- statement</td>\n",
       "      <td>0.267362</td>\n",
       "      <td>0.469997</td>\n",
       "      <td>0.365053</td>\n",
       "      <td>0.366122</td>\n",
       "      <td>0.528491</td>\n",
       "      <td>0.406568</td>\n",
       "      <td>0.507421</td>\n",
       "      <td>0.722103</td>\n",
       "      <td>...</td>\n",
       "      <td>0.626802</td>\n",
       "      <td>0.666503</td>\n",
       "      <td>0.622732</td>\n",
       "      <td>0.720149</td>\n",
       "      <td>0.724000</td>\n",
       "      <td>0.784794</td>\n",
       "      <td>0.599908</td>\n",
       "      <td>0.718440</td>\n",
       "      <td>0.817008</td>\n",
       "      <td>0.487535</td>\n",
       "    </tr>\n",
       "    <tr>\n",
       "      <th>2</th>\n",
       "      <td>Statement request</td>\n",
       "      <td>-PRON- statement</td>\n",
       "      <td>0.304271</td>\n",
       "      <td>0.542580</td>\n",
       "      <td>0.201802</td>\n",
       "      <td>0.385232</td>\n",
       "      <td>0.606660</td>\n",
       "      <td>0.449884</td>\n",
       "      <td>0.444711</td>\n",
       "      <td>0.850517</td>\n",
       "      <td>...</td>\n",
       "      <td>0.902475</td>\n",
       "      <td>0.845332</td>\n",
       "      <td>0.752034</td>\n",
       "      <td>0.909864</td>\n",
       "      <td>0.915016</td>\n",
       "      <td>0.928860</td>\n",
       "      <td>0.811126</td>\n",
       "      <td>0.958441</td>\n",
       "      <td>0.931494</td>\n",
       "      <td>0.705593</td>\n",
       "    </tr>\n",
       "    <tr>\n",
       "      <th>3</th>\n",
       "      <td>Statement request</td>\n",
       "      <td>want hard copy -PRON- statement</td>\n",
       "      <td>0.182261</td>\n",
       "      <td>0.443851</td>\n",
       "      <td>0.282480</td>\n",
       "      <td>0.373305</td>\n",
       "      <td>0.547490</td>\n",
       "      <td>0.458453</td>\n",
       "      <td>0.476687</td>\n",
       "      <td>0.701372</td>\n",
       "      <td>...</td>\n",
       "      <td>0.696590</td>\n",
       "      <td>0.704418</td>\n",
       "      <td>0.615315</td>\n",
       "      <td>0.710639</td>\n",
       "      <td>0.757346</td>\n",
       "      <td>0.810301</td>\n",
       "      <td>0.603653</td>\n",
       "      <td>0.737596</td>\n",
       "      <td>0.867568</td>\n",
       "      <td>0.544313</td>\n",
       "    </tr>\n",
       "    <tr>\n",
       "      <th>4</th>\n",
       "      <td>Statement request</td>\n",
       "      <td>statement request</td>\n",
       "      <td>0.252563</td>\n",
       "      <td>0.577026</td>\n",
       "      <td>0.364759</td>\n",
       "      <td>0.461886</td>\n",
       "      <td>0.615006</td>\n",
       "      <td>0.519045</td>\n",
       "      <td>0.475794</td>\n",
       "      <td>0.776273</td>\n",
       "      <td>...</td>\n",
       "      <td>0.749669</td>\n",
       "      <td>0.802884</td>\n",
       "      <td>0.678018</td>\n",
       "      <td>0.803683</td>\n",
       "      <td>0.799772</td>\n",
       "      <td>0.862823</td>\n",
       "      <td>0.550518</td>\n",
       "      <td>0.822170</td>\n",
       "      <td>0.941049</td>\n",
       "      <td>0.634665</td>\n",
       "    </tr>\n",
       "  </tbody>\n",
       "</table>\n",
       "<p>5 rows × 79 columns</p>\n",
       "</div>"
      ],
      "text/plain": [
       "              intent                              query  Statement request  \\\n",
       "0  Statement request         like copy -PRON- statement           0.239015   \n",
       "1  Statement request  send -PRON- copy -PRON- statement           0.267362   \n",
       "2  Statement request                   -PRON- statement           0.304271   \n",
       "3  Statement request    want hard copy -PRON- statement           0.182261   \n",
       "4  Statement request                  statement request           0.252563   \n",
       "\n",
       "   Passbook savings accounts  Card statements  Credit card statement  \\\n",
       "0                   0.476868         0.337956               0.419239   \n",
       "1                   0.469997         0.365053               0.366122   \n",
       "2                   0.542580         0.201802               0.385232   \n",
       "3                   0.443851         0.282480               0.373305   \n",
       "4                   0.577026         0.364759               0.461886   \n",
       "\n",
       "   Debit card statement  Investment account statement  \\\n",
       "0              0.569444                      0.497531   \n",
       "1              0.528491                      0.406568   \n",
       "2              0.606660                      0.449884   \n",
       "3              0.547490                      0.458453   \n",
       "4              0.615006                      0.519045   \n",
       "\n",
       "   Home loan account statement  360 Account interest dispute  ...  \\\n",
       "0                     0.539970                      0.723792  ...   \n",
       "1                     0.507421                      0.722103  ...   \n",
       "2                     0.444711                      0.850517  ...   \n",
       "3                     0.476687                      0.701372  ...   \n",
       "4                     0.475794                      0.776273  ...   \n",
       "\n",
       "   Paying a cancelled credit card  How to close my account  Card dispute  \\\n",
       "0                        0.717396                 0.724538      0.644826   \n",
       "1                        0.626802                 0.666503      0.622732   \n",
       "2                        0.902475                 0.845332      0.752034   \n",
       "3                        0.696590                 0.704418      0.615315   \n",
       "4                        0.749669                 0.802884      0.678018   \n",
       "\n",
       "   Change credit card limit  Increase credit card limit  \\\n",
       "0                  0.740849                    0.791113   \n",
       "1                  0.720149                    0.724000   \n",
       "2                  0.909864                    0.915016   \n",
       "3                  0.710639                    0.757346   \n",
       "4                  0.803683                    0.799772   \n",
       "\n",
       "   Decrease credit card limit  Credit card application rejection   Rebates  \\\n",
       "0                    0.835014                           0.631769  0.770484   \n",
       "1                    0.784794                           0.599908  0.718440   \n",
       "2                    0.928860                           0.811126  0.958441   \n",
       "3                    0.810301                           0.603653  0.737596   \n",
       "4                    0.862823                           0.550518  0.822170   \n",
       "\n",
       "   How to redeem rewards  Update details  \n",
       "0               0.854625        0.560702  \n",
       "1               0.817008        0.487535  \n",
       "2               0.931494        0.705593  \n",
       "3               0.867568        0.544313  \n",
       "4               0.941049        0.634665  \n",
       "\n",
       "[5 rows x 79 columns]"
      ]
     },
     "execution_count": 27,
     "metadata": {},
     "output_type": "execute_result"
    }
   ],
   "source": [
    "df_result_2.head()"
   ]
  },
  {
   "cell_type": "code",
   "execution_count": 28,
   "metadata": {
    "ExecuteTime": {
     "end_time": "2020-04-02T02:32:06.168631Z",
     "start_time": "2020-04-02T02:32:05.863393Z"
    }
   },
   "outputs": [
    {
     "data": {
      "text/plain": [
       "0.8003120124804992"
      ]
     },
     "execution_count": 28,
     "metadata": {},
     "output_type": "execute_result"
    }
   ],
   "source": [
    "# check accuracy\n",
    "df_tmp = df_result_2.copy()\n",
    "df_tmp.set_index(['intent', 'query'], inplace=True)\n",
    "df_tmp['cluster'] = df_tmp.idxmin(axis=1)\n",
    "df_tmp.reset_index(inplace=True)\n",
    "df_tmp['correct'] = (df_tmp.cluster == df_tmp.intent)\n",
    "sum(df_tmp.correct) / len(df_tmp)"
   ]
  },
  {
   "cell_type": "code",
   "execution_count": 29,
   "metadata": {
    "ExecuteTime": {
     "end_time": "2020-04-02T02:32:15.514415Z",
     "start_time": "2020-04-02T02:32:15.184285Z"
    }
   },
   "outputs": [],
   "source": [
    "# output features\n",
    "df_result_2.to_csv('data_leave_one_out.csv')"
   ]
  },
  {
   "cell_type": "code",
   "execution_count": 32,
   "metadata": {},
   "outputs": [
    {
     "data": {
      "text/plain": [
       "['intent',\n",
       " 'query',\n",
       " 'Statement request',\n",
       " 'Passbook savings accounts',\n",
       " 'Card statements',\n",
       " 'Credit card statement',\n",
       " 'Debit card statement',\n",
       " 'Investment account statement',\n",
       " 'Home loan account statement',\n",
       " '360 Account interest dispute',\n",
       " 'Change of billing cycle',\n",
       " 'Token Activation',\n",
       " 'Student Loan',\n",
       " 'Tuition fee loan',\n",
       " 'Education loan',\n",
       " 'Study loan',\n",
       " 'Car loan full settlement',\n",
       " 'Home loan repayment',\n",
       " 'Cancel Fund Transfer',\n",
       " 'Cancel credit card transaction',\n",
       " 'Credit Refund',\n",
       " 'Account opening for foreigners',\n",
       " 'Mobile Banking Issues',\n",
       " 'Account Fraud',\n",
       " 'Dormant Account Activation',\n",
       " 'CRS Enquiries',\n",
       " 'SRS Contribution',\n",
       " 'Dispute status',\n",
       " 'Give a compliment',\n",
       " 'File a complaint',\n",
       " 'Funds Transfer Status',\n",
       " 'Telegraphic transfer Status',\n",
       " 'Make a telegraphic transfer',\n",
       " 'Unable to log into internet banking',\n",
       " 'Card application status',\n",
       " 'Supplementary card application',\n",
       " 'Access codes for banking services',\n",
       " 'Interest or Late fee waiver',\n",
       " 'Annual Fee Waiver',\n",
       " 'SMS Alerts',\n",
       " 'Reset PIN',\n",
       " 'Unsuccessful card transaction',\n",
       " 'Card Renewal',\n",
       " 'Card activation for overseas use',\n",
       " 'Replace Card',\n",
       " 'Lost or compromised cards',\n",
       " 'Damaged or Faulty card',\n",
       " 'Promotions',\n",
       " 'Card Promotions',\n",
       " 'Open Account',\n",
       " 'Open OCBC Singapore Account',\n",
       " 'Open OCBC Securities Account ',\n",
       " 'Open OCBC Malaysia Account',\n",
       " 'Open NISP Account',\n",
       " 'Card Cancellation',\n",
       " 'Cancel Credit or Debit Card',\n",
       " 'Cancel ATM Card',\n",
       " 'Speak with a customer service officer',\n",
       " 'Request for sponsorship',\n",
       " 'Repricing',\n",
       " 'Reprice home loan',\n",
       " 'Service Fee',\n",
       " 'Token Replacement',\n",
       " 'Request for account fee waiver',\n",
       " 'Uplift suspension on accounts',\n",
       " 'Loan Enquiry',\n",
       " 'Card Application',\n",
       " 'Apply for credit or debit cards',\n",
       " 'Apply for ATM card',\n",
       " 'Paying a cancelled credit card',\n",
       " 'How to close my account',\n",
       " 'Card dispute',\n",
       " 'Change credit card limit',\n",
       " 'Increase credit card limit',\n",
       " 'Decrease credit card limit',\n",
       " 'Credit card application rejection',\n",
       " 'Rebates',\n",
       " 'How to redeem rewards',\n",
       " 'Update details']"
      ]
     },
     "execution_count": 32,
     "metadata": {},
     "output_type": "execute_result"
    }
   ],
   "source": [
    "list(df_result_2.columns.values)"
   ]
  },
  {
   "cell_type": "markdown",
   "metadata": {},
   "source": [
    "## check embedding coverage"
   ]
  },
  {
   "cell_type": "code",
   "execution_count": 30,
   "metadata": {
    "ExecuteTime": {
     "end_time": "2020-04-02T02:32:16.482812Z",
     "start_time": "2020-04-02T02:32:16.238453Z"
    }
   },
   "outputs": [
    {
     "data": {
      "text/plain": [
       "['360',\n",
       " 'contribtion',\n",
       " 'enquire',\n",
       " 'labour',\n",
       " 'malysian',\n",
       " 'nisp',\n",
       " 'nonsingaporean',\n",
       " 'nsip',\n",
       " 'ocbc',\n",
       " 'onetoken',\n",
       " 'resette',\n",
       " 'scamme',\n",
       " 'singapoeran',\n",
       " 'statemnt',\n",
       " 'unsuspend']"
      ]
     },
     "execution_count": 30,
     "metadata": {},
     "output_type": "execute_result"
    }
   ],
   "source": [
    "# check embedding coverage\n",
    "[x for x in feature_names if x not in word2vec.vocab]"
   ]
  },
  {
   "cell_type": "code",
   "execution_count": 31,
   "metadata": {
    "ExecuteTime": {
     "end_time": "2020-04-02T02:33:23.377191Z",
     "start_time": "2020-04-02T02:33:23.136843Z"
    }
   },
   "outputs": [
    {
     "name": "stdout",
     "output_type": "stream",
     "text": [
      "0.9553571428571429\n"
     ]
    }
   ],
   "source": [
    "print(len([x for x in feature_names if x in word2vec.vocab]) / len(feature_names))"
   ]
  },
  {
   "cell_type": "code",
   "execution_count": null,
   "metadata": {},
   "outputs": [],
   "source": []
  }
 ],
 "metadata": {
  "kernelspec": {
   "display_name": "Python [conda env:alert]",
   "language": "python",
   "name": "conda-env-alert-py"
  },
  "language_info": {
   "codemirror_mode": {
    "name": "ipython",
    "version": 3
   },
   "file_extension": ".py",
   "mimetype": "text/x-python",
   "name": "python",
   "nbconvert_exporter": "python",
   "pygments_lexer": "ipython3",
   "version": "3.6.10"
  },
  "toc": {
   "base_numbering": 1,
   "nav_menu": {},
   "number_sections": true,
   "sideBar": true,
   "skip_h1_title": false,
   "title_cell": "Table of Contents",
   "title_sidebar": "Contents",
   "toc_cell": false,
   "toc_position": {},
   "toc_section_display": true,
   "toc_window_display": true
  },
  "toc-autonumbering": true
 },
 "nbformat": 4,
 "nbformat_minor": 4
}
